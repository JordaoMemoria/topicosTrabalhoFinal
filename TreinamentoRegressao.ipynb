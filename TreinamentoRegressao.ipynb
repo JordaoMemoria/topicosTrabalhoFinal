{
 "cells": [
  {
   "cell_type": "markdown",
   "id": "particular-protest",
   "metadata": {},
   "source": [
    "# Treinamento regressão"
   ]
  },
  {
   "cell_type": "code",
   "execution_count": 1,
   "id": "excellent-nitrogen",
   "metadata": {},
   "outputs": [],
   "source": [
    "treinar = {\n",
    "    'GP': False,\n",
    "    'RegressaoLinear': True,\n",
    "    'BayesianLinearRegression': True,\n",
    "    'BayesianPolinomialLinearRegression': True,\n",
    "    'RBFLinearRegression': True,\n",
    "}"
   ]
  },
  {
   "cell_type": "code",
   "execution_count": 2,
   "id": "australian-flashing",
   "metadata": {},
   "outputs": [],
   "source": [
    "# Métrica da otimização bayesiana\n",
    "# Selecione: rmse, nlpd\n",
    "metrica = 'rmse'\n",
    "#metrica = 'nlpd'"
   ]
  },
  {
   "cell_type": "markdown",
   "id": "expired-vector",
   "metadata": {},
   "source": [
    "## Conjunto de dados"
   ]
  },
  {
   "cell_type": "code",
   "execution_count": 3,
   "id": "artistic-employer",
   "metadata": {},
   "outputs": [],
   "source": [
    "import numpy as np\n",
    "import pandas as pd\n",
    "\n",
    "dataset = pd.read_csv('housesToRentProcessed.csv', index_col=0)\n",
    "\n",
    "X = dataset[[\n",
    "    'São Paulo', 'Porto Alegre', 'Rio de Janeiro', 'Campinas', 'Belo Horizonte', \n",
    "    'area',\n",
    "    'rooms', 'bathroom', 'parking spaces', 'floor', 'isHouse', 'animal', 'furniture',\n",
    "]].values\n",
    "y = dataset[['y con + alu']].values"
   ]
  },
  {
   "cell_type": "markdown",
   "id": "conservative-static",
   "metadata": {},
   "source": [
    "### Descrição do conjunto de dados\n",
    "\n",
    "| Atributo         | Descrição                                           | Valor  |\n",
    "| ---------------- | --------------------------------------------------- | ------ |\n",
    "| `São Paulo`      | Imóvel está localizado na cidade de São Paulo?      | `int: 0 false - 1 true` |\n",
    "| `Porto Alegre`   | Imóvel está localizado na cidade de Porto Alegre?   | `int: 0 false - 1 true` |\n",
    "| `Rio de Janeiro` | Imóvel está localizado na cidade de Rio de Janeiro? | `int: 0 false - 1 true` |\n",
    "| `Campinas`       | Imóvel está localizado na cidade de Campinas?       | `int: 0 false - 1 true` |\n",
    "| `Belo Horizonte` | Imóvel está localizado na cidade de Belo Horizonte? | `int: 0 false - 1 true` |\n",
    "| `area`           | Área do imóvel (em metros quadrados)                | `float` |\n",
    "| `rooms`          | Quantidade de quartos                               | `int` |\n",
    "| `bathroom`       | Quantidade de banheiros                             | `int` |\n",
    "| `floor`          | Andar localizado o imóvel                           | `int`. `0` pressuposto para casa |\n",
    "| `isHouse`        | Imóvel corresponde a um aluguel de casa             | `int: 0 false - 1 true` |\n",
    "| `animal`         | É possivel levar animais para o imóvel              | `int: 0 false - 1 true` |\n",
    "| `furniture`      | Se a casa já vem mobiliada                          | `int: 0 false - 1 true` |\n",
    "| `y con + alu`    | Valor mensal total do aluguel do imóvel: aluguel + taxa de condomínio. | `float` |"
   ]
  },
  {
   "cell_type": "code",
   "execution_count": 4,
   "id": "eight-growing",
   "metadata": {},
   "outputs": [
    {
     "data": {
      "text/html": [
       "<div>\n",
       "<style scoped>\n",
       "    .dataframe tbody tr th:only-of-type {\n",
       "        vertical-align: middle;\n",
       "    }\n",
       "\n",
       "    .dataframe tbody tr th {\n",
       "        vertical-align: top;\n",
       "    }\n",
       "\n",
       "    .dataframe thead th {\n",
       "        text-align: right;\n",
       "    }\n",
       "</style>\n",
       "<table border=\"1\" class=\"dataframe\">\n",
       "  <thead>\n",
       "    <tr style=\"text-align: right;\">\n",
       "      <th></th>\n",
       "      <th>São Paulo</th>\n",
       "      <th>Porto Alegre</th>\n",
       "      <th>Rio de Janeiro</th>\n",
       "      <th>Campinas</th>\n",
       "      <th>Belo Horizonte</th>\n",
       "      <th>area</th>\n",
       "      <th>rooms</th>\n",
       "      <th>bathroom</th>\n",
       "      <th>parking spaces</th>\n",
       "      <th>floor</th>\n",
       "      <th>isHouse</th>\n",
       "      <th>animal</th>\n",
       "      <th>furniture</th>\n",
       "      <th>y con + alu</th>\n",
       "    </tr>\n",
       "  </thead>\n",
       "  <tbody>\n",
       "    <tr>\n",
       "      <th>3489</th>\n",
       "      <td>0</td>\n",
       "      <td>0</td>\n",
       "      <td>0</td>\n",
       "      <td>1</td>\n",
       "      <td>0</td>\n",
       "      <td>69</td>\n",
       "      <td>2</td>\n",
       "      <td>2</td>\n",
       "      <td>1</td>\n",
       "      <td>14</td>\n",
       "      <td>0</td>\n",
       "      <td>1</td>\n",
       "      <td>0</td>\n",
       "      <td>2125</td>\n",
       "    </tr>\n",
       "    <tr>\n",
       "      <th>669</th>\n",
       "      <td>1</td>\n",
       "      <td>0</td>\n",
       "      <td>0</td>\n",
       "      <td>0</td>\n",
       "      <td>0</td>\n",
       "      <td>450</td>\n",
       "      <td>4</td>\n",
       "      <td>5</td>\n",
       "      <td>6</td>\n",
       "      <td>1</td>\n",
       "      <td>1</td>\n",
       "      <td>1</td>\n",
       "      <td>0</td>\n",
       "      <td>12000</td>\n",
       "    </tr>\n",
       "    <tr>\n",
       "      <th>6003</th>\n",
       "      <td>0</td>\n",
       "      <td>0</td>\n",
       "      <td>0</td>\n",
       "      <td>0</td>\n",
       "      <td>1</td>\n",
       "      <td>61</td>\n",
       "      <td>3</td>\n",
       "      <td>1</td>\n",
       "      <td>1</td>\n",
       "      <td>2</td>\n",
       "      <td>0</td>\n",
       "      <td>1</td>\n",
       "      <td>0</td>\n",
       "      <td>1800</td>\n",
       "    </tr>\n",
       "    <tr>\n",
       "      <th>5333</th>\n",
       "      <td>1</td>\n",
       "      <td>0</td>\n",
       "      <td>0</td>\n",
       "      <td>0</td>\n",
       "      <td>0</td>\n",
       "      <td>54</td>\n",
       "      <td>2</td>\n",
       "      <td>2</td>\n",
       "      <td>1</td>\n",
       "      <td>2</td>\n",
       "      <td>0</td>\n",
       "      <td>1</td>\n",
       "      <td>0</td>\n",
       "      <td>2327</td>\n",
       "    </tr>\n",
       "    <tr>\n",
       "      <th>1524</th>\n",
       "      <td>0</td>\n",
       "      <td>0</td>\n",
       "      <td>0</td>\n",
       "      <td>1</td>\n",
       "      <td>0</td>\n",
       "      <td>85</td>\n",
       "      <td>3</td>\n",
       "      <td>2</td>\n",
       "      <td>1</td>\n",
       "      <td>7</td>\n",
       "      <td>0</td>\n",
       "      <td>1</td>\n",
       "      <td>0</td>\n",
       "      <td>2415</td>\n",
       "    </tr>\n",
       "  </tbody>\n",
       "</table>\n",
       "</div>"
      ],
      "text/plain": [
       "      São Paulo  Porto Alegre  Rio de Janeiro  Campinas  Belo Horizonte  area  \\\n",
       "3489          0             0               0         1               0    69   \n",
       "669           1             0               0         0               0   450   \n",
       "6003          0             0               0         0               1    61   \n",
       "5333          1             0               0         0               0    54   \n",
       "1524          0             0               0         1               0    85   \n",
       "\n",
       "      rooms  bathroom  parking spaces  floor  isHouse  animal  furniture  \\\n",
       "3489      2         2               1     14        0       1          0   \n",
       "669       4         5               6      1        1       1          0   \n",
       "6003      3         1               1      2        0       1          0   \n",
       "5333      2         2               1      2        0       1          0   \n",
       "1524      3         2               1      7        0       1          0   \n",
       "\n",
       "      y con + alu  \n",
       "3489         2125  \n",
       "669         12000  \n",
       "6003         1800  \n",
       "5333         2327  \n",
       "1524         2415  "
      ]
     },
     "execution_count": 4,
     "metadata": {},
     "output_type": "execute_result"
    }
   ],
   "source": [
    "dataset.head()"
   ]
  },
  {
   "cell_type": "markdown",
   "id": "minute-korea",
   "metadata": {},
   "source": [
    "### Separação de treino e teste\n",
    "\n",
    "Os dados foram separados em treino e em teste seguindo a proporção de $70\\%$ para treino e de $30\\%$ para testes. O processo de seleção do modelo será descrito posteriormente."
   ]
  },
  {
   "cell_type": "code",
   "execution_count": 5,
   "id": "theoretical-assessment",
   "metadata": {},
   "outputs": [
    {
     "name": "stdout",
     "output_type": "stream",
     "text": [
      "Quantidade de elementos para o treinamento: (7481, 13)\n",
      "Quantidade de elementos selecionados para teste: (3207, 13)\n"
     ]
    }
   ],
   "source": [
    "from sklearn.model_selection import train_test_split\n",
    "\n",
    "# FIXME: Separar respeitando a proproção em cada cidade\n",
    "X_train, X_test, y_train, y_test = train_test_split(X, y, test_size=0.3, random_state=42)\n",
    "\n",
    "#X_train = X_train[:5]\n",
    "#y_train = y_train[:5]\n",
    "\n",
    "print('Quantidade de elementos para o treinamento:', X_train.shape)\n",
    "print('Quantidade de elementos selecionados para teste:', X_test.shape)"
   ]
  },
  {
   "cell_type": "markdown",
   "id": "narrative-leave",
   "metadata": {},
   "source": [
    "### Normalização\n",
    "\n",
    "A normalização aplicada no conjunto de dados foi a [min/max scalling](https://scikit-learn.org/stable/modules/generated/sklearn.preprocessing.MinMaxScaler.html#sklearn.preprocessing.MinMaxScaler):\n",
    "\\begin{aligned}\n",
    "\\mathcal{D}_{std} &= \\frac{\\mathcal{D} - \\mathcal{D}.min(axis=0)}{\\mathcal{D}.max(axis=0) - \\mathcal{D}.min(axis=0)}; \\\\\n",
    "\\mathcal{D}_{scaled} &= \\mathcal{D}_{std} \\cdot (max - min) + min.\n",
    "\\end{aligned}\n",
    "A transformação aplicada, escala (dimensiona) e translada cada característica individualmente, de modo que esta esteja entre o intervalo $[0, 1]$.\n",
    "\n",
    "Como poderá ser visto adiante, este trabalho tomou o cuidado dos dados de validação e de teste serem transformados conforme os dados  a escala definida no treinamento."
   ]
  },
  {
   "cell_type": "code",
   "execution_count": 6,
   "id": "organizational-marsh",
   "metadata": {},
   "outputs": [],
   "source": [
    "from sklearn.preprocessing import MinMaxScaler\n",
    "\n",
    "Scaler = MinMaxScaler"
   ]
  },
  {
   "cell_type": "markdown",
   "id": "amber-toddler",
   "metadata": {},
   "source": [
    "## Treinamento\n",
    "\n",
    "Com o intuito de selecionar os melhores hiperparâmetros, para cada um dos modelo testados, foi realizado uma validação cruzada por meio de _5-folds_, onde ocorreu uma otimização bayesiana em cada um dos _folds_. Os hiperparâmetros foram selecionados de acordo com o resultado da métrica **DECIDIR**, descrita adiante neste trabalho.\n",
    "\n",
    "Após a seleção dos hiperparâmetros, cada um dos modelos foram avaliados com conjunto de testes por meio das métricas descritas a seguir."
   ]
  },
  {
   "cell_type": "markdown",
   "id": "functioning-weight",
   "metadata": {},
   "source": [
    "### Métricas\n",
    "\n",
    "#### Root Mean Squared Error (RMSE)\n",
    "\n",
    "__Root Mean Squared Error__ ou raiz do erro quadrático médio [_terminar_]\n",
    "\n",
    "\\begin{aligned}\n",
    "\\text{MSE}(\\boldsymbol{y}, \\hat{\\boldsymbol{y}}) &= \\frac{1}{N_\\text{teste}} \\sum_{i=1}^{N_\\text{teste}} (y_i - \\hat{y}_i)^2; \\\\\n",
    "\\text{RMSE}(\\boldsymbol{y}, \\hat{\\boldsymbol{y}}) &= \\sqrt{\\text{MSE}(\\boldsymbol{y}, \\hat{\\boldsymbol{y}})}\n",
    "\\end{aligned}"
   ]
  },
  {
   "cell_type": "code",
   "execution_count": 7,
   "id": "unauthorized-lighter",
   "metadata": {},
   "outputs": [],
   "source": [
    "from trabalho.util.metrica import rmse"
   ]
  },
  {
   "cell_type": "markdown",
   "id": "spread-category",
   "metadata": {},
   "source": [
    "#### Negative Log Predictive Density (NLPD)\n",
    "\n",
    "A métrica **Negative Log Predictive Density** (NLPD) leva em consideração a variância predita $\\hat{\\sigma}_i^2$, além dos valores esperados e preditos (média):\n",
    "\n",
    "\\begin{aligned}\n",
    "\\text{NLPD}\n",
    "&= -\\frac{1}{N_\\text{teste}}\n",
    "    \\sum_{i=1}^{N_\\text{teste}}\n",
    "    \\log \n",
    "    \\overbrace{p(y_i|\\boldsymbol{x}_i, \\boldsymbol{y}, \\boldsymbol{X}, \\hat{\\boldsymbol{\\theta}})}^{\\mathcal{N}(y_i|\\hat{\\mu}_i, \\hat{\\sigma}_i^2)}\n",
    "    \\\\\n",
    "&= \\frac{1}{2}\\log2\\pi + \\frac{1}{2 N_\\text{teste}}\n",
    "\\sum_{i=1}^{N_\\text{teste}} \\left[\\log \\hat{\\sigma}^2_i + \\frac{(y_i - \\hat{\\mu}_i)^2}{\\hat{\\sigma}^2_i}\\right]\n",
    "\\end{aligned}\n",
    "\n",
    "Conforme já discutido em aula, a NLPD busca realçar modelos equilibrandos, penalizando:\n",
    "* modelos muito confiantes nos casos de erros grandes ($\\sigma^2_i$ baixos para erros maiores), e;\n",
    "* modelos pouco confiantes nos casos de erros pequenos ($\\sigma^2_i$ altos para erros menores)."
   ]
  },
  {
   "cell_type": "code",
   "execution_count": 8,
   "id": "loved-warning",
   "metadata": {},
   "outputs": [],
   "source": [
    "from trabalho.util.metrica import nlpd"
   ]
  },
  {
   "cell_type": "markdown",
   "id": "wooden-bahrain",
   "metadata": {},
   "source": [
    "## Modelos utilizados"
   ]
  },
  {
   "cell_type": "code",
   "execution_count": 9,
   "id": "spectacular-month",
   "metadata": {},
   "outputs": [],
   "source": [
    "relatorio_modelos = pd.DataFrame(columns=['modelo', 'parametros', 'rmse', 'nlpd', 'fold'])"
   ]
  },
  {
   "cell_type": "markdown",
   "id": "quick-thunder",
   "metadata": {},
   "source": [
    "### Processos Gaussianos"
   ]
  },
  {
   "cell_type": "code",
   "execution_count": 10,
   "id": "champion-country",
   "metadata": {},
   "outputs": [
    {
     "data": {
      "text/plain": [
       "trabalho.modelos.gp.GP"
      ]
     },
     "execution_count": 10,
     "metadata": {},
     "output_type": "execute_result"
    }
   ],
   "source": [
    "from trabalho.modelos.gp import GP\n",
    "\n",
    "GP"
   ]
  },
  {
   "cell_type": "markdown",
   "id": "affected-brain",
   "metadata": {},
   "source": [
    "#### Hiperparâmetros a serem procurados"
   ]
  },
  {
   "cell_type": "code",
   "execution_count": 11,
   "id": "atlantic-skiing",
   "metadata": {},
   "outputs": [
    {
     "data": {
      "text/plain": [
       "[{'name': 'kernel', 'type': 'categorical', 'domain': [0, 1, 2, 3]},\n",
       " {'name': 'mean_function', 'type': 'categorical', 'domain': [0, 1]}]"
      ]
     },
     "execution_count": 11,
     "metadata": {},
     "output_type": "execute_result"
    }
   ],
   "source": [
    "from trabalho.util.otimizacao_bayesiana import Dominio\n",
    "import gpflow\n",
    "\n",
    "\n",
    "kernels = [\n",
    "    # Combinação de kernels\n",
    "    #gpflow.kernels.Combination(),\n",
    "    #gpflow.kernels.ChangePoints(),\n",
    "    #gpflow.kernels.Product(),\n",
    "    #gpflow.kernels.Sum(),\n",
    "    \n",
    "    # Imagem (convolução)\n",
    "    #gpflow.kernels.Convolutional(),\n",
    "    \n",
    "    # Dados estacionários\n",
    "    #gpflow.kernels.Stationary(),\n",
    "    #gpflow.kernels.Periodic(), # Can be used to wrap any Stationary kernel to transform it into a periodic version\n",
    "    #gpflow.kernels.AnisotropicStationary(), \n",
    "    #gpflow.kernels.IsotropicStationary(),\n",
    "    \n",
    "    # Multi objetivo\n",
    "    #gpflow.kernels.MultioutputKernel(),\n",
    "    #gpflow.kernels.IndependentLatent(),\n",
    "    #gpflow.kernels.LinearCoregionalization(),\n",
    "    #gpflow.kernels.SeparateIndependent(),\n",
    "    #gpflow.kernels.SharedIndependent(),\n",
    "    \n",
    "    # Outros exóticos\n",
    "    #gpflow.kernels.Coregion(),\n",
    "    \n",
    "    # Ok\n",
    "    #gpflow.kernels.Kernel(), # Classe base\n",
    "    #gpflow.kernels.Static(), # Classe base\n",
    "    \n",
    "    #gpflow.kernels.ArcCosine(),\n",
    "    #gpflow.kernels.Constant(),\n",
    "    #gpflow.kernels.Cosine(),\n",
    "    #gpflow.kernels.Exponential(),\n",
    "    #gpflow.kernels.Linear(),\n",
    "    \n",
    "    gpflow.kernels.Matern12(),\n",
    "    gpflow.kernels.Matern32(),\n",
    "    gpflow.kernels.Matern52(),\n",
    "    \n",
    "    #gpflow.kernels.Polynomial(),\n",
    "    gpflow.kernels.SquaredExponential(), # RBF\n",
    "    #gpflow.kernels.RationalQuadratic(),\n",
    "    \n",
    "    #gpflow.kernels.White(),\n",
    "]\n",
    "\n",
    "\n",
    "means = [\n",
    "    # Padrão\n",
    "    gpflow.mean_functions.Zero(),\n",
    "    # Média\n",
    "    gpflow.mean_functions.Linear(),\n",
    "]\n",
    "\n",
    "dominio_gp = Dominio([\n",
    "    # https://gpflow.readthedocs.io/en/master/gpflow/kernels/#gpflow-kernels-linear\n",
    "    {\n",
    "        'name': 'kernel',\n",
    "        'type': 'categorical',\n",
    "        'domain': kernels\n",
    "    },\n",
    "    {\n",
    "        'name': 'mean_function',\n",
    "        'type': 'categorical',\n",
    "        'domain': means\n",
    "    },\n",
    "#     {'name': 'learning_rate',   'type': 'continuous', 'domain': (0.0001, 0.02)},\n",
    "#     {'name': 'sampling_method', 'type': 'discrete',   'domain': (1, 3, 5)},\n",
    "#     {'name': 'regularization',  'type': 'continuous', 'domain': (0.00001, 0.01)},\n",
    "#     {'name': 'batch_size',      'type': 'discrete',   'domain': (10, 16, 32)},\n",
    "])\n",
    "\n",
    "dominio_gp.dominio"
   ]
  },
  {
   "cell_type": "markdown",
   "id": "composite-approach",
   "metadata": {},
   "source": [
    "### Regressão Linear"
   ]
  },
  {
   "cell_type": "markdown",
   "id": "federal-acoustic",
   "metadata": {},
   "source": [
    "#### Regressão Linear (não bayesiana)"
   ]
  },
  {
   "cell_type": "code",
   "execution_count": 12,
   "id": "extra-detail",
   "metadata": {},
   "outputs": [
    {
     "data": {
      "text/plain": [
       "trabalho.modelos.regressao_linear.RegressaoLinear"
      ]
     },
     "execution_count": 12,
     "metadata": {},
     "output_type": "execute_result"
    }
   ],
   "source": [
    "from trabalho.modelos.regressao_linear import RegressaoLinear\n",
    "\n",
    "RegressaoLinear"
   ]
  },
  {
   "cell_type": "markdown",
   "id": "professional-lindsay",
   "metadata": {},
   "source": [
    "##### Hiperparâmetros a serem procurados"
   ]
  },
  {
   "cell_type": "code",
   "execution_count": 13,
   "id": "cellular-reunion",
   "metadata": {},
   "outputs": [],
   "source": [
    "dominio_regressao_linear = Dominio([])"
   ]
  },
  {
   "cell_type": "markdown",
   "id": "united-separate",
   "metadata": {},
   "source": [
    "#### Regressão Linear Bayesiana"
   ]
  },
  {
   "cell_type": "code",
   "execution_count": 14,
   "id": "spiritual-carbon",
   "metadata": {},
   "outputs": [
    {
     "data": {
      "text/plain": [
       "trabalho.modelos.bayesian_linear_regression.BayesianLinearRegression"
      ]
     },
     "execution_count": 14,
     "metadata": {},
     "output_type": "execute_result"
    }
   ],
   "source": [
    "from trabalho.modelos.bayesian_linear_regression import BayesianLinearRegression\n",
    "\n",
    "BayesianLinearRegression"
   ]
  },
  {
   "cell_type": "markdown",
   "id": "broke-observation",
   "metadata": {},
   "source": [
    "##### Hiperparâmetros a serem procurados"
   ]
  },
  {
   "cell_type": "code",
   "execution_count": 15,
   "id": "hungry-latino",
   "metadata": {},
   "outputs": [],
   "source": [
    "dominio_regressao_linear_bayesiana = Dominio([\n",
    "    {\n",
    "        'name': 'alphaInit',\n",
    "        'type': 'continuous',\n",
    "        'domain': (1e-7, 1.1)\n",
    "    },\n",
    "    {\n",
    "        'name': 'lambdaInit',\n",
    "        'type': 'continuous',\n",
    "        'domain': (1e-7, 1.1)\n",
    "    }\n",
    "])"
   ]
  },
  {
   "cell_type": "markdown",
   "id": "bronze-scholar",
   "metadata": {},
   "source": [
    "#### Regressão Linear Bayesiana Polinomial"
   ]
  },
  {
   "cell_type": "code",
   "execution_count": 16,
   "id": "directed-hygiene",
   "metadata": {},
   "outputs": [
    {
     "data": {
      "text/plain": [
       "trabalho.modelos.bayesian_polinomial_linear_regression.BayesianPolinomialLinearRegression"
      ]
     },
     "execution_count": 16,
     "metadata": {},
     "output_type": "execute_result"
    }
   ],
   "source": [
    "from trabalho.modelos.bayesian_polinomial_linear_regression import BayesianPolinomialLinearRegression\n",
    "\n",
    "BayesianPolinomialLinearRegression"
   ]
  },
  {
   "cell_type": "markdown",
   "id": "egyptian-cooling",
   "metadata": {},
   "source": [
    "##### Hiperparâmetros a serem procurados"
   ]
  },
  {
   "cell_type": "code",
   "execution_count": 17,
   "id": "interpreted-interval",
   "metadata": {},
   "outputs": [],
   "source": [
    "dominio_regressao_linear_bayesiana_polinomial = Dominio([\n",
    "    {\n",
    "        'name': 'alphaInit',\n",
    "        'type': 'continuous',\n",
    "        'domain': (0.0001, 1.1)\n",
    "    },\n",
    "    {\n",
    "        'name': 'lambdaInit',\n",
    "        'type': 'continuous',\n",
    "        'domain': (0.0001, 1.1)\n",
    "    },\n",
    "    {\n",
    "        'name': 'order',\n",
    "        'type': 'discrete',\n",
    "        'domain': (2, 3, 4, 5, 6, 7, 8, 9, 10)\n",
    "    }\n",
    "])"
   ]
  },
  {
   "cell_type": "markdown",
   "id": "juvenile-terminology",
   "metadata": {},
   "source": [
    "#### Regressão Linear Bayesiana com kernel RBF"
   ]
  },
  {
   "cell_type": "code",
   "execution_count": 18,
   "id": "subsequent-secretary",
   "metadata": {},
   "outputs": [
    {
     "data": {
      "text/plain": [
       "trabalho.modelos.rbf_linear_regression.RBFLinearRegression"
      ]
     },
     "execution_count": 18,
     "metadata": {},
     "output_type": "execute_result"
    }
   ],
   "source": [
    "from trabalho.modelos.rbf_linear_regression import RBFLinearRegression\n",
    "\n",
    "RBFLinearRegression"
   ]
  },
  {
   "cell_type": "markdown",
   "id": "located-youth",
   "metadata": {},
   "source": [
    "##### Hiperparâmetros a serem procurados"
   ]
  },
  {
   "cell_type": "code",
   "execution_count": 19,
   "id": "desirable-stewart",
   "metadata": {},
   "outputs": [],
   "source": [
    "dominio_regressao_linear_bayesiana_rbf = Dominio([\n",
    "#     {\n",
    "#         'name': 'm0',\n",
    "#         'type': 'continuous',\n",
    "#         'domain': (0.0001, 1.1)\n",
    "#     },\n",
    "#     {\n",
    "#         'name': 'S0',\n",
    "#         'type': 'continuous',\n",
    "#         'domain': (0.0001, 1.1)\n",
    "#     },\n",
    "    {\n",
    "        'name': 'sig2_error',\n",
    "        'type': 'continuous',\n",
    "        'domain': (1e-7, 1)\n",
    "    },\n",
    "    {\n",
    "        'name': 'mean_rbf_arbitrario',\n",
    "        'type': 'continuous',\n",
    "        'domain': (-1, 1)\n",
    "    },\n",
    "    {\n",
    "        'name': 'lambda_rbf_arbitrario',\n",
    "        'type': 'continuous',\n",
    "        'domain': (1e-7, 1)\n",
    "    }\n",
    "])"
   ]
  },
  {
   "cell_type": "markdown",
   "id": "ambient-replication",
   "metadata": {},
   "source": [
    "### Validação - Seleção de modelos"
   ]
  },
  {
   "cell_type": "code",
   "execution_count": 20,
   "id": "opponent-terrorism",
   "metadata": {},
   "outputs": [],
   "source": [
    "from trabalho.util.kfold import KFoldCrossValidation\n",
    "from GPyOpt.methods import BayesianOptimization\n",
    "from tqdm import tqdm\n",
    "\n",
    "\n",
    "def f(Modelo, X, y, metrica, k_folds, relatorio_geral, **kwargs):\n",
    "    relatorio_parcial = pd.DataFrame(columns=['modelo', 'parametros', 'rmse', 'nlpd', 'fold', 'tentativa'])\n",
    "    \n",
    "    for fold, X_train, X_validation, y_train, y_validation in tqdm(KFoldCrossValidation(X, y, k_folds).split(), total=k_folds, desc=\"k-fold\"):\n",
    "        resultado = treinar_modelo(Modelo, X_train, X_validation, y_train, y_validation, **kwargs)\n",
    "        \n",
    "        total_execucoes = len(relatorio_geral)\n",
    "        tentativa = (total_execucoes - total_execucoes % k_folds) / k_folds\n",
    "        \n",
    "        relatorio_parcial.loc[len(relatorio_parcial)] = resultado + [fold, tentativa]\n",
    "        relatorio_geral.loc[total_execucoes] = resultado + [fold, tentativa]\n",
    "\n",
    "\n",
    "    medias = relatorio_parcial.mean()\n",
    "    \n",
    "    # Fixme: juntar com o relatório final\n",
    "    #relatorio_parcial\n",
    "    \n",
    "    return medias[metrica]\n",
    "\n",
    "\n",
    "def treinar_modelo(Modelo, X_train, X_validation, y_train, y_validation, **kwargs):\n",
    "    X_scaler = Scaler()\n",
    "    y_scaler = Scaler()\n",
    "\n",
    "    X_train_transform      = X_scaler.fit_transform(X_train)\n",
    "    X_validation_transform = X_scaler.transform(X_validation)\n",
    "    y_train_transform      = y_scaler.fit_transform(y_train)\n",
    "    y_validation_transform = y_scaler.transform(y_validation)\n",
    "\n",
    "    modelo = Modelo(**kwargs)\n",
    "    modelo.fit(X_train_transform, y_train_transform)\n",
    "\n",
    "    means, vars = modelo.predict(X_validation_transform)\n",
    "    means = means.reshape((-1, 1))\n",
    "\n",
    "    means_dimensao_correta = y_scaler.inverse_transform(means)\n",
    "    #vars_dimensao_correta = # Perguntar ao Madson\n",
    "    vars_dimensao_correta = vars\n",
    "\n",
    "    erro_rmse = rmse(means_dimensao_correta, y_validation)\n",
    "    erro_nlpd = nlpd(means_dimensao_correta, vars_dimensao_correta, y_validation)\n",
    "    \n",
    "    return [Modelo.__name__, kwargs, erro_rmse, erro_nlpd]\n",
    "\n",
    "\n",
    "def otimizacao_bayesiana(Modelo, dominio, X, y, k_folds=5, metrica='rmse'):\n",
    "    relatorio = pd.DataFrame(columns=['modelo', 'parametros', 'rmse', 'nlpd', 'fold', 'tentativa'])\n",
    "    funcao = dominio.gerar_f(Modelo=Modelo, f=f, X=X, y=y, k_folds=5, metrica=metrica, relatorio_geral=relatorio)\n",
    "\n",
    "    bo = BayesianOptimization(f=funcao, domain=dominio.dominio, verbosity=True)\n",
    "    bo.run_optimization(max_iter=50)\n",
    "\n",
    "    try:\n",
    "        bo.plot_convergence()\n",
    "        bo.plot_acquisition()\n",
    "    except Exception as e:\n",
    "        print(e)\n",
    "\n",
    "    print('RMSE:', bo.fx_opt)\n",
    "    print('Parâmetros:', bo.x_opt)\n",
    "\n",
    "    return relatorio"
   ]
  },
  {
   "cell_type": "code",
   "execution_count": 21,
   "id": "fresh-field",
   "metadata": {},
   "outputs": [],
   "source": [
    "modelos = {\n",
    "    'GP': (GP, dominio_gp),\n",
    "    'RegressaoLinear': (RegressaoLinear, dominio_regressao_linear),\n",
    "    'BayesianLinearRegression': (BayesianLinearRegression, dominio_regressao_linear_bayesiana),\n",
    "    'BayesianPolinomialLinearRegression': (BayesianPolinomialLinearRegression, dominio_regressao_linear_bayesiana_polinomial),\n",
    "    'RBFLinearRegression': (RBFLinearRegression, dominio_regressao_linear_bayesiana_rbf),\n",
    "}"
   ]
  },
  {
   "cell_type": "code",
   "execution_count": 22,
   "id": "dying-ownership",
   "metadata": {},
   "outputs": [
    {
     "name": "stderr",
     "output_type": "stream",
     "text": [
      "k-fold: 100%|██████████| 5/5 [00:00<00:00, 35.45it/s]\n",
      "k-fold:   0%|          | 0/5 [00:00<?, ?it/s]"
     ]
    },
    {
     "name": "stdout",
     "output_type": "stream",
     "text": [
      "GP False\n",
      "RegressaoLinear True\n"
     ]
    },
    {
     "name": "stderr",
     "output_type": "stream",
     "text": [
      "k-fold: 100%|██████████| 5/5 [00:00<00:00, 42.87it/s]\n",
      "k-fold: 100%|██████████| 5/5 [00:00<00:00, 75.08it/s]\n",
      "k-fold: 100%|██████████| 5/5 [00:00<00:00, 58.89it/s]\n",
      "k-fold: 100%|██████████| 5/5 [00:00<00:00, 48.94it/s]\n"
     ]
    },
    {
     "data": {
      "image/png": "[encoded data removed]",
      "text/plain": [
       "<Figure size 720x360 with 2 Axes>"
      ]
     },
     "metadata": {
      "needs_background": "light"
     },
     "output_type": "display_data"
    },
    {
     "name": "stderr",
     "output_type": "stream",
     "text": [
      "k-fold:  20%|██        | 1/5 [00:00<00:00,  5.63it/s]"
     ]
    },
    {
     "name": "stdout",
     "output_type": "stream",
     "text": [
      "not enough values to unpack (expected 2, got 0)\n",
      "RMSE: 2691.8796235533614\n",
      "Parâmetros: []\n",
      "BayesianLinearRegression True\n"
     ]
    },
    {
     "name": "stderr",
     "output_type": "stream",
     "text": [
      "k-fold: 100%|██████████| 5/5 [00:00<00:00,  5.87it/s]\n",
      "k-fold: 100%|██████████| 5/5 [00:00<00:00,  5.16it/s]\n",
      "k-fold: 100%|██████████| 5/5 [00:01<00:00,  4.40it/s]\n",
      "k-fold: 100%|██████████| 5/5 [00:01<00:00,  4.45it/s]\n",
      "k-fold: 100%|██████████| 5/5 [00:01<00:00,  4.99it/s]\n",
      "k-fold: 100%|██████████| 5/5 [00:01<00:00,  4.83it/s]\n",
      "k-fold: 100%|██████████| 5/5 [00:01<00:00,  4.33it/s]\n",
      "k-fold: 100%|██████████| 5/5 [00:01<00:00,  4.65it/s]\n",
      "k-fold: 100%|██████████| 5/5 [00:01<00:00,  4.80it/s]\n",
      "k-fold: 100%|██████████| 5/5 [00:01<00:00,  4.95it/s]\n",
      "k-fold: 100%|██████████| 5/5 [00:01<00:00,  5.00it/s]\n",
      "k-fold: 100%|██████████| 5/5 [00:00<00:00,  5.08it/s]\n",
      "k-fold: 100%|██████████| 5/5 [00:01<00:00,  3.81it/s]\n",
      "k-fold: 100%|██████████| 5/5 [00:01<00:00,  4.13it/s]\n",
      "k-fold: 100%|██████████| 5/5 [00:01<00:00,  4.32it/s]\n",
      "k-fold: 100%|██████████| 5/5 [00:01<00:00,  4.52it/s]\n",
      "k-fold: 100%|██████████| 5/5 [00:01<00:00,  4.83it/s]\n",
      "k-fold: 100%|██████████| 5/5 [00:01<00:00,  4.59it/s]\n",
      "k-fold: 100%|██████████| 5/5 [00:01<00:00,  4.91it/s]\n",
      "k-fold: 100%|██████████| 5/5 [00:01<00:00,  4.64it/s]\n",
      "k-fold: 100%|██████████| 5/5 [00:01<00:00,  4.07it/s]\n",
      "k-fold: 100%|██████████| 5/5 [00:01<00:00,  4.43it/s]\n",
      "k-fold: 100%|██████████| 5/5 [00:01<00:00,  4.63it/s]\n",
      "k-fold: 100%|██████████| 5/5 [00:01<00:00,  3.87it/s]\n",
      "k-fold: 100%|██████████| 5/5 [00:01<00:00,  4.40it/s]\n",
      "k-fold: 100%|██████████| 5/5 [00:01<00:00,  3.78it/s]\n",
      "k-fold: 100%|██████████| 5/5 [00:01<00:00,  4.10it/s]\n",
      "k-fold: 100%|██████████| 5/5 [00:01<00:00,  4.58it/s]\n",
      "k-fold: 100%|██████████| 5/5 [00:01<00:00,  4.60it/s]\n",
      "k-fold: 100%|██████████| 5/5 [00:01<00:00,  4.42it/s]\n",
      "k-fold: 100%|██████████| 5/5 [00:01<00:00,  4.65it/s]\n",
      "k-fold: 100%|██████████| 5/5 [00:01<00:00,  3.93it/s]\n",
      "k-fold: 100%|██████████| 5/5 [00:01<00:00,  4.62it/s]\n",
      "k-fold: 100%|██████████| 5/5 [00:01<00:00,  4.30it/s]\n",
      "k-fold: 100%|██████████| 5/5 [00:01<00:00,  4.97it/s]\n",
      "k-fold: 100%|██████████| 5/5 [00:01<00:00,  4.85it/s]\n",
      "k-fold: 100%|██████████| 5/5 [00:01<00:00,  4.39it/s]\n",
      "k-fold: 100%|██████████| 5/5 [00:01<00:00,  4.84it/s]\n",
      "k-fold: 100%|██████████| 5/5 [00:01<00:00,  4.58it/s]\n",
      "k-fold: 100%|██████████| 5/5 [00:01<00:00,  4.86it/s]\n",
      "k-fold: 100%|██████████| 5/5 [00:01<00:00,  4.54it/s]\n",
      "k-fold: 100%|██████████| 5/5 [00:01<00:00,  4.44it/s]\n",
      "k-fold: 100%|██████████| 5/5 [00:01<00:00,  4.50it/s]\n",
      "k-fold: 100%|██████████| 5/5 [00:01<00:00,  4.55it/s]\n",
      "k-fold: 100%|██████████| 5/5 [00:01<00:00,  4.48it/s]\n",
      "k-fold: 100%|██████████| 5/5 [00:01<00:00,  3.84it/s]\n",
      "k-fold: 100%|██████████| 5/5 [00:01<00:00,  4.50it/s]\n",
      "k-fold: 100%|██████████| 5/5 [00:01<00:00,  4.43it/s]\n",
      "k-fold: 100%|██████████| 5/5 [00:01<00:00,  4.61it/s]\n",
      "k-fold: 100%|██████████| 5/5 [00:01<00:00,  4.81it/s]\n",
      "k-fold: 100%|██████████| 5/5 [00:01<00:00,  4.51it/s]\n",
      "k-fold: 100%|██████████| 5/5 [00:01<00:00,  4.39it/s]\n",
      "k-fold: 100%|██████████| 5/5 [00:01<00:00,  4.55it/s]\n",
      "k-fold: 100%|██████████| 5/5 [00:01<00:00,  4.48it/s]\n",
      "k-fold: 100%|██████████| 5/5 [00:01<00:00,  4.47it/s]\n"
     ]
    },
    {
     "data": {
      "image/png": "[encoded data removed]",
      "text/plain": [
       "<Figure size 720x360 with 2 Axes>"
      ]
     },
     "metadata": {
      "needs_background": "light"
     },
     "output_type": "display_data"
    },
    {
     "data": {
      "image/png": "[encoded data removed]",
      "text/plain": [
       "<Figure size 1080x360 with 6 Axes>"
      ]
     },
     "metadata": {
      "needs_background": "light"
     },
     "output_type": "display_data"
    },
    {
     "name": "stderr",
     "output_type": "stream",
     "text": [
      "k-fold:   0%|          | 0/5 [00:00<?, ?it/s]"
     ]
    },
    {
     "name": "stdout",
     "output_type": "stream",
     "text": [
      "RMSE: 2692.1295234728013\n",
      "Parâmetros: [0.96474184 0.1846786 ]\n",
      "BayesianPolinomialLinearRegression True\n"
     ]
    },
    {
     "name": "stderr",
     "output_type": "stream",
     "text": [
      "k-fold: 100%|██████████| 5/5 [00:02<00:00,  1.99it/s]\n",
      "k-fold: 100%|██████████| 5/5 [00:03<00:00,  1.54it/s]\n",
      "k-fold: 100%|██████████| 5/5 [00:02<00:00,  1.85it/s]\n",
      "k-fold: 100%|██████████| 5/5 [00:02<00:00,  2.44it/s]\n",
      "k-fold: 100%|██████████| 5/5 [00:03<00:00,  1.63it/s]\n",
      "k-fold: 100%|██████████| 5/5 [00:02<00:00,  1.94it/s]\n",
      "k-fold: 100%|██████████| 5/5 [00:01<00:00,  3.04it/s]\n",
      "k-fold: 100%|██████████| 5/5 [00:01<00:00,  2.53it/s]\n",
      "k-fold: 100%|██████████| 5/5 [00:01<00:00,  3.44it/s]\n",
      "k-fold: 100%|██████████| 5/5 [00:02<00:00,  1.78it/s]\n",
      "k-fold: 100%|██████████| 5/5 [00:01<00:00,  3.49it/s]\n",
      "k-fold: 100%|██████████| 5/5 [00:02<00:00,  2.03it/s]\n",
      "k-fold: 100%|██████████| 5/5 [00:02<00:00,  1.90it/s]\n",
      "k-fold: 100%|██████████| 5/5 [00:01<00:00,  3.43it/s]\n",
      "k-fold: 100%|██████████| 5/5 [00:02<00:00,  1.77it/s]\n",
      "k-fold: 100%|██████████| 5/5 [00:01<00:00,  2.98it/s]\n",
      "k-fold: 100%|██████████| 5/5 [00:01<00:00,  2.70it/s]\n",
      "k-fold: 100%|██████████| 5/5 [00:02<00:00,  1.97it/s]\n",
      "k-fold: 100%|██████████| 5/5 [00:01<00:00,  3.21it/s]\n",
      "k-fold: 100%|██████████| 5/5 [00:01<00:00,  3.13it/s]\n",
      "k-fold: 100%|██████████| 5/5 [00:01<00:00,  2.87it/s]\n",
      "k-fold: 100%|██████████| 5/5 [00:02<00:00,  1.79it/s]\n",
      "k-fold: 100%|██████████| 5/5 [00:02<00:00,  1.74it/s]\n"
     ]
    },
    {
     "data": {
      "image/png": "[encoded data removed]",
      "text/plain": [
       "<Figure size 720x360 with 2 Axes>"
      ]
     },
     "metadata": {
      "needs_background": "light"
     },
     "output_type": "display_data"
    },
    {
     "name": "stderr",
     "output_type": "stream",
     "text": [
      "k-fold:   0%|          | 0/5 [00:00<?, ?it/s]"
     ]
    },
    {
     "name": "stdout",
     "output_type": "stream",
     "text": [
      "RMSE: 2609.5225164465005\n",
      "Parâmetros: [0.80674505 0.90237157 7.        ]\n",
      "RBFLinearRegression True\n"
     ]
    },
    {
     "name": "stderr",
     "output_type": "stream",
     "text": [
      "k-fold: 100%|██████████| 5/5 [00:02<00:00,  2.10it/s]\n",
      "k-fold: 100%|██████████| 5/5 [00:02<00:00,  2.21it/s]\n",
      "k-fold: 100%|██████████| 5/5 [00:02<00:00,  2.18it/s]\n",
      "k-fold: 100%|██████████| 5/5 [00:02<00:00,  2.18it/s]\n",
      "k-fold: 100%|██████████| 5/5 [00:02<00:00,  2.19it/s]\n",
      "k-fold: 100%|██████████| 5/5 [00:02<00:00,  2.16it/s]\n",
      "k-fold: 100%|██████████| 5/5 [00:02<00:00,  2.02it/s]\n",
      "k-fold: 100%|██████████| 5/5 [00:02<00:00,  2.12it/s]\n",
      "k-fold: 100%|██████████| 5/5 [00:02<00:00,  2.10it/s]\n",
      "k-fold: 100%|██████████| 5/5 [00:02<00:00,  2.09it/s]\n",
      "k-fold: 100%|██████████| 5/5 [00:02<00:00,  1.99it/s]\n",
      "k-fold: 100%|██████████| 5/5 [00:02<00:00,  2.05it/s]\n",
      "k-fold: 100%|██████████| 5/5 [00:02<00:00,  2.10it/s]\n",
      "k-fold: 100%|██████████| 5/5 [00:02<00:00,  2.10it/s]\n",
      "k-fold: 100%|██████████| 5/5 [00:02<00:00,  2.17it/s]\n",
      "k-fold: 100%|██████████| 5/5 [00:02<00:00,  2.11it/s]\n",
      "k-fold: 100%|██████████| 5/5 [00:02<00:00,  2.05it/s]\n",
      "k-fold: 100%|██████████| 5/5 [00:02<00:00,  2.11it/s]\n",
      "k-fold: 100%|██████████| 5/5 [00:02<00:00,  1.97it/s]\n",
      "k-fold: 100%|██████████| 5/5 [00:02<00:00,  2.01it/s]\n",
      "k-fold: 100%|██████████| 5/5 [00:02<00:00,  2.01it/s]\n",
      "k-fold: 100%|██████████| 5/5 [00:02<00:00,  2.01it/s]\n",
      "k-fold: 100%|██████████| 5/5 [00:02<00:00,  2.05it/s]\n",
      "k-fold: 100%|██████████| 5/5 [00:02<00:00,  1.96it/s]\n",
      "k-fold: 100%|██████████| 5/5 [00:02<00:00,  1.97it/s]\n",
      "k-fold: 100%|██████████| 5/5 [00:02<00:00,  2.33it/s]\n",
      "k-fold: 100%|██████████| 5/5 [00:02<00:00,  2.16it/s]\n",
      "k-fold: 100%|██████████| 5/5 [00:02<00:00,  2.11it/s]\n",
      "k-fold: 100%|██████████| 5/5 [00:02<00:00,  2.11it/s]\n",
      "k-fold: 100%|██████████| 5/5 [00:02<00:00,  2.02it/s]\n",
      "k-fold: 100%|██████████| 5/5 [00:02<00:00,  2.20it/s]\n",
      "k-fold: 100%|██████████| 5/5 [00:02<00:00,  1.84it/s]\n",
      "k-fold: 100%|██████████| 5/5 [00:02<00:00,  2.11it/s]\n",
      "k-fold: 100%|██████████| 5/5 [00:02<00:00,  2.03it/s]\n",
      "k-fold: 100%|██████████| 5/5 [00:02<00:00,  2.08it/s]\n",
      "k-fold: 100%|██████████| 5/5 [00:02<00:00,  2.11it/s]\n",
      "k-fold: 100%|██████████| 5/5 [00:02<00:00,  2.15it/s]\n",
      "k-fold: 100%|██████████| 5/5 [00:02<00:00,  2.10it/s]\n",
      "k-fold: 100%|██████████| 5/5 [00:02<00:00,  2.12it/s]\n",
      "k-fold: 100%|██████████| 5/5 [00:02<00:00,  2.08it/s]\n",
      "k-fold: 100%|██████████| 5/5 [00:02<00:00,  2.03it/s]\n",
      "k-fold: 100%|██████████| 5/5 [00:02<00:00,  2.11it/s]\n",
      "k-fold: 100%|██████████| 5/5 [00:02<00:00,  1.97it/s]\n",
      "k-fold: 100%|██████████| 5/5 [00:02<00:00,  2.02it/s]\n",
      "k-fold: 100%|██████████| 5/5 [00:02<00:00,  2.11it/s]\n",
      "k-fold: 100%|██████████| 5/5 [00:02<00:00,  2.11it/s]\n",
      "k-fold: 100%|██████████| 5/5 [00:02<00:00,  2.04it/s]\n",
      "k-fold: 100%|██████████| 5/5 [00:02<00:00,  2.14it/s]\n",
      "k-fold: 100%|██████████| 5/5 [00:02<00:00,  2.11it/s]\n",
      "k-fold: 100%|██████████| 5/5 [00:02<00:00,  2.10it/s]\n",
      "k-fold: 100%|██████████| 5/5 [00:02<00:00,  2.11it/s]\n",
      "k-fold: 100%|██████████| 5/5 [00:02<00:00,  2.12it/s]\n",
      "k-fold: 100%|██████████| 5/5 [00:02<00:00,  2.08it/s]\n",
      "k-fold: 100%|██████████| 5/5 [00:03<00:00,  1.59it/s]\n",
      "k-fold: 100%|██████████| 5/5 [00:02<00:00,  2.11it/s]\n"
     ]
    },
    {
     "data": {
      "image/png": "[encoded data removed]",
      "text/plain": [
       "<Figure size 720x360 with 2 Axes>"
      ]
     },
     "metadata": {
      "needs_background": "light"
     },
     "output_type": "display_data"
    },
    {
     "name": "stdout",
     "output_type": "stream",
     "text": [
      "RMSE: 2650.9405635772937\n",
      "Parâmetros: [ 0.55182664 -1.          0.03325333]\n"
     ]
    }
   ],
   "source": [
    "relatorio_modelos = pd.DataFrame(columns=['modelo', 'parametros', 'rmse', 'nlpd', 'fold', 'tentativa'])\n",
    "\n",
    "\n",
    "for modelo, (Classe, dominio) in modelos.items():\n",
    "    print(modelo, treinar[modelo])\n",
    "    if treinar[modelo]:\n",
    "        resultado_parcial = otimizacao_bayesiana(Modelo=Classe, dominio=dominio, X=X_train, y=y_train, metrica=metrica)\n",
    "        relatorio_modelos = pd.concat([relatorio_modelos, resultado_parcial])\n",
    "        resultado_parcial.to_csv(f'resultados/parciais/{modelo}_{metrica}.csv')"
   ]
  },
  {
   "cell_type": "markdown",
   "id": "medium-latvia",
   "metadata": {},
   "source": [
    "#### Resultado prelimiar"
   ]
  },
  {
   "cell_type": "code",
   "execution_count": 23,
   "id": "environmental-ownership",
   "metadata": {},
   "outputs": [
    {
     "data": {
      "text/html": [
       "<div>\n",
       "<style scoped>\n",
       "    .dataframe tbody tr th:only-of-type {\n",
       "        vertical-align: middle;\n",
       "    }\n",
       "\n",
       "    .dataframe tbody tr th {\n",
       "        vertical-align: top;\n",
       "    }\n",
       "\n",
       "    .dataframe thead tr th {\n",
       "        text-align: left;\n",
       "    }\n",
       "\n",
       "    .dataframe thead tr:last-of-type th {\n",
       "        text-align: right;\n",
       "    }\n",
       "</style>\n",
       "<table border=\"1\" class=\"dataframe\">\n",
       "  <thead>\n",
       "    <tr>\n",
       "      <th></th>\n",
       "      <th>tentativa</th>\n",
       "      <th colspan=\"2\" halign=\"left\">rmse</th>\n",
       "      <th colspan=\"2\" halign=\"left\">nlpd</th>\n",
       "    </tr>\n",
       "    <tr>\n",
       "      <th></th>\n",
       "      <th></th>\n",
       "      <th>mean</th>\n",
       "      <th>std</th>\n",
       "      <th>mean</th>\n",
       "      <th>std</th>\n",
       "    </tr>\n",
       "    <tr>\n",
       "      <th>modelo</th>\n",
       "      <th></th>\n",
       "      <th></th>\n",
       "      <th></th>\n",
       "      <th></th>\n",
       "      <th></th>\n",
       "    </tr>\n",
       "  </thead>\n",
       "  <tbody>\n",
       "    <tr>\n",
       "      <th>BayesianLinearRegression</th>\n",
       "      <td>42.0</td>\n",
       "      <td>2692.129523</td>\n",
       "      <td>289.391808</td>\n",
       "      <td>2.858466e+09</td>\n",
       "      <td>7.494464e+08</td>\n",
       "    </tr>\n",
       "    <tr>\n",
       "      <th>BayesianPolinomialLinearRegression</th>\n",
       "      <td>0.0</td>\n",
       "      <td>2609.522516</td>\n",
       "      <td>309.431265</td>\n",
       "      <td>2.846606e+09</td>\n",
       "      <td>7.158806e+08</td>\n",
       "    </tr>\n",
       "    <tr>\n",
       "      <th>RBFLinearRegression</th>\n",
       "      <td>45.0</td>\n",
       "      <td>2650.940564</td>\n",
       "      <td>304.852284</td>\n",
       "      <td>1.605219e+06</td>\n",
       "      <td>3.905029e+05</td>\n",
       "    </tr>\n",
       "    <tr>\n",
       "      <th>RegressaoLinear</th>\n",
       "      <td>3.0</td>\n",
       "      <td>2691.879624</td>\n",
       "      <td>289.746142</td>\n",
       "      <td>3.656689e+66</td>\n",
       "      <td>8.322313e+65</td>\n",
       "    </tr>\n",
       "  </tbody>\n",
       "</table>\n",
       "</div>"
      ],
      "text/plain": [
       "                                   tentativa         rmse              \\\n",
       "                                                     mean         std   \n",
       "modelo                                                                  \n",
       "BayesianLinearRegression                42.0  2692.129523  289.391808   \n",
       "BayesianPolinomialLinearRegression       0.0  2609.522516  309.431265   \n",
       "RBFLinearRegression                     45.0  2650.940564  304.852284   \n",
       "RegressaoLinear                          3.0  2691.879624  289.746142   \n",
       "\n",
       "                                            nlpd                \n",
       "                                            mean           std  \n",
       "modelo                                                          \n",
       "BayesianLinearRegression            2.858466e+09  7.494464e+08  \n",
       "BayesianPolinomialLinearRegression  2.846606e+09  7.158806e+08  \n",
       "RBFLinearRegression                 1.605219e+06  3.905029e+05  \n",
       "RegressaoLinear                     3.656689e+66  8.322313e+65  "
      ]
     },
     "execution_count": 23,
     "metadata": {},
     "output_type": "execute_result"
    }
   ],
   "source": [
    "relatorio_condensado = \\\n",
    "relatorio_modelos.groupby(['modelo', 'tentativa']) \\\n",
    "                  .agg(['mean', 'std']) \\\n",
    "                  .reset_index() \\\n",
    "                  .sort_values(by=(metrica, 'mean')) \\\n",
    "                  .groupby('modelo').first()\n",
    "\n",
    "relatorio_condensado"
   ]
  },
  {
   "cell_type": "markdown",
   "id": "military-washer",
   "metadata": {},
   "source": [
    "### Resultado Final"
   ]
  },
  {
   "cell_type": "code",
   "execution_count": 24,
   "id": "joined-washer",
   "metadata": {},
   "outputs": [
    {
     "data": {
      "text/html": [
       "<div>\n",
       "<style scoped>\n",
       "    .dataframe tbody tr th:only-of-type {\n",
       "        vertical-align: middle;\n",
       "    }\n",
       "\n",
       "    .dataframe tbody tr th {\n",
       "        vertical-align: top;\n",
       "    }\n",
       "\n",
       "    .dataframe thead th {\n",
       "        text-align: right;\n",
       "    }\n",
       "</style>\n",
       "<table border=\"1\" class=\"dataframe\">\n",
       "  <thead>\n",
       "    <tr style=\"text-align: right;\">\n",
       "      <th></th>\n",
       "      <th>BayesianLinearRegression</th>\n",
       "      <th>BayesianPolinomialLinearRegression</th>\n",
       "      <th>RBFLinearRegression</th>\n",
       "      <th>RegressaoLinear</th>\n",
       "    </tr>\n",
       "  </thead>\n",
       "  <tbody>\n",
       "    <tr>\n",
       "      <th>alphaInit</th>\n",
       "      <td>0.964742</td>\n",
       "      <td>0.806745</td>\n",
       "      <td>NaN</td>\n",
       "      <td>NaN</td>\n",
       "    </tr>\n",
       "    <tr>\n",
       "      <th>lambdaInit</th>\n",
       "      <td>0.184679</td>\n",
       "      <td>0.902372</td>\n",
       "      <td>NaN</td>\n",
       "      <td>NaN</td>\n",
       "    </tr>\n",
       "    <tr>\n",
       "      <th>order</th>\n",
       "      <td>NaN</td>\n",
       "      <td>7.000000</td>\n",
       "      <td>NaN</td>\n",
       "      <td>NaN</td>\n",
       "    </tr>\n",
       "    <tr>\n",
       "      <th>sig2_error</th>\n",
       "      <td>NaN</td>\n",
       "      <td>NaN</td>\n",
       "      <td>0.551827</td>\n",
       "      <td>NaN</td>\n",
       "    </tr>\n",
       "    <tr>\n",
       "      <th>mean_rbf_arbitrario</th>\n",
       "      <td>NaN</td>\n",
       "      <td>NaN</td>\n",
       "      <td>-1.000000</td>\n",
       "      <td>NaN</td>\n",
       "    </tr>\n",
       "    <tr>\n",
       "      <th>lambda_rbf_arbitrario</th>\n",
       "      <td>NaN</td>\n",
       "      <td>NaN</td>\n",
       "      <td>0.033253</td>\n",
       "      <td>NaN</td>\n",
       "    </tr>\n",
       "  </tbody>\n",
       "</table>\n",
       "</div>"
      ],
      "text/plain": [
       "                       BayesianLinearRegression  \\\n",
       "alphaInit                              0.964742   \n",
       "lambdaInit                             0.184679   \n",
       "order                                       NaN   \n",
       "sig2_error                                  NaN   \n",
       "mean_rbf_arbitrario                         NaN   \n",
       "lambda_rbf_arbitrario                       NaN   \n",
       "\n",
       "                       BayesianPolinomialLinearRegression  \\\n",
       "alphaInit                                        0.806745   \n",
       "lambdaInit                                       0.902372   \n",
       "order                                            7.000000   \n",
       "sig2_error                                            NaN   \n",
       "mean_rbf_arbitrario                                   NaN   \n",
       "lambda_rbf_arbitrario                                 NaN   \n",
       "\n",
       "                       RBFLinearRegression  RegressaoLinear  \n",
       "alphaInit                              NaN              NaN  \n",
       "lambdaInit                             NaN              NaN  \n",
       "order                                  NaN              NaN  \n",
       "sig2_error                        0.551827              NaN  \n",
       "mean_rbf_arbitrario              -1.000000              NaN  \n",
       "lambda_rbf_arbitrario             0.033253              NaN  "
      ]
     },
     "execution_count": 24,
     "metadata": {},
     "output_type": "execute_result"
    }
   ],
   "source": [
    "melhores_hiperparametros = {}\n",
    "\n",
    "for modelo, tentativa in relatorio_condensado[['tentativa']].reset_index().values:\n",
    "    resultado = (relatorio_modelos.modelo == modelo) & (relatorio_modelos.tentativa == tentativa)\n",
    "    melhores_hiperparametros[modelo] = relatorio_modelos[resultado].parametros.values[0]\n",
    "\n",
    "pd.DataFrame(melhores_hiperparametros)"
   ]
  },
  {
   "cell_type": "code",
   "execution_count": 27,
   "id": "israeli-visitor",
   "metadata": {},
   "outputs": [
    {
     "name": "stderr",
     "output_type": "stream",
     "text": [
      "4it [00:02,  1.96it/s]\n"
     ]
    },
    {
     "data": {
      "text/html": [
       "<div>\n",
       "<style scoped>\n",
       "    .dataframe tbody tr th:only-of-type {\n",
       "        vertical-align: middle;\n",
       "    }\n",
       "\n",
       "    .dataframe tbody tr th {\n",
       "        vertical-align: top;\n",
       "    }\n",
       "\n",
       "    .dataframe thead th {\n",
       "        text-align: right;\n",
       "    }\n",
       "</style>\n",
       "<table border=\"1\" class=\"dataframe\">\n",
       "  <thead>\n",
       "    <tr style=\"text-align: right;\">\n",
       "      <th></th>\n",
       "      <th>modelo</th>\n",
       "      <th>parametros</th>\n",
       "      <th>rmse</th>\n",
       "      <th>nlpd</th>\n",
       "    </tr>\n",
       "  </thead>\n",
       "  <tbody>\n",
       "    <tr>\n",
       "      <th>0</th>\n",
       "      <td>BayesianLinearRegression</td>\n",
       "      <td>{'alphaInit': 0.9647418428875216, 'lambdaInit'...</td>\n",
       "      <td>1.162060e+04</td>\n",
       "      <td>6.697594e+10</td>\n",
       "    </tr>\n",
       "    <tr>\n",
       "      <th>1</th>\n",
       "      <td>BayesianPolinomialLinearRegression</td>\n",
       "      <td>{'alphaInit': 0.8067450492515083, 'lambdaInit'...</td>\n",
       "      <td>2.610644e+12</td>\n",
       "      <td>3.599954e+27</td>\n",
       "    </tr>\n",
       "    <tr>\n",
       "      <th>2</th>\n",
       "      <td>RBFLinearRegression</td>\n",
       "      <td>{'sig2_error': 0.5518266361880085, 'mean_rbf_a...</td>\n",
       "      <td>2.483575e+03</td>\n",
       "      <td>1.394763e+06</td>\n",
       "    </tr>\n",
       "    <tr>\n",
       "      <th>3</th>\n",
       "      <td>RegressaoLinear</td>\n",
       "      <td>{}</td>\n",
       "      <td>1.176309e+04</td>\n",
       "      <td>6.918516e+67</td>\n",
       "    </tr>\n",
       "  </tbody>\n",
       "</table>\n",
       "</div>"
      ],
      "text/plain": [
       "                               modelo  \\\n",
       "0            BayesianLinearRegression   \n",
       "1  BayesianPolinomialLinearRegression   \n",
       "2                 RBFLinearRegression   \n",
       "3                     RegressaoLinear   \n",
       "\n",
       "                                          parametros          rmse  \\\n",
       "0  {'alphaInit': 0.9647418428875216, 'lambdaInit'...  1.162060e+04   \n",
       "1  {'alphaInit': 0.8067450492515083, 'lambdaInit'...  2.610644e+12   \n",
       "2  {'sig2_error': 0.5518266361880085, 'mean_rbf_a...  2.483575e+03   \n",
       "3                                                 {}  1.176309e+04   \n",
       "\n",
       "           nlpd  \n",
       "0  6.697594e+10  \n",
       "1  3.599954e+27  \n",
       "2  1.394763e+06  \n",
       "3  6.918516e+67  "
      ]
     },
     "execution_count": 27,
     "metadata": {},
     "output_type": "execute_result"
    }
   ],
   "source": [
    "relatorio_final = pd.DataFrame(columns=['modelo', 'parametros', 'rmse', 'nlpd'])\n",
    "\n",
    "\n",
    "for i, (modelo, hiperparametros) in tqdm(enumerate(melhores_hiperparametros.items())):\n",
    "    Modelo, dominio = modelos[modelo]\n",
    "    resultado = treinar_modelo(Modelo, X_train, X_test, y_train, y_test, **hiperparametros)\n",
    "                                         \n",
    "    relatorio_final.loc[i] = resultado\n",
    "    \n",
    "\n",
    "# # Calcular valor do RMSE do y na dimensão original\n",
    "# relatorio['rmse_dimensao_original'] = y_scaler.inverse_transform(relatorio.rmse.values.reshape((-1, 1)))\n",
    "\n",
    "# # Nome do arquivo\n",
    "# nomes_modelos = relatorio.modelo.unique()\n",
    "# nomes_modelos.sort()\n",
    "\n",
    "# nome_arquivo = f'resultados/final/{fold_externo}_{metrica}_{\"-\".join(nomes_modelos)}.csv'\n",
    "# relatorio.to_csv(nome_arquivo)\n",
    "relatorio_final"
   ]
  }
 ],
 "metadata": {
  "kernelspec": {
   "display_name": "Python 3",
   "language": "python",
   "name": "python3"
  },
  "language_info": {
   "codemirror_mode": {
    "name": "ipython",
    "version": 3
   },
   "file_extension": ".py",
   "mimetype": "text/x-python",
   "name": "python",
   "nbconvert_exporter": "python",
   "pygments_lexer": "ipython3",
   "version": "3.8.5"
  },
  "toc-autonumbering": true,
  "toc-showtags": false
 },
 "nbformat": 4,
 "nbformat_minor": 5
}
