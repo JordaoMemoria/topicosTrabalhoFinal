{
 "cells": [
  {
   "cell_type": "markdown",
   "id": "tough-background",
   "metadata": {},
   "source": [
    "# Treinamento regressão"
   ]
  },
  {
   "cell_type": "code",
   "execution_count": 1,
   "id": "remarkable-demand",
   "metadata": {},
   "outputs": [],
   "source": [
    "treinar = {\n",
    "    'GP': False,\n",
    "    'RegressaoLinear': True,\n",
    "    'BayesianLinearRegression': True,\n",
    "    'BayesianPolinomialLinearRegression': True,\n",
    "    'BayesianLinearRegressionNew': True,\n",
    "    'BayesianPolinomialLinearRegressionNew': True,\n",
    "    'BayesianRBFLinearRegression': True,\n",
    "}"
   ]
  },
  {
   "cell_type": "code",
   "execution_count": 2,
   "id": "union-dryer",
   "metadata": {},
   "outputs": [],
   "source": [
    "# Métrica utilizada na otimização bayesiana para seleção do modelo\n",
    "metrica = 'nlpd'"
   ]
  },
  {
   "cell_type": "code",
   "execution_count": 3,
   "id": "bearing-belgium",
   "metadata": {},
   "outputs": [],
   "source": [
    "bo_max_iter=5#50"
   ]
  },
  {
   "cell_type": "markdown",
   "id": "abstract-ethics",
   "metadata": {},
   "source": [
    "## Conjunto de dados"
   ]
  },
  {
   "cell_type": "code",
   "execution_count": 4,
   "id": "infrared-municipality",
   "metadata": {},
   "outputs": [],
   "source": [
    "import numpy as np\n",
    "import pandas as pd\n",
    "\n",
    "dataset = pd.read_csv('housesToRentProcessed.csv', index_col=0)\n",
    "\n",
    "X = dataset[[\n",
    "    'São Paulo', 'Porto Alegre', 'Rio de Janeiro', 'Campinas', 'Belo Horizonte', \n",
    "    'area',\n",
    "    'rooms', 'bathroom', 'parking spaces', 'floor', 'isHouse', 'animal', 'furniture',\n",
    "]].values\n",
    "y = dataset[['y con + alu']].values"
   ]
  },
  {
   "cell_type": "markdown",
   "id": "competitive-winter",
   "metadata": {},
   "source": [
    "### Descrição do conjunto de dados\n",
    "\n",
    "| Atributo         | Descrição                                           | Valor  |\n",
    "| ---------------- | --------------------------------------------------- | ------ |\n",
    "| `São Paulo`      | Imóvel está localizado na cidade de São Paulo?      | `int: 0 false - 1 true` |\n",
    "| `Porto Alegre`   | Imóvel está localizado na cidade de Porto Alegre?   | `int: 0 false - 1 true` |\n",
    "| `Rio de Janeiro` | Imóvel está localizado na cidade de Rio de Janeiro? | `int: 0 false - 1 true` |\n",
    "| `Campinas`       | Imóvel está localizado na cidade de Campinas?       | `int: 0 false - 1 true` |\n",
    "| `Belo Horizonte` | Imóvel está localizado na cidade de Belo Horizonte? | `int: 0 false - 1 true` |\n",
    "| `area`           | Área do imóvel (em metros quadrados)                | `float` |\n",
    "| `rooms`          | Quantidade de quartos                               | `int` |\n",
    "| `bathroom`       | Quantidade de banheiros                             | `int` |\n",
    "| `floor`          | Andar localizado o imóvel                           | `int`. `0` pressuposto para casa |\n",
    "| `isHouse`        | Imóvel corresponde a um aluguel de casa             | `int: 0 false - 1 true` |\n",
    "| `animal`         | É possivel levar animais para o imóvel              | `int: 0 false - 1 true` |\n",
    "| `furniture`      | Se a casa já vem mobiliada                          | `int: 0 false - 1 true` |\n",
    "| `y con + alu`    | Valor mensal total do aluguel do imóvel: aluguel + taxa de condomínio. | `float` |"
   ]
  },
  {
   "cell_type": "code",
   "execution_count": 5,
   "id": "comic-integration",
   "metadata": {},
   "outputs": [
    {
     "data": {
      "text/html": [
       "<div>\n",
       "<style scoped>\n",
       "    .dataframe tbody tr th:only-of-type {\n",
       "        vertical-align: middle;\n",
       "    }\n",
       "\n",
       "    .dataframe tbody tr th {\n",
       "        vertical-align: top;\n",
       "    }\n",
       "\n",
       "    .dataframe thead th {\n",
       "        text-align: right;\n",
       "    }\n",
       "</style>\n",
       "<table border=\"1\" class=\"dataframe\">\n",
       "  <thead>\n",
       "    <tr style=\"text-align: right;\">\n",
       "      <th></th>\n",
       "      <th>São Paulo</th>\n",
       "      <th>Porto Alegre</th>\n",
       "      <th>Rio de Janeiro</th>\n",
       "      <th>Campinas</th>\n",
       "      <th>Belo Horizonte</th>\n",
       "      <th>area</th>\n",
       "      <th>rooms</th>\n",
       "      <th>bathroom</th>\n",
       "      <th>parking spaces</th>\n",
       "      <th>floor</th>\n",
       "      <th>isHouse</th>\n",
       "      <th>animal</th>\n",
       "      <th>furniture</th>\n",
       "      <th>y con + alu</th>\n",
       "    </tr>\n",
       "  </thead>\n",
       "  <tbody>\n",
       "    <tr>\n",
       "      <th>3489</th>\n",
       "      <td>0</td>\n",
       "      <td>0</td>\n",
       "      <td>0</td>\n",
       "      <td>1</td>\n",
       "      <td>0</td>\n",
       "      <td>69</td>\n",
       "      <td>2</td>\n",
       "      <td>2</td>\n",
       "      <td>1</td>\n",
       "      <td>14</td>\n",
       "      <td>0</td>\n",
       "      <td>1</td>\n",
       "      <td>0</td>\n",
       "      <td>2125</td>\n",
       "    </tr>\n",
       "    <tr>\n",
       "      <th>669</th>\n",
       "      <td>1</td>\n",
       "      <td>0</td>\n",
       "      <td>0</td>\n",
       "      <td>0</td>\n",
       "      <td>0</td>\n",
       "      <td>450</td>\n",
       "      <td>4</td>\n",
       "      <td>5</td>\n",
       "      <td>6</td>\n",
       "      <td>1</td>\n",
       "      <td>1</td>\n",
       "      <td>1</td>\n",
       "      <td>0</td>\n",
       "      <td>12000</td>\n",
       "    </tr>\n",
       "    <tr>\n",
       "      <th>6003</th>\n",
       "      <td>0</td>\n",
       "      <td>0</td>\n",
       "      <td>0</td>\n",
       "      <td>0</td>\n",
       "      <td>1</td>\n",
       "      <td>61</td>\n",
       "      <td>3</td>\n",
       "      <td>1</td>\n",
       "      <td>1</td>\n",
       "      <td>2</td>\n",
       "      <td>0</td>\n",
       "      <td>1</td>\n",
       "      <td>0</td>\n",
       "      <td>1800</td>\n",
       "    </tr>\n",
       "    <tr>\n",
       "      <th>5333</th>\n",
       "      <td>1</td>\n",
       "      <td>0</td>\n",
       "      <td>0</td>\n",
       "      <td>0</td>\n",
       "      <td>0</td>\n",
       "      <td>54</td>\n",
       "      <td>2</td>\n",
       "      <td>2</td>\n",
       "      <td>1</td>\n",
       "      <td>2</td>\n",
       "      <td>0</td>\n",
       "      <td>1</td>\n",
       "      <td>0</td>\n",
       "      <td>2327</td>\n",
       "    </tr>\n",
       "    <tr>\n",
       "      <th>1524</th>\n",
       "      <td>0</td>\n",
       "      <td>0</td>\n",
       "      <td>0</td>\n",
       "      <td>1</td>\n",
       "      <td>0</td>\n",
       "      <td>85</td>\n",
       "      <td>3</td>\n",
       "      <td>2</td>\n",
       "      <td>1</td>\n",
       "      <td>7</td>\n",
       "      <td>0</td>\n",
       "      <td>1</td>\n",
       "      <td>0</td>\n",
       "      <td>2415</td>\n",
       "    </tr>\n",
       "  </tbody>\n",
       "</table>\n",
       "</div>"
      ],
      "text/plain": [
       "      São Paulo  Porto Alegre  Rio de Janeiro  Campinas  Belo Horizonte  area  \\\n",
       "3489          0             0               0         1               0    69   \n",
       "669           1             0               0         0               0   450   \n",
       "6003          0             0               0         0               1    61   \n",
       "5333          1             0               0         0               0    54   \n",
       "1524          0             0               0         1               0    85   \n",
       "\n",
       "      rooms  bathroom  parking spaces  floor  isHouse  animal  furniture  \\\n",
       "3489      2         2               1     14        0       1          0   \n",
       "669       4         5               6      1        1       1          0   \n",
       "6003      3         1               1      2        0       1          0   \n",
       "5333      2         2               1      2        0       1          0   \n",
       "1524      3         2               1      7        0       1          0   \n",
       "\n",
       "      y con + alu  \n",
       "3489         2125  \n",
       "669         12000  \n",
       "6003         1800  \n",
       "5333         2327  \n",
       "1524         2415  "
      ]
     },
     "execution_count": 5,
     "metadata": {},
     "output_type": "execute_result"
    }
   ],
   "source": [
    "dataset.head()"
   ]
  },
  {
   "cell_type": "markdown",
   "id": "structured-sender",
   "metadata": {},
   "source": [
    "### Separação de treino e teste\n",
    "\n",
    "Os dados foram separados em treino e em teste seguindo a proporção de $70\\%$ para treino e de $30\\%$ para testes. O processo de seleção do modelo será descrito posteriormente."
   ]
  },
  {
   "cell_type": "code",
   "execution_count": 6,
   "id": "cooperative-compilation",
   "metadata": {},
   "outputs": [
    {
     "name": "stdout",
     "output_type": "stream",
     "text": [
      "Quantidade de elementos para o treinamento: (50, 13)\n",
      "Quantidade de elementos selecionados para teste: (3207, 13)\n"
     ]
    }
   ],
   "source": [
    "from sklearn.model_selection import train_test_split\n",
    "\n",
    "# FIXME: Separar respeitando a proproção em cada cidade\n",
    "X_train, X_test, y_train, y_test = train_test_split(X, y, test_size=0.3, random_state=42)\n",
    "\n",
    "X_train = X_train[:50]\n",
    "y_train = y_train[:50]\n",
    "\n",
    "print('Quantidade de elementos para o treinamento:', X_train.shape)\n",
    "print('Quantidade de elementos selecionados para teste:', X_test.shape)"
   ]
  },
  {
   "cell_type": "markdown",
   "id": "cubic-promise",
   "metadata": {},
   "source": [
    "### Normalização - AJEITAR\n",
    "\n",
    "A normalização aplicada no conjunto de dados foi a [standard scaling](https://scikit-learn.org/stable/modules/generated/sklearn.preprocessing.StandardScaler.html):\n",
    "\\begin{aligned}\n",
    "z = \\frac{x_i - \\mu_i}{\\sigma_i}; \\\\\n",
    "\\mu_i = \\frac{1}{N} \\sum_{i=1}^N x_i; \\\\\n",
    "\\sigma_i = \\sqrt{\\frac{1}{N} \\sum_{i=1}^N (x_i - \\mu_i)^2}.\n",
    "%A transformação aplicada, escala (dimensiona) e translada cada característica individualmente, de modo que esta esteja entre o intervalo $[0, 1]$.\n",
    "\\end{aligned}\n",
    "\n",
    "Como poderá ser visto adiante, este trabalho tomou o cuidado dos dados de validação e de teste serem transformados conforme os dados  a escala definida no treinamento."
   ]
  },
  {
   "cell_type": "code",
   "execution_count": 7,
   "id": "romance-blogger",
   "metadata": {},
   "outputs": [],
   "source": [
    "from sklearn.preprocessing import StandardScaler\n",
    "\n",
    "Scaler = StandardScaler"
   ]
  },
  {
   "cell_type": "markdown",
   "id": "second-viking",
   "metadata": {},
   "source": [
    "## Treinamento\n",
    "\n",
    "Para cada um dos modelos avaliados, houve uma seleção dos hiperparâmetros por meio de uma Otimização Bayesiana (BO).\n",
    "Em cada iteração da Otimização Bayesiana, era aplicada uma validação cruzada de _5-folds_.\n",
    "A métrica definida para a busca dos melhores hiperparâmetros via BO foi a média do NLPD da validação cruzada. A métrica NLPD é descrita adiante neste trabalho.\n",
    "\n",
    "Além da média do NLPD, os modelos foram avaliados por outras métricas, descritas a seguir."
   ]
  },
  {
   "cell_type": "markdown",
   "id": "cordless-console",
   "metadata": {},
   "source": [
    "### Métricas\n",
    "\n",
    "#### Root Mean Squared Error (RMSE)\n",
    "\n",
    "__Root Mean Squared Error__ ou raiz do erro quadrático médio [_terminar_]\n",
    "\n",
    "\\begin{aligned}\n",
    "\\text{MSE}(\\boldsymbol{y}, \\hat{\\boldsymbol{y}}) &= \\frac{1}{N_\\text{teste}} \\sum_{i=1}^{N_\\text{teste}} (y_i - \\hat{y}_i)^2; \\\\\n",
    "\\text{RMSE}(\\boldsymbol{y}, \\hat{\\boldsymbol{y}}) &= \\sqrt{\\text{MSE}(\\boldsymbol{y}, \\hat{\\boldsymbol{y}})}.\n",
    "\\end{aligned}"
   ]
  },
  {
   "cell_type": "code",
   "execution_count": 8,
   "id": "ambient-pricing",
   "metadata": {},
   "outputs": [],
   "source": [
    "from trabalho.util.metrica import rmse"
   ]
  },
  {
   "cell_type": "markdown",
   "id": "agreed-walter",
   "metadata": {},
   "source": [
    "#### Negative Log Predictive Density (NLPD)\n",
    "\n",
    "A métrica **Negative Log Predictive Density** (NLPD) leva em consideração a variância predita $\\hat{\\sigma}_i^2$, além dos valores esperados e preditos (média):\n",
    "\n",
    "\\begin{aligned}\n",
    "\\text{NLPD}\n",
    "&= -\\frac{1}{N_\\text{teste}}\n",
    "    \\sum_{i=1}^{N_\\text{teste}}\n",
    "    \\log \n",
    "    \\overbrace{p(y_i|\\boldsymbol{x}_i, \\boldsymbol{y}, \\boldsymbol{X}, \\hat{\\boldsymbol{\\theta}})}^{\\mathcal{N}(y_i|\\hat{\\mu}_i, \\hat{\\sigma}_i^2)}\n",
    "    \\\\\n",
    "&= \\frac{1}{2}\\log2\\pi + \\frac{1}{2 N_\\text{teste}}\n",
    "\\sum_{i=1}^{N_\\text{teste}} \\left[\\log \\hat{\\sigma}^2_i + \\frac{(y_i - \\hat{\\mu}_i)^2}{\\hat{\\sigma}^2_i}\\right]\n",
    "\\end{aligned}\n",
    "\n",
    "Conforme já discutido em aula, a NLPD busca realçar modelos equilibrandos, penalizando:\n",
    "* modelos muito confiantes nos casos de erros grandes ($\\sigma^2_i$ baixos para erros maiores), e;\n",
    "* modelos pouco confiantes nos casos de erros pequenos ($\\sigma^2_i$ altos para erros menores)."
   ]
  },
  {
   "cell_type": "code",
   "execution_count": 9,
   "id": "pretty-impossible",
   "metadata": {},
   "outputs": [],
   "source": [
    "from trabalho.util.metrica import nlpd"
   ]
  },
  {
   "cell_type": "markdown",
   "id": "satisfied-angle",
   "metadata": {},
   "source": [
    "#### Mean absolute percentage error (MAPE)\n",
    "\n",
    "A métrica **Mean Absolute Percentage Error** (MAPE),\n",
    "também conhecida como **Mean absolute percentage deviation** (MAPD),\n",
    "**FIXME**\n",
    "\n",
    "\\begin{aligned}\n",
    "\\text{MAPE}(y, \\hat{y}) = \\frac{1}{n_{\\text{samples}}} \\sum_{i=0}^{n_{\\text{samples}}-1} \\frac{{}\\left| y_i - \\hat{y}_i \\right|}{max(\\epsilon, \\left| y_i \\right|)}\n",
    "\\end{aligned}\n",
    "onde $\\epsilon$ é um número arbitrário pequeno o suficiente para evitar resultados não definidos quando $y = 0$.\n",
    "\n",
    "FALAR SOBRE, referências\n",
    "* https://scikit-learn.org/dev/modules/model_evaluation.html#mean-absolute-percentage-error \n",
    "* https://towardsdatascience.com/choosing-the-correct-error-metric-mape-vs-smape-5328dec53fac"
   ]
  },
  {
   "cell_type": "code",
   "execution_count": 10,
   "id": "further-delight",
   "metadata": {},
   "outputs": [],
   "source": [
    "from trabalho.util.metrica import mape"
   ]
  },
  {
   "cell_type": "markdown",
   "id": "established-undergraduate",
   "metadata": {},
   "source": [
    "## Modelos utilizados"
   ]
  },
  {
   "cell_type": "code",
   "execution_count": 11,
   "id": "supported-michael",
   "metadata": {},
   "outputs": [],
   "source": [
    "relatorio_modelos = pd.DataFrame(columns=['modelo', 'parametros', 'rmse', 'nlpd', 'mape', 'fold'])"
   ]
  },
  {
   "cell_type": "markdown",
   "id": "pretty-barbados",
   "metadata": {},
   "source": [
    "### Processos Gaussianos"
   ]
  },
  {
   "cell_type": "code",
   "execution_count": 12,
   "id": "younger-adoption",
   "metadata": {},
   "outputs": [
    {
     "data": {
      "text/plain": [
       "trabalho.modelos.gp.GP"
      ]
     },
     "execution_count": 12,
     "metadata": {},
     "output_type": "execute_result"
    }
   ],
   "source": [
    "from trabalho.modelos.gp import GP\n",
    "\n",
    "GP"
   ]
  },
  {
   "cell_type": "markdown",
   "id": "unexpected-pride",
   "metadata": {},
   "source": [
    "#### Hiperparâmetros a serem procurados"
   ]
  },
  {
   "cell_type": "code",
   "execution_count": 13,
   "id": "therapeutic-assets",
   "metadata": {},
   "outputs": [
    {
     "data": {
      "text/plain": [
       "[{'name': 'kernel', 'type': 'categorical', 'domain': [0, 1, 2, 3]},\n",
       " {'name': 'mean_function', 'type': 'categorical', 'domain': [0, 1]}]"
      ]
     },
     "execution_count": 13,
     "metadata": {},
     "output_type": "execute_result"
    }
   ],
   "source": [
    "from trabalho.util.otimizacao_bayesiana import Dominio\n",
    "import gpflow\n",
    "\n",
    "\n",
    "kernels = [\n",
    "    # Combinação de kernels\n",
    "    #gpflow.kernels.Combination(),\n",
    "    #gpflow.kernels.ChangePoints(),\n",
    "    #gpflow.kernels.Product(),\n",
    "    #gpflow.kernels.Sum(),\n",
    "    \n",
    "    # Imagem (convolução)\n",
    "    #gpflow.kernels.Convolutional(),\n",
    "    \n",
    "    # Dados estacionários\n",
    "    #gpflow.kernels.Stationary(),\n",
    "    #gpflow.kernels.Periodic(), # Can be used to wrap any Stationary kernel to transform it into a periodic version\n",
    "    #gpflow.kernels.AnisotropicStationary(), \n",
    "    #gpflow.kernels.IsotropicStationary(),\n",
    "    \n",
    "    # Multi objetivo\n",
    "    #gpflow.kernels.MultioutputKernel(),\n",
    "    #gpflow.kernels.IndependentLatent(),\n",
    "    #gpflow.kernels.LinearCoregionalization(),\n",
    "    #gpflow.kernels.SeparateIndependent(),\n",
    "    #gpflow.kernels.SharedIndependent(),\n",
    "    \n",
    "    # Outros exóticos\n",
    "    #gpflow.kernels.Coregion(),\n",
    "    \n",
    "    # Ok\n",
    "    #gpflow.kernels.Kernel(), # Classe base\n",
    "    #gpflow.kernels.Static(), # Classe base\n",
    "    \n",
    "    #gpflow.kernels.ArcCosine(),\n",
    "    #gpflow.kernels.Constant(),\n",
    "    #gpflow.kernels.Cosine(),\n",
    "    #gpflow.kernels.Exponential(),\n",
    "    #gpflow.kernels.Linear(),\n",
    "    \n",
    "    gpflow.kernels.Matern12(),\n",
    "    gpflow.kernels.Matern32(),\n",
    "    gpflow.kernels.Matern52(),\n",
    "    \n",
    "    #gpflow.kernels.Polynomial(),\n",
    "    gpflow.kernels.SquaredExponential(), # RBF\n",
    "    #gpflow.kernels.RationalQuadratic(),\n",
    "    \n",
    "    #gpflow.kernels.White(),\n",
    "]\n",
    "\n",
    "\n",
    "means = [\n",
    "    # Padrão\n",
    "    gpflow.mean_functions.Zero(),\n",
    "    # Média\n",
    "    gpflow.mean_functions.Linear(),\n",
    "]\n",
    "\n",
    "dominio_gp = Dominio([\n",
    "    # https://gpflow.readthedocs.io/en/master/gpflow/kernels/#gpflow-kernels-linear\n",
    "    {\n",
    "        'name': 'kernel',\n",
    "        'type': 'categorical',\n",
    "        'domain': kernels\n",
    "    },\n",
    "    {\n",
    "        'name': 'mean_function',\n",
    "        'type': 'categorical',\n",
    "        'domain': means\n",
    "    },\n",
    "#     {'name': 'learning_rate',   'type': 'continuous', 'domain': (0.0001, 0.02)},\n",
    "#     {'name': 'sampling_method', 'type': 'discrete',   'domain': (1, 3, 5)},\n",
    "#     {'name': 'regularization',  'type': 'continuous', 'domain': (0.00001, 0.01)},\n",
    "#     {'name': 'batch_size',      'type': 'discrete',   'domain': (10, 16, 32)},\n",
    "])\n",
    "\n",
    "dominio_gp.dominio"
   ]
  },
  {
   "cell_type": "markdown",
   "id": "british-millennium",
   "metadata": {},
   "source": [
    "### Regressão Linear"
   ]
  },
  {
   "cell_type": "markdown",
   "id": "aging-working",
   "metadata": {},
   "source": [
    "#### Regressão Linear (não bayesiana)"
   ]
  },
  {
   "cell_type": "code",
   "execution_count": 14,
   "id": "limited-music",
   "metadata": {},
   "outputs": [
    {
     "data": {
      "text/plain": [
       "trabalho.modelos.regressao_linear.RegressaoLinear"
      ]
     },
     "execution_count": 14,
     "metadata": {},
     "output_type": "execute_result"
    }
   ],
   "source": [
    "from trabalho.modelos.regressao_linear import RegressaoLinear\n",
    "\n",
    "RegressaoLinear"
   ]
  },
  {
   "cell_type": "markdown",
   "id": "productive-financing",
   "metadata": {},
   "source": [
    "##### Hiperparâmetros a serem procurados"
   ]
  },
  {
   "cell_type": "code",
   "execution_count": 15,
   "id": "organized-banks",
   "metadata": {},
   "outputs": [],
   "source": [
    "dominio_regressao_linear = Dominio([])"
   ]
  },
  {
   "cell_type": "markdown",
   "id": "productive-contrast",
   "metadata": {},
   "source": [
    "#### Regressão Linear Bayesiana"
   ]
  },
  {
   "cell_type": "code",
   "execution_count": 16,
   "id": "selective-shape",
   "metadata": {},
   "outputs": [
    {
     "data": {
      "text/plain": [
       "trabalho.modelos.bayesian_linear_regression.BayesianLinearRegression"
      ]
     },
     "execution_count": 16,
     "metadata": {},
     "output_type": "execute_result"
    }
   ],
   "source": [
    "from trabalho.modelos.bayesian_linear_regression import BayesianLinearRegression\n",
    "\n",
    "BayesianLinearRegression"
   ]
  },
  {
   "cell_type": "code",
   "execution_count": 17,
   "id": "formed-principal",
   "metadata": {},
   "outputs": [
    {
     "data": {
      "text/plain": [
       "trabalho.modelos.bayesian_linear_regression_new.BayesianLinearRegressionNew"
      ]
     },
     "execution_count": 17,
     "metadata": {},
     "output_type": "execute_result"
    }
   ],
   "source": [
    "from trabalho.modelos.bayesian_linear_regression_new import BayesianLinearRegressionNew\n",
    "\n",
    "BayesianLinearRegressionNew"
   ]
  },
  {
   "cell_type": "markdown",
   "id": "departmental-cutting",
   "metadata": {},
   "source": [
    "##### Hiperparâmetros a serem procurados"
   ]
  },
  {
   "cell_type": "code",
   "execution_count": 18,
   "id": "fundamental-desktop",
   "metadata": {},
   "outputs": [],
   "source": [
    "dominio_regressao_linear_bayesiana = Dominio([\n",
    "    {\n",
    "        'name': 'alphaInit',\n",
    "        'type': 'continuous',\n",
    "        'domain': (1e-7, 1.1)\n",
    "    },\n",
    "    {\n",
    "        'name': 'lambdaInit',\n",
    "        'type': 'continuous',\n",
    "        'domain': (1e-7, 1.1)\n",
    "    }\n",
    "])"
   ]
  },
  {
   "cell_type": "code",
   "execution_count": 19,
   "id": "aboriginal-rouge",
   "metadata": {},
   "outputs": [],
   "source": [
    "dominio_regressao_linear_bayesiana_new = Dominio([\n",
    "    {\n",
    "        'name': 'sig2_error',\n",
    "        'type': 'continuous',\n",
    "        'domain': (1e-7, 0.1)\n",
    "    }\n",
    "])"
   ]
  },
  {
   "cell_type": "markdown",
   "id": "tested-lodging",
   "metadata": {},
   "source": [
    "#### Regressão Linear Bayesiana Polinomial"
   ]
  },
  {
   "cell_type": "code",
   "execution_count": 20,
   "id": "opened-departure",
   "metadata": {},
   "outputs": [
    {
     "data": {
      "text/plain": [
       "trabalho.modelos.bayesian_polinomial_linear_regression.BayesianPolinomialLinearRegression"
      ]
     },
     "execution_count": 20,
     "metadata": {},
     "output_type": "execute_result"
    }
   ],
   "source": [
    "from trabalho.modelos.bayesian_polinomial_linear_regression import BayesianPolinomialLinearRegression\n",
    "\n",
    "BayesianPolinomialLinearRegression"
   ]
  },
  {
   "cell_type": "code",
   "execution_count": 21,
   "id": "organizational-layer",
   "metadata": {},
   "outputs": [
    {
     "data": {
      "text/plain": [
       "trabalho.modelos.bayesian_polinomial_linear_regression_new.BayesianPolinomialLinearRegressionNew"
      ]
     },
     "execution_count": 21,
     "metadata": {},
     "output_type": "execute_result"
    }
   ],
   "source": [
    "from trabalho.modelos.bayesian_polinomial_linear_regression_new import BayesianPolinomialLinearRegressionNew\n",
    "\n",
    "BayesianPolinomialLinearRegressionNew"
   ]
  },
  {
   "cell_type": "markdown",
   "id": "stuck-stockholm",
   "metadata": {},
   "source": [
    "##### Hiperparâmetros a serem procurados"
   ]
  },
  {
   "cell_type": "code",
   "execution_count": 22,
   "id": "pointed-geography",
   "metadata": {},
   "outputs": [],
   "source": [
    "dominio_regressao_linear_bayesiana_polinomial = Dominio([\n",
    "    {\n",
    "        'name': 'alphaInit',\n",
    "        'type': 'continuous',\n",
    "        'domain': (0.0001, 1.1)\n",
    "    },\n",
    "    {\n",
    "        'name': 'lambdaInit',\n",
    "        'type': 'continuous',\n",
    "        'domain': (0.0001, 1.1)\n",
    "    },\n",
    "    {\n",
    "        'name': 'order',\n",
    "        'type': 'discrete',\n",
    "        'domain': (2, 3, 4, 5, 6, 7, 8, 9, 10)\n",
    "    }\n",
    "])"
   ]
  },
  {
   "cell_type": "code",
   "execution_count": 23,
   "id": "sophisticated-startup",
   "metadata": {},
   "outputs": [],
   "source": [
    "dominio_regressao_linear_bayesiana_polinomial_new = Dominio([\n",
    "    {\n",
    "        'name': 'sig2_error',\n",
    "        'type': 'continuous',\n",
    "        'domain': (1e-7, 0.1)\n",
    "    },\n",
    "    {\n",
    "        'name': 'order',\n",
    "        'type': 'discrete',\n",
    "        'domain': (2, 3, 4, 5, 6, 7, 8, 9, 10)\n",
    "    }\n",
    "])"
   ]
  },
  {
   "cell_type": "markdown",
   "id": "arctic-serum",
   "metadata": {},
   "source": [
    "#### Regressão Linear Bayesiana com kernel RBF"
   ]
  },
  {
   "cell_type": "code",
   "execution_count": 24,
   "id": "bigger-pearl",
   "metadata": {},
   "outputs": [
    {
     "data": {
      "text/plain": [
       "trabalho.modelos.bayesian_rbf_linear_regression.BayesianRBFLinearRegression"
      ]
     },
     "execution_count": 24,
     "metadata": {},
     "output_type": "execute_result"
    }
   ],
   "source": [
    "from trabalho.modelos.bayesian_rbf_linear_regression import BayesianRBFLinearRegression\n",
    "\n",
    "BayesianRBFLinearRegression"
   ]
  },
  {
   "cell_type": "markdown",
   "id": "ecological-found",
   "metadata": {},
   "source": [
    "##### Hiperparâmetros a serem procurados"
   ]
  },
  {
   "cell_type": "code",
   "execution_count": 25,
   "id": "intended-album",
   "metadata": {},
   "outputs": [],
   "source": [
    "dominio_regressao_linear_bayesiana_rbf = Dominio([\n",
    "#     {\n",
    "#         'name': 'm0',\n",
    "#         'type': 'continuous',\n",
    "#         'domain': (0.0001, 1.1)\n",
    "#     },\n",
    "#     {\n",
    "#         'name': 'S0',\n",
    "#         'type': 'continuous',\n",
    "#         'domain': (0.0001, 1.1)\n",
    "#     },\n",
    "    {\n",
    "        'name': 'sig2_error',\n",
    "        'type': 'continuous',\n",
    "        'domain': (1e-7, 1)\n",
    "    },\n",
    "    {\n",
    "        'name': 'mean_rbf_arbitrario',\n",
    "        'type': 'continuous',\n",
    "        'domain': (-1, 1)\n",
    "    },\n",
    "    {\n",
    "        'name': 'lambda_rbf_arbitrario',\n",
    "        'type': 'continuous',\n",
    "        'domain': (1e-7, 1)\n",
    "    }\n",
    "])"
   ]
  },
  {
   "cell_type": "markdown",
   "id": "weird-marriage",
   "metadata": {},
   "source": [
    "### Validação - Seleção de modelos"
   ]
  },
  {
   "cell_type": "code",
   "execution_count": 26,
   "id": "sweet-piece",
   "metadata": {},
   "outputs": [],
   "source": [
    "from trabalho.util.kfold import KFoldCrossValidation\n",
    "from GPyOpt.methods import BayesianOptimization\n",
    "from tqdm import tqdm\n",
    "\n",
    "\n",
    "def f(Modelo, X, y, metrica, k_folds, relatorio_geral, **kwargs):\n",
    "    relatorio_parcial = pd.DataFrame(columns=['modelo', 'parametros', 'rmse', 'nlpd', 'mape', 'fold', 'tentativa'])\n",
    "    \n",
    "    for fold, X_train, X_validation, y_train, y_validation in tqdm(KFoldCrossValidation(X, y, k_folds).split(), total=k_folds, desc=\"k-fold\"):\n",
    "        resultado = treinar_modelo(Modelo, X_train, X_validation, y_train, y_validation, **kwargs)\n",
    "        \n",
    "        total_execucoes = len(relatorio_geral)\n",
    "        tentativa = (total_execucoes - total_execucoes % k_folds) / k_folds\n",
    "        \n",
    "        relatorio_parcial.loc[len(relatorio_parcial)] = resultado + [fold, tentativa]\n",
    "        relatorio_geral.loc[total_execucoes] = resultado + [fold, tentativa]\n",
    "\n",
    "\n",
    "    medias = relatorio_parcial.mean()\n",
    "    \n",
    "    # Fixme: juntar com o relatório final\n",
    "    #relatorio_parcial\n",
    "    \n",
    "    return medias[metrica]\n",
    "\n",
    "\n",
    "def treinar_modelo(Modelo, X_train, X_validation, y_train, y_validation, **kwargs):\n",
    "    X_scaler = Scaler()\n",
    "    y_scaler = Scaler()\n",
    "\n",
    "    X_train_transform      = X_scaler.fit_transform(X_train)\n",
    "    X_validation_transform = X_scaler.transform(X_validation)\n",
    "    y_train_transform      = y_scaler.fit_transform(y_train)\n",
    "    y_validation_transform = y_scaler.transform(y_validation)\n",
    "\n",
    "    modelo = Modelo(**kwargs)\n",
    "    modelo.fit(X_train_transform, y_train_transform)\n",
    "\n",
    "    means, vars = modelo.predict(X_validation_transform)\n",
    "    means = means.reshape((-1, 1))\n",
    "    vars = vars.reshape((-1, 1))\n",
    "\n",
    "    means_dimensao_correta = y_scaler.inverse_transform(means)\n",
    "    std_errors_modelo = np.sqrt(vars)\n",
    "    std_errors_scaler = np.sqrt(y_scaler.var_)\n",
    "    \n",
    "    vars_dimensao_correta = (std_errors_modelo * std_errors_scaler)**2\n",
    "\n",
    "    erro_rmse = rmse(means_dimensao_correta, y_validation)\n",
    "    erro_nlpd = nlpd(means_dimensao_correta, vars_dimensao_correta, y_validation)\n",
    "    erro_mape = mape(means_dimensao_correta, y_validation)\n",
    "    \n",
    "    \n",
    "    return [Modelo.__name__, kwargs, erro_rmse, erro_nlpd, erro_mape]\n",
    "\n",
    "\n",
    "def otimizacao_bayesiana(Modelo, dominio, X, y, k_folds=5, metrica='nlpd', max_iter=50):\n",
    "    relatorio = pd.DataFrame(columns=['modelo', 'parametros', 'rmse', 'nlpd', 'mape', 'fold', 'tentativa'])\n",
    "    funcao = dominio.gerar_f(Modelo=Modelo, f=f, X=X, y=y, k_folds=5, metrica=metrica, relatorio_geral=relatorio)\n",
    "\n",
    "    bo = BayesianOptimization(f=funcao, domain=dominio.dominio, verbosity=True)\n",
    "    bo.run_optimization(max_iter=max_iter)\n",
    "\n",
    "    try:\n",
    "        bo.plot_convergence()\n",
    "        bo.plot_acquisition()\n",
    "    except Exception as e:\n",
    "        print(e)\n",
    "\n",
    "    print(f'{metrica}:', bo.fx_opt)\n",
    "    print('Parâmetros:', bo.x_opt)\n",
    "\n",
    "    return relatorio"
   ]
  },
  {
   "cell_type": "code",
   "execution_count": 27,
   "id": "transparent-marking",
   "metadata": {},
   "outputs": [],
   "source": [
    "modelos = {\n",
    "    'GP': (GP, dominio_gp),\n",
    "    'RegressaoLinear': (RegressaoLinear, dominio_regressao_linear),\n",
    "    'BayesianLinearRegression': (BayesianLinearRegression, dominio_regressao_linear_bayesiana),\n",
    "    'BayesianPolinomialLinearRegression': (BayesianPolinomialLinearRegression, dominio_regressao_linear_bayesiana_polinomial),\n",
    "    'BayesianLinearRegressionNew': (BayesianLinearRegressionNew, dominio_regressao_linear_bayesiana_new),\n",
    "    'BayesianPolinomialLinearRegressionNew': (BayesianPolinomialLinearRegressionNew, dominio_regressao_linear_bayesiana_polinomial_new),\n",
    "    'BayesianRBFLinearRegression': (BayesianRBFLinearRegression, dominio_regressao_linear_bayesiana_rbf),\n",
    "}"
   ]
  },
  {
   "cell_type": "code",
   "execution_count": 28,
   "id": "attached-bishop",
   "metadata": {},
   "outputs": [
    {
     "name": "stderr",
     "output_type": "stream",
     "text": [
      "k-fold: 100%|██████████| 5/5 [00:00<00:00, 57.17it/s]\n",
      "k-fold: 100%|██████████| 5/5 [00:00<00:00, 67.37it/s]\n",
      "k-fold:   0%|          | 0/5 [00:00<?, ?it/s]"
     ]
    },
    {
     "name": "stdout",
     "output_type": "stream",
     "text": [
      "GP False\n",
      "RegressaoLinear True\n"
     ]
    },
    {
     "name": "stderr",
     "output_type": "stream",
     "text": [
      "k-fold: 100%|██████████| 5/5 [00:00<00:00, 58.86it/s]\n",
      "k-fold: 100%|██████████| 5/5 [00:00<00:00, 60.25it/s]\n",
      "k-fold: 100%|██████████| 5/5 [00:00<00:00, 52.13it/s]\n"
     ]
    },
    {
     "data": {
      "image/png": "[encoded data removed]",
      "text/plain": [
       "<Figure size 720x360 with 2 Axes>"
      ]
     },
     "metadata": {
      "needs_background": "light"
     },
     "output_type": "display_data"
    },
    {
     "name": "stdout",
     "output_type": "stream",
     "text": [
      "not enough values to unpack (expected 2, got 0)\n",
      "nlpd: 6.13721446660353e+66\n",
      "Parâmetros: []\n"
     ]
    },
    {
     "name": "stderr",
     "output_type": "stream",
     "text": [
      "k-fold: 100%|██████████| 5/5 [00:00<00:00, 115.98it/s]\n",
      "k-fold: 100%|██████████| 5/5 [00:00<00:00, 118.12it/s]\n",
      "k-fold: 100%|██████████| 5/5 [00:00<00:00, 112.42it/s]\n",
      "k-fold: 100%|██████████| 5/5 [00:00<00:00, 118.87it/s]\n",
      "k-fold:   0%|          | 0/5 [00:00<?, ?it/s]"
     ]
    },
    {
     "name": "stdout",
     "output_type": "stream",
     "text": [
      "BayesianLinearRegression True\n"
     ]
    },
    {
     "name": "stderr",
     "output_type": "stream",
     "text": [
      "k-fold: 100%|██████████| 5/5 [00:00<00:00, 122.89it/s]\n",
      "k-fold: 100%|██████████| 5/5 [00:00<00:00, 62.05it/s]\n",
      "k-fold: 100%|██████████| 5/5 [00:00<00:00, 53.65it/s]\n",
      "k-fold: 100%|██████████| 5/5 [00:00<00:00, 52.35it/s]\n",
      "k-fold: 100%|██████████| 5/5 [00:00<00:00, 32.05it/s]\n",
      "k-fold: 100%|██████████| 5/5 [00:00<00:00, 39.12it/s]\n"
     ]
    },
    {
     "data": {
      "image/png": "[encoded data removed]",
      "text/plain": [
       "<Figure size 720x360 with 2 Axes>"
      ]
     },
     "metadata": {
      "needs_background": "light"
     },
     "output_type": "display_data"
    },
    {
     "data": {
      "image/png": "[encoded data removed]",
      "text/plain": [
       "<Figure size 1080x360 with 6 Axes>"
      ]
     },
     "metadata": {
      "needs_background": "light"
     },
     "output_type": "display_data"
    },
    {
     "name": "stderr",
     "output_type": "stream",
     "text": [
      "k-fold:   0%|          | 0/5 [00:00<?, ?it/s]"
     ]
    },
    {
     "name": "stdout",
     "output_type": "stream",
     "text": [
      "nlpd: 17.083828411810373\n",
      "Parâmetros: [0.32069033 0.33780206]\n",
      "BayesianPolinomialLinearRegression True\n"
     ]
    },
    {
     "name": "stderr",
     "output_type": "stream",
     "text": [
      "k-fold: 100%|██████████| 5/5 [00:01<00:00,  4.51it/s]\n",
      "k-fold: 100%|██████████| 5/5 [00:00<00:00, 20.60it/s]\n",
      "k-fold: 100%|██████████| 5/5 [00:00<00:00, 13.40it/s]\n",
      "k-fold: 100%|██████████| 5/5 [00:00<00:00,  5.21it/s]\n",
      "k-fold: 100%|██████████| 5/5 [00:01<00:00,  3.99it/s]\n",
      "k-fold: 100%|██████████| 5/5 [00:00<00:00, 17.40it/s]\n",
      "k-fold: 100%|██████████| 5/5 [00:00<00:00, 20.32it/s]\n"
     ]
    },
    {
     "data": {
      "image/png": "[encoded data removed]",
      "text/plain": [
       "<Figure size 720x360 with 2 Axes>"
      ]
     },
     "metadata": {
      "needs_background": "light"
     },
     "output_type": "display_data"
    },
    {
     "name": "stderr",
     "output_type": "stream",
     "text": [
      "k-fold: 100%|██████████| 5/5 [00:00<00:00, 26.91it/s]"
     ]
    },
    {
     "name": "stdout",
     "output_type": "stream",
     "text": [
      "nlpd: 17.187539077614257\n",
      "Parâmetros: [1.1 1.1 2. ]\n",
      "BayesianLinearRegressionNew True\n"
     ]
    },
    {
     "name": "stderr",
     "output_type": "stream",
     "text": [
      "\n",
      "k-fold: 100%|██████████| 5/5 [00:00<00:00, 38.87it/s]\n",
      "k-fold: 100%|██████████| 5/5 [00:00<00:00, 45.26it/s]\n",
      "k-fold: 100%|██████████| 5/5 [00:00<00:00, 40.94it/s]\n",
      "k-fold: 100%|██████████| 5/5 [00:00<00:00, 32.65it/s]\n",
      "k-fold: 100%|██████████| 5/5 [00:00<00:00, 26.55it/s]\n",
      "k-fold: 100%|██████████| 5/5 [00:00<00:00, 27.03it/s]\n",
      "k-fold: 100%|██████████| 5/5 [00:00<00:00, 27.66it/s]\n",
      "k-fold: 100%|██████████| 5/5 [00:00<00:00, 25.50it/s]\n",
      "k-fold: 100%|██████████| 5/5 [00:00<00:00, 56.05it/s]\n"
     ]
    },
    {
     "data": {
      "image/png": "[encoded data removed]",
      "text/plain": [
       "<Figure size 720x360 with 2 Axes>"
      ]
     },
     "metadata": {
      "needs_background": "light"
     },
     "output_type": "display_data"
    },
    {
     "data": {
      "image/png": "[encoded data removed]",
      "text/plain": [
       "<Figure size 432x288 with 1 Axes>"
      ]
     },
     "metadata": {
      "needs_background": "light"
     },
     "output_type": "display_data"
    },
    {
     "name": "stderr",
     "output_type": "stream",
     "text": [
      "k-fold:   0%|          | 0/5 [00:00<?, ?it/s]"
     ]
    },
    {
     "name": "stdout",
     "output_type": "stream",
     "text": [
      "nlpd: 10.201258015952181\n",
      "Parâmetros: [1.e-07]\n",
      "BayesianPolinomialLinearRegressionNew True\n"
     ]
    },
    {
     "name": "stderr",
     "output_type": "stream",
     "text": [
      "k-fold: 100%|██████████| 5/5 [00:00<00:00, 10.47it/s]\n",
      "k-fold: 100%|██████████| 5/5 [00:01<00:00,  4.89it/s]\n",
      "k-fold: 100%|██████████| 5/5 [00:01<00:00,  4.80it/s]\n",
      "k-fold: 100%|██████████| 5/5 [00:01<00:00,  3.44it/s]\n",
      "k-fold: 100%|██████████| 5/5 [00:01<00:00,  3.13it/s]\n",
      "k-fold: 100%|██████████| 5/5 [00:00<00:00,  8.83it/s]\n",
      "k-fold: 100%|██████████| 5/5 [00:01<00:00,  2.68it/s]\n",
      "k-fold: 100%|██████████| 5/5 [00:01<00:00,  3.42it/s]\n",
      "k-fold: 100%|██████████| 5/5 [00:01<00:00,  3.72it/s]\n",
      "k-fold: 100%|██████████| 5/5 [00:01<00:00,  4.61it/s]\n"
     ]
    },
    {
     "data": {
      "image/png": "[encoded data removed]",
      "text/plain": [
       "<Figure size 720x360 with 2 Axes>"
      ]
     },
     "metadata": {
      "needs_background": "light"
     },
     "output_type": "display_data"
    },
    {
     "data": {
      "image/png": "[encoded data removed]",
      "text/plain": [
       "<Figure size 1080x360 with 6 Axes>"
      ]
     },
     "metadata": {
      "needs_background": "light"
     },
     "output_type": "display_data"
    },
    {
     "name": "stderr",
     "output_type": "stream",
     "text": [
      "k-fold: 100%|██████████| 5/5 [00:00<00:00, 50.06it/s]\n",
      "k-fold:   0%|          | 0/5 [00:00<?, ?it/s]"
     ]
    },
    {
     "name": "stdout",
     "output_type": "stream",
     "text": [
      "nlpd: nan\n",
      "Parâmetros: [ 0.08312151 10.        ]\n",
      "BayesianRBFLinearRegression True\n"
     ]
    },
    {
     "name": "stderr",
     "output_type": "stream",
     "text": [
      "k-fold: 100%|██████████| 5/5 [00:00<00:00, 38.26it/s]\n",
      "k-fold: 100%|██████████| 5/5 [00:00<00:00, 35.36it/s]\n",
      "k-fold: 100%|██████████| 5/5 [00:00<00:00, 33.59it/s]\n",
      "k-fold: 100%|██████████| 5/5 [00:00<00:00, 33.30it/s]\n",
      "k-fold: 100%|██████████| 5/5 [00:00<00:00, 28.93it/s]\n",
      "k-fold: 100%|██████████| 5/5 [00:00<00:00, 28.85it/s]\n",
      "k-fold: 100%|██████████| 5/5 [00:00<00:00, 30.40it/s]\n",
      "k-fold: 100%|██████████| 5/5 [00:00<00:00, 34.13it/s]\n",
      "k-fold: 100%|██████████| 5/5 [00:00<00:00, 27.62it/s]\n"
     ]
    },
    {
     "data": {
      "image/png": "[encoded data removed]",
      "text/plain": [
       "<Figure size 720x360 with 2 Axes>"
      ]
     },
     "metadata": {
      "needs_background": "light"
     },
     "output_type": "display_data"
    },
    {
     "name": "stdout",
     "output_type": "stream",
     "text": [
      "nlpd: 10.137478579144936\n",
      "Parâmetros: [1.e-07 1.e+00 1.e-07]\n"
     ]
    }
   ],
   "source": [
    "relatorio_modelos = pd.DataFrame(columns=['modelo', 'parametros', 'rmse', 'nlpd', 'mape', 'fold', 'tentativa'])\n",
    "\n",
    "\n",
    "for modelo, (Classe, dominio) in modelos.items():\n",
    "    print(modelo, treinar[modelo])\n",
    "    if treinar[modelo]:\n",
    "        resultado_parcial = otimizacao_bayesiana(Modelo=Classe, dominio=dominio, X=X_train, y=y_train, metrica=metrica, max_iter=bo_max_iter)\n",
    "        relatorio_modelos = pd.concat([relatorio_modelos, resultado_parcial])\n",
    "        resultado_parcial.to_csv(f'resultados/parciais/{modelo}_{metrica}.csv')"
   ]
  },
  {
   "cell_type": "markdown",
   "id": "unknown-world",
   "metadata": {},
   "source": [
    "#### Resultado prelimiar"
   ]
  },
  {
   "cell_type": "code",
   "execution_count": 29,
   "id": "loose-binary",
   "metadata": {},
   "outputs": [
    {
     "data": {
      "text/html": [
       "<div>\n",
       "<style scoped>\n",
       "    .dataframe tbody tr th:only-of-type {\n",
       "        vertical-align: middle;\n",
       "    }\n",
       "\n",
       "    .dataframe tbody tr th {\n",
       "        vertical-align: top;\n",
       "    }\n",
       "\n",
       "    .dataframe thead tr th {\n",
       "        text-align: left;\n",
       "    }\n",
       "\n",
       "    .dataframe thead tr:last-of-type th {\n",
       "        text-align: right;\n",
       "    }\n",
       "</style>\n",
       "<table border=\"1\" class=\"dataframe\">\n",
       "  <thead>\n",
       "    <tr>\n",
       "      <th></th>\n",
       "      <th>tentativa</th>\n",
       "      <th colspan=\"2\" halign=\"left\">rmse</th>\n",
       "      <th colspan=\"2\" halign=\"left\">nlpd</th>\n",
       "      <th colspan=\"2\" halign=\"left\">mape</th>\n",
       "    </tr>\n",
       "    <tr>\n",
       "      <th></th>\n",
       "      <th></th>\n",
       "      <th>mean</th>\n",
       "      <th>std</th>\n",
       "      <th>mean</th>\n",
       "      <th>std</th>\n",
       "      <th>mean</th>\n",
       "      <th>std</th>\n",
       "    </tr>\n",
       "    <tr>\n",
       "      <th>modelo</th>\n",
       "      <th></th>\n",
       "      <th></th>\n",
       "      <th></th>\n",
       "      <th></th>\n",
       "      <th></th>\n",
       "      <th></th>\n",
       "      <th></th>\n",
       "    </tr>\n",
       "  </thead>\n",
       "  <tbody>\n",
       "    <tr>\n",
       "      <th>BayesianLinearRegression</th>\n",
       "      <td>1.0</td>\n",
       "      <td>2935.124403</td>\n",
       "      <td>756.789197</td>\n",
       "      <td>1.708383e+01</td>\n",
       "      <td>1.121408e-01</td>\n",
       "      <td>0.720418</td>\n",
       "      <td>0.337859</td>\n",
       "    </tr>\n",
       "    <tr>\n",
       "      <th>BayesianLinearRegressionNew</th>\n",
       "      <td>5.0</td>\n",
       "      <td>3384.041317</td>\n",
       "      <td>1014.084033</td>\n",
       "      <td>1.020126e+01</td>\n",
       "      <td>2.300322e-01</td>\n",
       "      <td>1.048745</td>\n",
       "      <td>0.492140</td>\n",
       "    </tr>\n",
       "    <tr>\n",
       "      <th>BayesianPolinomialLinearRegression</th>\n",
       "      <td>6.0</td>\n",
       "      <td>2980.710276</td>\n",
       "      <td>1200.723925</td>\n",
       "      <td>1.718754e+01</td>\n",
       "      <td>1.531087e-01</td>\n",
       "      <td>0.560298</td>\n",
       "      <td>0.352920</td>\n",
       "    </tr>\n",
       "    <tr>\n",
       "      <th>BayesianPolinomialLinearRegressionNew</th>\n",
       "      <td>5.0</td>\n",
       "      <td>11458.754843</td>\n",
       "      <td>9411.057685</td>\n",
       "      <td>1.733563e+01</td>\n",
       "      <td>1.381678e-01</td>\n",
       "      <td>1.085491</td>\n",
       "      <td>0.594095</td>\n",
       "    </tr>\n",
       "    <tr>\n",
       "      <th>BayesianRBFLinearRegression</th>\n",
       "      <td>9.0</td>\n",
       "      <td>3763.269340</td>\n",
       "      <td>991.237277</td>\n",
       "      <td>1.013748e+01</td>\n",
       "      <td>5.140908e-02</td>\n",
       "      <td>0.586903</td>\n",
       "      <td>0.154462</td>\n",
       "    </tr>\n",
       "    <tr>\n",
       "      <th>RegressaoLinear</th>\n",
       "      <td>3.0</td>\n",
       "      <td>3384.041337</td>\n",
       "      <td>1014.084048</td>\n",
       "      <td>6.137214e+66</td>\n",
       "      <td>3.379533e+66</td>\n",
       "      <td>1.048745</td>\n",
       "      <td>0.492140</td>\n",
       "    </tr>\n",
       "  </tbody>\n",
       "</table>\n",
       "</div>"
      ],
      "text/plain": [
       "                                      tentativa          rmse               \\\n",
       "                                                         mean          std   \n",
       "modelo                                                                       \n",
       "BayesianLinearRegression                    1.0   2935.124403   756.789197   \n",
       "BayesianLinearRegressionNew                 5.0   3384.041317  1014.084033   \n",
       "BayesianPolinomialLinearRegression          6.0   2980.710276  1200.723925   \n",
       "BayesianPolinomialLinearRegressionNew       5.0  11458.754843  9411.057685   \n",
       "BayesianRBFLinearRegression                 9.0   3763.269340   991.237277   \n",
       "RegressaoLinear                             3.0   3384.041337  1014.084048   \n",
       "\n",
       "                                               nlpd                    mape  \\\n",
       "                                               mean           std      mean   \n",
       "modelo                                                                        \n",
       "BayesianLinearRegression               1.708383e+01  1.121408e-01  0.720418   \n",
       "BayesianLinearRegressionNew            1.020126e+01  2.300322e-01  1.048745   \n",
       "BayesianPolinomialLinearRegression     1.718754e+01  1.531087e-01  0.560298   \n",
       "BayesianPolinomialLinearRegressionNew  1.733563e+01  1.381678e-01  1.085491   \n",
       "BayesianRBFLinearRegression            1.013748e+01  5.140908e-02  0.586903   \n",
       "RegressaoLinear                        6.137214e+66  3.379533e+66  1.048745   \n",
       "\n",
       "                                                 \n",
       "                                            std  \n",
       "modelo                                           \n",
       "BayesianLinearRegression               0.337859  \n",
       "BayesianLinearRegressionNew            0.492140  \n",
       "BayesianPolinomialLinearRegression     0.352920  \n",
       "BayesianPolinomialLinearRegressionNew  0.594095  \n",
       "BayesianRBFLinearRegression            0.154462  \n",
       "RegressaoLinear                        0.492140  "
      ]
     },
     "execution_count": 29,
     "metadata": {},
     "output_type": "execute_result"
    }
   ],
   "source": [
    "relatorio_condensado = \\\n",
    "relatorio_modelos.groupby(['modelo', 'tentativa']) \\\n",
    "                  .agg(['mean', 'std']) \\\n",
    "                  .reset_index() \\\n",
    "                  .sort_values(by=(metrica, 'mean')) \\\n",
    "                  .groupby('modelo').first()\n",
    "\n",
    "relatorio_condensado"
   ]
  },
  {
   "cell_type": "markdown",
   "id": "iraqi-possibility",
   "metadata": {},
   "source": [
    "### Resultado Final"
   ]
  },
  {
   "cell_type": "code",
   "execution_count": 30,
   "id": "needed-count",
   "metadata": {},
   "outputs": [
    {
     "data": {
      "text/html": [
       "<div>\n",
       "<style scoped>\n",
       "    .dataframe tbody tr th:only-of-type {\n",
       "        vertical-align: middle;\n",
       "    }\n",
       "\n",
       "    .dataframe tbody tr th {\n",
       "        vertical-align: top;\n",
       "    }\n",
       "\n",
       "    .dataframe thead th {\n",
       "        text-align: right;\n",
       "    }\n",
       "</style>\n",
       "<table border=\"1\" class=\"dataframe\">\n",
       "  <thead>\n",
       "    <tr style=\"text-align: right;\">\n",
       "      <th></th>\n",
       "      <th>BayesianLinearRegression</th>\n",
       "      <th>BayesianLinearRegressionNew</th>\n",
       "      <th>BayesianPolinomialLinearRegression</th>\n",
       "      <th>BayesianPolinomialLinearRegressionNew</th>\n",
       "      <th>BayesianRBFLinearRegression</th>\n",
       "      <th>RegressaoLinear</th>\n",
       "    </tr>\n",
       "  </thead>\n",
       "  <tbody>\n",
       "    <tr>\n",
       "      <th>alphaInit</th>\n",
       "      <td>0.320690</td>\n",
       "      <td>NaN</td>\n",
       "      <td>1.1</td>\n",
       "      <td>NaN</td>\n",
       "      <td>NaN</td>\n",
       "      <td>NaN</td>\n",
       "    </tr>\n",
       "    <tr>\n",
       "      <th>lambdaInit</th>\n",
       "      <td>0.337802</td>\n",
       "      <td>NaN</td>\n",
       "      <td>1.1</td>\n",
       "      <td>NaN</td>\n",
       "      <td>NaN</td>\n",
       "      <td>NaN</td>\n",
       "    </tr>\n",
       "    <tr>\n",
       "      <th>sig2_error</th>\n",
       "      <td>NaN</td>\n",
       "      <td>1.000000e-07</td>\n",
       "      <td>NaN</td>\n",
       "      <td>0.072821</td>\n",
       "      <td>1.000000e-07</td>\n",
       "      <td>NaN</td>\n",
       "    </tr>\n",
       "    <tr>\n",
       "      <th>order</th>\n",
       "      <td>NaN</td>\n",
       "      <td>NaN</td>\n",
       "      <td>2.0</td>\n",
       "      <td>3.000000</td>\n",
       "      <td>NaN</td>\n",
       "      <td>NaN</td>\n",
       "    </tr>\n",
       "    <tr>\n",
       "      <th>mean_rbf_arbitrario</th>\n",
       "      <td>NaN</td>\n",
       "      <td>NaN</td>\n",
       "      <td>NaN</td>\n",
       "      <td>NaN</td>\n",
       "      <td>7.684998e-01</td>\n",
       "      <td>NaN</td>\n",
       "    </tr>\n",
       "    <tr>\n",
       "      <th>lambda_rbf_arbitrario</th>\n",
       "      <td>NaN</td>\n",
       "      <td>NaN</td>\n",
       "      <td>NaN</td>\n",
       "      <td>NaN</td>\n",
       "      <td>1.000000e-07</td>\n",
       "      <td>NaN</td>\n",
       "    </tr>\n",
       "  </tbody>\n",
       "</table>\n",
       "</div>"
      ],
      "text/plain": [
       "                       BayesianLinearRegression  BayesianLinearRegressionNew  \\\n",
       "alphaInit                              0.320690                          NaN   \n",
       "lambdaInit                             0.337802                          NaN   \n",
       "sig2_error                                  NaN                 1.000000e-07   \n",
       "order                                       NaN                          NaN   \n",
       "mean_rbf_arbitrario                         NaN                          NaN   \n",
       "lambda_rbf_arbitrario                       NaN                          NaN   \n",
       "\n",
       "                       BayesianPolinomialLinearRegression  \\\n",
       "alphaInit                                             1.1   \n",
       "lambdaInit                                            1.1   \n",
       "sig2_error                                            NaN   \n",
       "order                                                 2.0   \n",
       "mean_rbf_arbitrario                                   NaN   \n",
       "lambda_rbf_arbitrario                                 NaN   \n",
       "\n",
       "                       BayesianPolinomialLinearRegressionNew  \\\n",
       "alphaInit                                                NaN   \n",
       "lambdaInit                                               NaN   \n",
       "sig2_error                                          0.072821   \n",
       "order                                               3.000000   \n",
       "mean_rbf_arbitrario                                      NaN   \n",
       "lambda_rbf_arbitrario                                    NaN   \n",
       "\n",
       "                       BayesianRBFLinearRegression  RegressaoLinear  \n",
       "alphaInit                                      NaN              NaN  \n",
       "lambdaInit                                     NaN              NaN  \n",
       "sig2_error                            1.000000e-07              NaN  \n",
       "order                                          NaN              NaN  \n",
       "mean_rbf_arbitrario                   7.684998e-01              NaN  \n",
       "lambda_rbf_arbitrario                 1.000000e-07              NaN  "
      ]
     },
     "execution_count": 30,
     "metadata": {},
     "output_type": "execute_result"
    }
   ],
   "source": [
    "melhores_hiperparametros = {}\n",
    "\n",
    "for modelo, tentativa in relatorio_condensado[['tentativa']].reset_index().values:\n",
    "    resultado = (relatorio_modelos.modelo == modelo) & (relatorio_modelos.tentativa == tentativa)\n",
    "    melhores_hiperparametros[modelo] = relatorio_modelos[resultado].parametros.values[0]\n",
    "\n",
    "pd.DataFrame(melhores_hiperparametros)"
   ]
  },
  {
   "cell_type": "code",
   "execution_count": 31,
   "id": "known-pride",
   "metadata": {},
   "outputs": [
    {
     "name": "stderr",
     "output_type": "stream",
     "text": [
      "6it [00:00, 11.70it/s]\n"
     ]
    },
    {
     "data": {
      "text/html": [
       "<div>\n",
       "<style scoped>\n",
       "    .dataframe tbody tr th:only-of-type {\n",
       "        vertical-align: middle;\n",
       "    }\n",
       "\n",
       "    .dataframe tbody tr th {\n",
       "        vertical-align: top;\n",
       "    }\n",
       "\n",
       "    .dataframe thead th {\n",
       "        text-align: right;\n",
       "    }\n",
       "</style>\n",
       "<table border=\"1\" class=\"dataframe\">\n",
       "  <thead>\n",
       "    <tr style=\"text-align: right;\">\n",
       "      <th></th>\n",
       "      <th>modelo</th>\n",
       "      <th>parametros</th>\n",
       "      <th>rmse</th>\n",
       "      <th>nlpd</th>\n",
       "      <th>mape</th>\n",
       "    </tr>\n",
       "  </thead>\n",
       "  <tbody>\n",
       "    <tr>\n",
       "      <th>0</th>\n",
       "      <td>BayesianLinearRegression</td>\n",
       "      <td>{'alphaInit': 0.3206903298669511, 'lambdaInit'...</td>\n",
       "      <td>8.612983e+03</td>\n",
       "      <td>1.709248e+01</td>\n",
       "      <td>1.833339</td>\n",
       "    </tr>\n",
       "    <tr>\n",
       "      <th>1</th>\n",
       "      <td>BayesianLinearRegressionNew</td>\n",
       "      <td>{'sig2_error': 1e-07}</td>\n",
       "      <td>1.343584e+04</td>\n",
       "      <td>1.024623e+01</td>\n",
       "      <td>1.240525</td>\n",
       "    </tr>\n",
       "    <tr>\n",
       "      <th>2</th>\n",
       "      <td>BayesianPolinomialLinearRegression</td>\n",
       "      <td>{'alphaInit': 1.1, 'lambdaInit': 1.1, 'order':...</td>\n",
       "      <td>3.636017e+05</td>\n",
       "      <td>1.715791e+01</td>\n",
       "      <td>2.066866</td>\n",
       "    </tr>\n",
       "    <tr>\n",
       "      <th>3</th>\n",
       "      <td>BayesianPolinomialLinearRegressionNew</td>\n",
       "      <td>{'sig2_error': 0.07282141762072211, 'order': 3.0}</td>\n",
       "      <td>1.776355e+08</td>\n",
       "      <td>1.716498e+01</td>\n",
       "      <td>3.068321</td>\n",
       "    </tr>\n",
       "    <tr>\n",
       "      <th>4</th>\n",
       "      <td>BayesianRBFLinearRegression</td>\n",
       "      <td>{'sig2_error': 1e-07, 'mean_rbf_arbitrario': 0...</td>\n",
       "      <td>4.199430e+03</td>\n",
       "      <td>1.014620e+01</td>\n",
       "      <td>0.615473</td>\n",
       "    </tr>\n",
       "    <tr>\n",
       "      <th>5</th>\n",
       "      <td>RegressaoLinear</td>\n",
       "      <td>{}</td>\n",
       "      <td>1.343584e+04</td>\n",
       "      <td>9.026086e+67</td>\n",
       "      <td>1.240525</td>\n",
       "    </tr>\n",
       "  </tbody>\n",
       "</table>\n",
       "</div>"
      ],
      "text/plain": [
       "                                  modelo  \\\n",
       "0               BayesianLinearRegression   \n",
       "1            BayesianLinearRegressionNew   \n",
       "2     BayesianPolinomialLinearRegression   \n",
       "3  BayesianPolinomialLinearRegressionNew   \n",
       "4            BayesianRBFLinearRegression   \n",
       "5                        RegressaoLinear   \n",
       "\n",
       "                                          parametros          rmse  \\\n",
       "0  {'alphaInit': 0.3206903298669511, 'lambdaInit'...  8.612983e+03   \n",
       "1                              {'sig2_error': 1e-07}  1.343584e+04   \n",
       "2  {'alphaInit': 1.1, 'lambdaInit': 1.1, 'order':...  3.636017e+05   \n",
       "3  {'sig2_error': 0.07282141762072211, 'order': 3.0}  1.776355e+08   \n",
       "4  {'sig2_error': 1e-07, 'mean_rbf_arbitrario': 0...  4.199430e+03   \n",
       "5                                                 {}  1.343584e+04   \n",
       "\n",
       "           nlpd      mape  \n",
       "0  1.709248e+01  1.833339  \n",
       "1  1.024623e+01  1.240525  \n",
       "2  1.715791e+01  2.066866  \n",
       "3  1.716498e+01  3.068321  \n",
       "4  1.014620e+01  0.615473  \n",
       "5  9.026086e+67  1.240525  "
      ]
     },
     "execution_count": 31,
     "metadata": {},
     "output_type": "execute_result"
    }
   ],
   "source": [
    "relatorio_final = pd.DataFrame(columns=['modelo', 'parametros', 'rmse', 'nlpd', 'mape'])\n",
    "\n",
    "\n",
    "for i, (modelo, hiperparametros) in tqdm(enumerate(melhores_hiperparametros.items())):\n",
    "    Modelo, dominio = modelos[modelo]\n",
    "    resultado = treinar_modelo(Modelo, X_train, X_test, y_train, y_test, **hiperparametros)\n",
    "                                         \n",
    "    relatorio_final.loc[i] = resultado\n",
    "    \n",
    "\n",
    "# # Nome do arquivo\n",
    "# nomes_modelos = relatorio.modelo.unique()\n",
    "# nomes_modelos.sort()\n",
    "\n",
    "# nome_arquivo = f'resultados/final/{fold_externo}_{metrica}_{\"-\".join(nomes_modelos)}.csv'\n",
    "# relatorio.to_csv(nome_arquivo)\n",
    "relatorio_final"
   ]
  }
 ],
 "metadata": {
  "kernelspec": {
   "display_name": "Python 3",
   "language": "python",
   "name": "python3"
  },
  "language_info": {
   "codemirror_mode": {
    "name": "ipython",
    "version": 3
   },
   "file_extension": ".py",
   "mimetype": "text/x-python",
   "name": "python",
   "nbconvert_exporter": "python",
   "pygments_lexer": "ipython3",
   "version": "3.8.5"
  },
  "toc-autonumbering": true,
  "toc-showtags": false
 },
 "nbformat": 4,
 "nbformat_minor": 5
}
