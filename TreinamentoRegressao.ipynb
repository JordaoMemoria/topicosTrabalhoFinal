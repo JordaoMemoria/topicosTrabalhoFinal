{
 "cells": [
  {
   "cell_type": "markdown",
   "id": "unique-facility",
   "metadata": {},
   "source": [
    "# Treinamento regressão"
   ]
  },
  {
   "cell_type": "code",
   "execution_count": 1,
   "id": "cloudy-relationship",
   "metadata": {},
   "outputs": [],
   "source": [
    "treinar = {\n",
    "    'GP': False,\n",
    "    'RegressaoLinear': True,\n",
    "    'BayesianLinearRegression': True,\n",
    "    'BayesianPolinomialLinearRegression': True,\n",
    "    'BayesianLinearRegressionNew': True,\n",
    "    'BayesianPolinomialLinearRegressionNew': True,\n",
    "    'BayesianRBFLinearRegression': True,\n",
    "}"
   ]
  },
  {
   "cell_type": "code",
   "execution_count": 2,
   "id": "patent-arbor",
   "metadata": {},
   "outputs": [],
   "source": [
    "# Métrica da otimização bayesiana\n",
    "# Selecione: rmse, nlpd\n",
    "metrica = 'rmse'\n",
    "#metrica = 'nlpd'"
   ]
  },
  {
   "cell_type": "code",
   "execution_count": 3,
   "id": "plain-temperature",
   "metadata": {},
   "outputs": [],
   "source": [
    "bo_max_iter=50"
   ]
  },
  {
   "cell_type": "markdown",
   "id": "transsexual-moral",
   "metadata": {},
   "source": [
    "## Conjunto de dados"
   ]
  },
  {
   "cell_type": "code",
   "execution_count": 4,
   "id": "virgin-illustration",
   "metadata": {},
   "outputs": [],
   "source": [
    "import numpy as np\n",
    "import pandas as pd\n",
    "\n",
    "dataset = pd.read_csv('housesToRentProcessed.csv', index_col=0)\n",
    "\n",
    "X = dataset[[\n",
    "    'São Paulo', 'Porto Alegre', 'Rio de Janeiro', 'Campinas', 'Belo Horizonte', \n",
    "    'area',\n",
    "    'rooms', 'bathroom', 'parking spaces', 'floor', 'isHouse', 'animal', 'furniture',\n",
    "]].values\n",
    "y = dataset[['y con + alu']].values"
   ]
  },
  {
   "cell_type": "markdown",
   "id": "ignored-candy",
   "metadata": {},
   "source": [
    "### Descrição do conjunto de dados\n",
    "\n",
    "| Atributo         | Descrição                                           | Valor  |\n",
    "| ---------------- | --------------------------------------------------- | ------ |\n",
    "| `São Paulo`      | Imóvel está localizado na cidade de São Paulo?      | `int: 0 false - 1 true` |\n",
    "| `Porto Alegre`   | Imóvel está localizado na cidade de Porto Alegre?   | `int: 0 false - 1 true` |\n",
    "| `Rio de Janeiro` | Imóvel está localizado na cidade de Rio de Janeiro? | `int: 0 false - 1 true` |\n",
    "| `Campinas`       | Imóvel está localizado na cidade de Campinas?       | `int: 0 false - 1 true` |\n",
    "| `Belo Horizonte` | Imóvel está localizado na cidade de Belo Horizonte? | `int: 0 false - 1 true` |\n",
    "| `area`           | Área do imóvel (em metros quadrados)                | `float` |\n",
    "| `rooms`          | Quantidade de quartos                               | `int` |\n",
    "| `bathroom`       | Quantidade de banheiros                             | `int` |\n",
    "| `floor`          | Andar localizado o imóvel                           | `int`. `0` pressuposto para casa |\n",
    "| `isHouse`        | Imóvel corresponde a um aluguel de casa             | `int: 0 false - 1 true` |\n",
    "| `animal`         | É possivel levar animais para o imóvel              | `int: 0 false - 1 true` |\n",
    "| `furniture`      | Se a casa já vem mobiliada                          | `int: 0 false - 1 true` |\n",
    "| `y con + alu`    | Valor mensal total do aluguel do imóvel: aluguel + taxa de condomínio. | `float` |"
   ]
  },
  {
   "cell_type": "code",
   "execution_count": 5,
   "id": "underlying-limit",
   "metadata": {},
   "outputs": [
    {
     "data": {
      "text/html": [
       "<div>\n",
       "<style scoped>\n",
       "    .dataframe tbody tr th:only-of-type {\n",
       "        vertical-align: middle;\n",
       "    }\n",
       "\n",
       "    .dataframe tbody tr th {\n",
       "        vertical-align: top;\n",
       "    }\n",
       "\n",
       "    .dataframe thead th {\n",
       "        text-align: right;\n",
       "    }\n",
       "</style>\n",
       "<table border=\"1\" class=\"dataframe\">\n",
       "  <thead>\n",
       "    <tr style=\"text-align: right;\">\n",
       "      <th></th>\n",
       "      <th>São Paulo</th>\n",
       "      <th>Porto Alegre</th>\n",
       "      <th>Rio de Janeiro</th>\n",
       "      <th>Campinas</th>\n",
       "      <th>Belo Horizonte</th>\n",
       "      <th>area</th>\n",
       "      <th>rooms</th>\n",
       "      <th>bathroom</th>\n",
       "      <th>parking spaces</th>\n",
       "      <th>floor</th>\n",
       "      <th>isHouse</th>\n",
       "      <th>animal</th>\n",
       "      <th>furniture</th>\n",
       "      <th>y con + alu</th>\n",
       "    </tr>\n",
       "  </thead>\n",
       "  <tbody>\n",
       "    <tr>\n",
       "      <th>3489</th>\n",
       "      <td>0</td>\n",
       "      <td>0</td>\n",
       "      <td>0</td>\n",
       "      <td>1</td>\n",
       "      <td>0</td>\n",
       "      <td>69</td>\n",
       "      <td>2</td>\n",
       "      <td>2</td>\n",
       "      <td>1</td>\n",
       "      <td>14</td>\n",
       "      <td>0</td>\n",
       "      <td>1</td>\n",
       "      <td>0</td>\n",
       "      <td>2125</td>\n",
       "    </tr>\n",
       "    <tr>\n",
       "      <th>669</th>\n",
       "      <td>1</td>\n",
       "      <td>0</td>\n",
       "      <td>0</td>\n",
       "      <td>0</td>\n",
       "      <td>0</td>\n",
       "      <td>450</td>\n",
       "      <td>4</td>\n",
       "      <td>5</td>\n",
       "      <td>6</td>\n",
       "      <td>1</td>\n",
       "      <td>1</td>\n",
       "      <td>1</td>\n",
       "      <td>0</td>\n",
       "      <td>12000</td>\n",
       "    </tr>\n",
       "    <tr>\n",
       "      <th>6003</th>\n",
       "      <td>0</td>\n",
       "      <td>0</td>\n",
       "      <td>0</td>\n",
       "      <td>0</td>\n",
       "      <td>1</td>\n",
       "      <td>61</td>\n",
       "      <td>3</td>\n",
       "      <td>1</td>\n",
       "      <td>1</td>\n",
       "      <td>2</td>\n",
       "      <td>0</td>\n",
       "      <td>1</td>\n",
       "      <td>0</td>\n",
       "      <td>1800</td>\n",
       "    </tr>\n",
       "    <tr>\n",
       "      <th>5333</th>\n",
       "      <td>1</td>\n",
       "      <td>0</td>\n",
       "      <td>0</td>\n",
       "      <td>0</td>\n",
       "      <td>0</td>\n",
       "      <td>54</td>\n",
       "      <td>2</td>\n",
       "      <td>2</td>\n",
       "      <td>1</td>\n",
       "      <td>2</td>\n",
       "      <td>0</td>\n",
       "      <td>1</td>\n",
       "      <td>0</td>\n",
       "      <td>2327</td>\n",
       "    </tr>\n",
       "    <tr>\n",
       "      <th>1524</th>\n",
       "      <td>0</td>\n",
       "      <td>0</td>\n",
       "      <td>0</td>\n",
       "      <td>1</td>\n",
       "      <td>0</td>\n",
       "      <td>85</td>\n",
       "      <td>3</td>\n",
       "      <td>2</td>\n",
       "      <td>1</td>\n",
       "      <td>7</td>\n",
       "      <td>0</td>\n",
       "      <td>1</td>\n",
       "      <td>0</td>\n",
       "      <td>2415</td>\n",
       "    </tr>\n",
       "  </tbody>\n",
       "</table>\n",
       "</div>"
      ],
      "text/plain": [
       "      São Paulo  Porto Alegre  Rio de Janeiro  Campinas  Belo Horizonte  area  \\\n",
       "3489          0             0               0         1               0    69   \n",
       "669           1             0               0         0               0   450   \n",
       "6003          0             0               0         0               1    61   \n",
       "5333          1             0               0         0               0    54   \n",
       "1524          0             0               0         1               0    85   \n",
       "\n",
       "      rooms  bathroom  parking spaces  floor  isHouse  animal  furniture  \\\n",
       "3489      2         2               1     14        0       1          0   \n",
       "669       4         5               6      1        1       1          0   \n",
       "6003      3         1               1      2        0       1          0   \n",
       "5333      2         2               1      2        0       1          0   \n",
       "1524      3         2               1      7        0       1          0   \n",
       "\n",
       "      y con + alu  \n",
       "3489         2125  \n",
       "669         12000  \n",
       "6003         1800  \n",
       "5333         2327  \n",
       "1524         2415  "
      ]
     },
     "execution_count": 5,
     "metadata": {},
     "output_type": "execute_result"
    }
   ],
   "source": [
    "dataset.head()"
   ]
  },
  {
   "cell_type": "markdown",
   "id": "macro-belief",
   "metadata": {},
   "source": [
    "### Separação de treino e teste\n",
    "\n",
    "Os dados foram separados em treino e em teste seguindo a proporção de $70\\%$ para treino e de $30\\%$ para testes. O processo de seleção do modelo será descrito posteriormente."
   ]
  },
  {
   "cell_type": "code",
   "execution_count": 6,
   "id": "electoral-location",
   "metadata": {},
   "outputs": [
    {
     "name": "stdout",
     "output_type": "stream",
     "text": [
      "Quantidade de elementos para o treinamento: (7481, 13)\n",
      "Quantidade de elementos selecionados para teste: (3207, 13)\n"
     ]
    }
   ],
   "source": [
    "from sklearn.model_selection import train_test_split\n",
    "\n",
    "# FIXME: Separar respeitando a proproção em cada cidade\n",
    "X_train, X_test, y_train, y_test = train_test_split(X, y, test_size=0.3, random_state=42)\n",
    "\n",
    "#X_train = X_train[:50]\n",
    "#y_train = y_train[:50]\n",
    "\n",
    "print('Quantidade de elementos para o treinamento:', X_train.shape)\n",
    "print('Quantidade de elementos selecionados para teste:', X_test.shape)"
   ]
  },
  {
   "cell_type": "markdown",
   "id": "olive-mechanics",
   "metadata": {},
   "source": [
    "### Normalização - AJEITAR\n",
    "\n",
    "A normalização aplicada no conjunto de dados foi a [min/max scalling](https://scikit-learn.org/stable/modules/generated/sklearn.preprocessing.MinMaxScaler.html#sklearn.preprocessing.MinMaxScaler):\n",
    "\\begin{aligned}\n",
    "\\mathcal{D}_{std} &= \\frac{\\mathcal{D} - \\mathcal{D}.min(axis=0)}{\\mathcal{D}.max(axis=0) - \\mathcal{D}.min(axis=0)}; \\\\\n",
    "\\mathcal{D}_{scaled} &= \\mathcal{D}_{std} \\cdot (max - min) + min.\n",
    "\\end{aligned}\n",
    "A transformação aplicada, escala (dimensiona) e translada cada característica individualmente, de modo que esta esteja entre o intervalo $[0, 1]$.\n",
    "\n",
    "Como poderá ser visto adiante, este trabalho tomou o cuidado dos dados de validação e de teste serem transformados conforme os dados  a escala definida no treinamento."
   ]
  },
  {
   "cell_type": "code",
   "execution_count": 7,
   "id": "electrical-drove",
   "metadata": {},
   "outputs": [],
   "source": [
    "from sklearn.preprocessing import StandardScaler\n",
    "\n",
    "Scaler = StandardScaler"
   ]
  },
  {
   "cell_type": "markdown",
   "id": "collect-trailer",
   "metadata": {},
   "source": [
    "## Treinamento\n",
    "\n",
    "Com o intuito de selecionar os melhores hiperparâmetros, para cada um dos modelo testados, foi realizado uma validação cruzada por meio de _5-folds_, onde ocorreu uma otimização bayesiana em cada um dos _folds_. Os hiperparâmetros foram selecionados de acordo com o resultado da métrica **DECIDIR**, descrita adiante neste trabalho.\n",
    "\n",
    "Após a seleção dos hiperparâmetros, cada um dos modelos foram avaliados com conjunto de testes por meio das métricas descritas a seguir."
   ]
  },
  {
   "cell_type": "markdown",
   "id": "engaged-monitoring",
   "metadata": {},
   "source": [
    "### Métricas\n",
    "\n",
    "#### Root Mean Squared Error (RMSE)\n",
    "\n",
    "__Root Mean Squared Error__ ou raiz do erro quadrático médio [_terminar_]\n",
    "\n",
    "\\begin{aligned}\n",
    "\\text{MSE}(\\boldsymbol{y}, \\hat{\\boldsymbol{y}}) &= \\frac{1}{N_\\text{teste}} \\sum_{i=1}^{N_\\text{teste}} (y_i - \\hat{y}_i)^2; \\\\\n",
    "\\text{RMSE}(\\boldsymbol{y}, \\hat{\\boldsymbol{y}}) &= \\sqrt{\\text{MSE}(\\boldsymbol{y}, \\hat{\\boldsymbol{y}})}\n",
    "\\end{aligned}"
   ]
  },
  {
   "cell_type": "code",
   "execution_count": 8,
   "id": "controlling-penny",
   "metadata": {},
   "outputs": [],
   "source": [
    "from trabalho.util.metrica import rmse"
   ]
  },
  {
   "cell_type": "markdown",
   "id": "lyric-printer",
   "metadata": {},
   "source": [
    "#### Negative Log Predictive Density (NLPD)\n",
    "\n",
    "A métrica **Negative Log Predictive Density** (NLPD) leva em consideração a variância predita $\\hat{\\sigma}_i^2$, além dos valores esperados e preditos (média):\n",
    "\n",
    "\\begin{aligned}\n",
    "\\text{NLPD}\n",
    "&= -\\frac{1}{N_\\text{teste}}\n",
    "    \\sum_{i=1}^{N_\\text{teste}}\n",
    "    \\log \n",
    "    \\overbrace{p(y_i|\\boldsymbol{x}_i, \\boldsymbol{y}, \\boldsymbol{X}, \\hat{\\boldsymbol{\\theta}})}^{\\mathcal{N}(y_i|\\hat{\\mu}_i, \\hat{\\sigma}_i^2)}\n",
    "    \\\\\n",
    "&= \\frac{1}{2}\\log2\\pi + \\frac{1}{2 N_\\text{teste}}\n",
    "\\sum_{i=1}^{N_\\text{teste}} \\left[\\log \\hat{\\sigma}^2_i + \\frac{(y_i - \\hat{\\mu}_i)^2}{\\hat{\\sigma}^2_i}\\right]\n",
    "\\end{aligned}\n",
    "\n",
    "Conforme já discutido em aula, a NLPD busca realçar modelos equilibrandos, penalizando:\n",
    "* modelos muito confiantes nos casos de erros grandes ($\\sigma^2_i$ baixos para erros maiores), e;\n",
    "* modelos pouco confiantes nos casos de erros pequenos ($\\sigma^2_i$ altos para erros menores)."
   ]
  },
  {
   "cell_type": "code",
   "execution_count": 9,
   "id": "hydraulic-belgium",
   "metadata": {},
   "outputs": [],
   "source": [
    "from trabalho.util.metrica import nlpd"
   ]
  },
  {
   "cell_type": "markdown",
   "id": "caring-whale",
   "metadata": {},
   "source": [
    "## Modelos utilizados"
   ]
  },
  {
   "cell_type": "code",
   "execution_count": 10,
   "id": "bored-ready",
   "metadata": {},
   "outputs": [],
   "source": [
    "relatorio_modelos = pd.DataFrame(columns=['modelo', 'parametros', 'rmse', 'nlpd', 'fold'])"
   ]
  },
  {
   "cell_type": "markdown",
   "id": "referenced-extra",
   "metadata": {},
   "source": [
    "### Processos Gaussianos"
   ]
  },
  {
   "cell_type": "code",
   "execution_count": 11,
   "id": "sought-salad",
   "metadata": {},
   "outputs": [
    {
     "data": {
      "text/plain": [
       "trabalho.modelos.gp.GP"
      ]
     },
     "execution_count": 11,
     "metadata": {},
     "output_type": "execute_result"
    }
   ],
   "source": [
    "from trabalho.modelos.gp import GP\n",
    "\n",
    "GP"
   ]
  },
  {
   "cell_type": "markdown",
   "id": "ahead-domain",
   "metadata": {},
   "source": [
    "#### Hiperparâmetros a serem procurados"
   ]
  },
  {
   "cell_type": "code",
   "execution_count": 12,
   "id": "spanish-liquid",
   "metadata": {},
   "outputs": [
    {
     "data": {
      "text/plain": [
       "[{'name': 'kernel', 'type': 'categorical', 'domain': [0, 1, 2, 3]},\n",
       " {'name': 'mean_function', 'type': 'categorical', 'domain': [0, 1]}]"
      ]
     },
     "execution_count": 12,
     "metadata": {},
     "output_type": "execute_result"
    }
   ],
   "source": [
    "from trabalho.util.otimizacao_bayesiana import Dominio\n",
    "import gpflow\n",
    "\n",
    "\n",
    "kernels = [\n",
    "    # Combinação de kernels\n",
    "    #gpflow.kernels.Combination(),\n",
    "    #gpflow.kernels.ChangePoints(),\n",
    "    #gpflow.kernels.Product(),\n",
    "    #gpflow.kernels.Sum(),\n",
    "    \n",
    "    # Imagem (convolução)\n",
    "    #gpflow.kernels.Convolutional(),\n",
    "    \n",
    "    # Dados estacionários\n",
    "    #gpflow.kernels.Stationary(),\n",
    "    #gpflow.kernels.Periodic(), # Can be used to wrap any Stationary kernel to transform it into a periodic version\n",
    "    #gpflow.kernels.AnisotropicStationary(), \n",
    "    #gpflow.kernels.IsotropicStationary(),\n",
    "    \n",
    "    # Multi objetivo\n",
    "    #gpflow.kernels.MultioutputKernel(),\n",
    "    #gpflow.kernels.IndependentLatent(),\n",
    "    #gpflow.kernels.LinearCoregionalization(),\n",
    "    #gpflow.kernels.SeparateIndependent(),\n",
    "    #gpflow.kernels.SharedIndependent(),\n",
    "    \n",
    "    # Outros exóticos\n",
    "    #gpflow.kernels.Coregion(),\n",
    "    \n",
    "    # Ok\n",
    "    #gpflow.kernels.Kernel(), # Classe base\n",
    "    #gpflow.kernels.Static(), # Classe base\n",
    "    \n",
    "    #gpflow.kernels.ArcCosine(),\n",
    "    #gpflow.kernels.Constant(),\n",
    "    #gpflow.kernels.Cosine(),\n",
    "    #gpflow.kernels.Exponential(),\n",
    "    #gpflow.kernels.Linear(),\n",
    "    \n",
    "    gpflow.kernels.Matern12(),\n",
    "    gpflow.kernels.Matern32(),\n",
    "    gpflow.kernels.Matern52(),\n",
    "    \n",
    "    #gpflow.kernels.Polynomial(),\n",
    "    gpflow.kernels.SquaredExponential(), # RBF\n",
    "    #gpflow.kernels.RationalQuadratic(),\n",
    "    \n",
    "    #gpflow.kernels.White(),\n",
    "]\n",
    "\n",
    "\n",
    "means = [\n",
    "    # Padrão\n",
    "    gpflow.mean_functions.Zero(),\n",
    "    # Média\n",
    "    gpflow.mean_functions.Linear(),\n",
    "]\n",
    "\n",
    "dominio_gp = Dominio([\n",
    "    # https://gpflow.readthedocs.io/en/master/gpflow/kernels/#gpflow-kernels-linear\n",
    "    {\n",
    "        'name': 'kernel',\n",
    "        'type': 'categorical',\n",
    "        'domain': kernels\n",
    "    },\n",
    "    {\n",
    "        'name': 'mean_function',\n",
    "        'type': 'categorical',\n",
    "        'domain': means\n",
    "    },\n",
    "#     {'name': 'learning_rate',   'type': 'continuous', 'domain': (0.0001, 0.02)},\n",
    "#     {'name': 'sampling_method', 'type': 'discrete',   'domain': (1, 3, 5)},\n",
    "#     {'name': 'regularization',  'type': 'continuous', 'domain': (0.00001, 0.01)},\n",
    "#     {'name': 'batch_size',      'type': 'discrete',   'domain': (10, 16, 32)},\n",
    "])\n",
    "\n",
    "dominio_gp.dominio"
   ]
  },
  {
   "cell_type": "markdown",
   "id": "neither-complex",
   "metadata": {},
   "source": [
    "### Regressão Linear"
   ]
  },
  {
   "cell_type": "markdown",
   "id": "direct-maintenance",
   "metadata": {},
   "source": [
    "#### Regressão Linear (não bayesiana)"
   ]
  },
  {
   "cell_type": "code",
   "execution_count": 13,
   "id": "infrared-print",
   "metadata": {},
   "outputs": [
    {
     "data": {
      "text/plain": [
       "trabalho.modelos.regressao_linear.RegressaoLinear"
      ]
     },
     "execution_count": 13,
     "metadata": {},
     "output_type": "execute_result"
    }
   ],
   "source": [
    "from trabalho.modelos.regressao_linear import RegressaoLinear\n",
    "\n",
    "RegressaoLinear"
   ]
  },
  {
   "cell_type": "markdown",
   "id": "about-meaning",
   "metadata": {},
   "source": [
    "##### Hiperparâmetros a serem procurados"
   ]
  },
  {
   "cell_type": "code",
   "execution_count": 14,
   "id": "quick-merit",
   "metadata": {},
   "outputs": [],
   "source": [
    "dominio_regressao_linear = Dominio([])"
   ]
  },
  {
   "cell_type": "markdown",
   "id": "prepared-glossary",
   "metadata": {},
   "source": [
    "#### Regressão Linear Bayesiana"
   ]
  },
  {
   "cell_type": "code",
   "execution_count": 15,
   "id": "toxic-campus",
   "metadata": {},
   "outputs": [
    {
     "data": {
      "text/plain": [
       "trabalho.modelos.bayesian_linear_regression.BayesianLinearRegression"
      ]
     },
     "execution_count": 15,
     "metadata": {},
     "output_type": "execute_result"
    }
   ],
   "source": [
    "from trabalho.modelos.bayesian_linear_regression import BayesianLinearRegression\n",
    "\n",
    "BayesianLinearRegression"
   ]
  },
  {
   "cell_type": "code",
   "execution_count": 16,
   "id": "interior-madness",
   "metadata": {},
   "outputs": [
    {
     "data": {
      "text/plain": [
       "trabalho.modelos.bayesian_linear_regression_new.BayesianLinearRegressionNew"
      ]
     },
     "execution_count": 16,
     "metadata": {},
     "output_type": "execute_result"
    }
   ],
   "source": [
    "from trabalho.modelos.bayesian_linear_regression_new import BayesianLinearRegressionNew\n",
    "\n",
    "BayesianLinearRegressionNew"
   ]
  },
  {
   "cell_type": "markdown",
   "id": "valuable-mining",
   "metadata": {},
   "source": [
    "##### Hiperparâmetros a serem procurados"
   ]
  },
  {
   "cell_type": "code",
   "execution_count": 17,
   "id": "adaptive-slave",
   "metadata": {},
   "outputs": [],
   "source": [
    "dominio_regressao_linear_bayesiana = Dominio([\n",
    "    {\n",
    "        'name': 'alphaInit',\n",
    "        'type': 'continuous',\n",
    "        'domain': (1e-7, 1.1)\n",
    "    },\n",
    "    {\n",
    "        'name': 'lambdaInit',\n",
    "        'type': 'continuous',\n",
    "        'domain': (1e-7, 1.1)\n",
    "    }\n",
    "])"
   ]
  },
  {
   "cell_type": "code",
   "execution_count": 18,
   "id": "consistent-anderson",
   "metadata": {},
   "outputs": [],
   "source": [
    "dominio_regressao_linear_bayesiana_new = Dominio([\n",
    "    {\n",
    "        'name': 'sig2_error',\n",
    "        'type': 'continuous',\n",
    "        'domain': (1e-7, 1)\n",
    "    }\n",
    "])"
   ]
  },
  {
   "cell_type": "markdown",
   "id": "criminal-milwaukee",
   "metadata": {},
   "source": [
    "#### Regressão Linear Bayesiana Polinomial"
   ]
  },
  {
   "cell_type": "code",
   "execution_count": 19,
   "id": "competent-teddy",
   "metadata": {},
   "outputs": [
    {
     "data": {
      "text/plain": [
       "trabalho.modelos.bayesian_polinomial_linear_regression.BayesianPolinomialLinearRegression"
      ]
     },
     "execution_count": 19,
     "metadata": {},
     "output_type": "execute_result"
    }
   ],
   "source": [
    "from trabalho.modelos.bayesian_polinomial_linear_regression import BayesianPolinomialLinearRegression\n",
    "\n",
    "BayesianPolinomialLinearRegression"
   ]
  },
  {
   "cell_type": "code",
   "execution_count": 20,
   "id": "registered-cholesterol",
   "metadata": {},
   "outputs": [
    {
     "data": {
      "text/plain": [
       "trabalho.modelos.bayesian_polinomial_linear_regression_new.BayesianPolinomialLinearRegressionNew"
      ]
     },
     "execution_count": 20,
     "metadata": {},
     "output_type": "execute_result"
    }
   ],
   "source": [
    "from trabalho.modelos.bayesian_polinomial_linear_regression_new import BayesianPolinomialLinearRegressionNew\n",
    "\n",
    "BayesianPolinomialLinearRegressionNew"
   ]
  },
  {
   "cell_type": "markdown",
   "id": "living-reconstruction",
   "metadata": {},
   "source": [
    "##### Hiperparâmetros a serem procurados"
   ]
  },
  {
   "cell_type": "code",
   "execution_count": 21,
   "id": "leading-prince",
   "metadata": {},
   "outputs": [],
   "source": [
    "dominio_regressao_linear_bayesiana_polinomial = Dominio([\n",
    "    {\n",
    "        'name': 'alphaInit',\n",
    "        'type': 'continuous',\n",
    "        'domain': (0.0001, 1.1)\n",
    "    },\n",
    "    {\n",
    "        'name': 'lambdaInit',\n",
    "        'type': 'continuous',\n",
    "        'domain': (0.0001, 1.1)\n",
    "    },\n",
    "    {\n",
    "        'name': 'order',\n",
    "        'type': 'discrete',\n",
    "        'domain': (2, 3, 4, 5, 6, 7, 8, 9, 10)\n",
    "    }\n",
    "])"
   ]
  },
  {
   "cell_type": "code",
   "execution_count": 22,
   "id": "electric-registration",
   "metadata": {},
   "outputs": [],
   "source": [
    "dominio_regressao_linear_bayesiana_polinomial_new = Dominio([\n",
    "    {\n",
    "        'name': 'sig2_error',\n",
    "        'type': 'continuous',\n",
    "        'domain': (1e-7, 1)\n",
    "    },\n",
    "    {\n",
    "        'name': 'order',\n",
    "        'type': 'discrete',\n",
    "        'domain': (2, 3, 4, 5, 6, 7, 8, 9, 10)\n",
    "    }\n",
    "])"
   ]
  },
  {
   "cell_type": "markdown",
   "id": "racial-moore",
   "metadata": {},
   "source": [
    "#### Regressão Linear Bayesiana com kernel RBF"
   ]
  },
  {
   "cell_type": "code",
   "execution_count": 23,
   "id": "nonprofit-assistant",
   "metadata": {},
   "outputs": [
    {
     "data": {
      "text/plain": [
       "trabalho.modelos.bayesian_rbf_linear_regression.BayesianRBFLinearRegression"
      ]
     },
     "execution_count": 23,
     "metadata": {},
     "output_type": "execute_result"
    }
   ],
   "source": [
    "from trabalho.modelos.bayesian_rbf_linear_regression import BayesianRBFLinearRegression\n",
    "\n",
    "BayesianRBFLinearRegression"
   ]
  },
  {
   "cell_type": "markdown",
   "id": "discrete-graduation",
   "metadata": {},
   "source": [
    "##### Hiperparâmetros a serem procurados"
   ]
  },
  {
   "cell_type": "code",
   "execution_count": 24,
   "id": "filled-coffee",
   "metadata": {},
   "outputs": [],
   "source": [
    "dominio_regressao_linear_bayesiana_rbf = Dominio([\n",
    "#     {\n",
    "#         'name': 'm0',\n",
    "#         'type': 'continuous',\n",
    "#         'domain': (0.0001, 1.1)\n",
    "#     },\n",
    "#     {\n",
    "#         'name': 'S0',\n",
    "#         'type': 'continuous',\n",
    "#         'domain': (0.0001, 1.1)\n",
    "#     },\n",
    "    {\n",
    "        'name': 'sig2_error',\n",
    "        'type': 'continuous',\n",
    "        'domain': (1e-7, 1)\n",
    "    },\n",
    "    {\n",
    "        'name': 'mean_rbf_arbitrario',\n",
    "        'type': 'continuous',\n",
    "        'domain': (-1, 1)\n",
    "    },\n",
    "    {\n",
    "        'name': 'lambda_rbf_arbitrario',\n",
    "        'type': 'continuous',\n",
    "        'domain': (1e-7, 1)\n",
    "    }\n",
    "])"
   ]
  },
  {
   "cell_type": "markdown",
   "id": "accomplished-luther",
   "metadata": {},
   "source": [
    "### Validação - Seleção de modelos"
   ]
  },
  {
   "cell_type": "code",
   "execution_count": 25,
   "id": "accepting-scotland",
   "metadata": {},
   "outputs": [],
   "source": [
    "from trabalho.util.kfold import KFoldCrossValidation\n",
    "from GPyOpt.methods import BayesianOptimization\n",
    "from tqdm import tqdm\n",
    "\n",
    "\n",
    "def f(Modelo, X, y, metrica, k_folds, relatorio_geral, **kwargs):\n",
    "    relatorio_parcial = pd.DataFrame(columns=['modelo', 'parametros', 'rmse', 'nlpd', 'fold', 'tentativa'])\n",
    "    \n",
    "    for fold, X_train, X_validation, y_train, y_validation in tqdm(KFoldCrossValidation(X, y, k_folds).split(), total=k_folds, desc=\"k-fold\"):\n",
    "        resultado = treinar_modelo(Modelo, X_train, X_validation, y_train, y_validation, **kwargs)\n",
    "        \n",
    "        total_execucoes = len(relatorio_geral)\n",
    "        tentativa = (total_execucoes - total_execucoes % k_folds) / k_folds\n",
    "        \n",
    "        relatorio_parcial.loc[len(relatorio_parcial)] = resultado + [fold, tentativa]\n",
    "        relatorio_geral.loc[total_execucoes] = resultado + [fold, tentativa]\n",
    "\n",
    "\n",
    "    medias = relatorio_parcial.mean()\n",
    "    \n",
    "    # Fixme: juntar com o relatório final\n",
    "    #relatorio_parcial\n",
    "    \n",
    "    return medias[metrica]\n",
    "\n",
    "\n",
    "def treinar_modelo(Modelo, X_train, X_validation, y_train, y_validation, **kwargs):\n",
    "    X_scaler = Scaler()\n",
    "    y_scaler = Scaler()\n",
    "\n",
    "    X_train_transform      = X_scaler.fit_transform(X_train)\n",
    "    X_validation_transform = X_scaler.transform(X_validation)\n",
    "    y_train_transform      = y_scaler.fit_transform(y_train)\n",
    "    y_validation_transform = y_scaler.transform(y_validation)\n",
    "\n",
    "    modelo = Modelo(**kwargs)\n",
    "    modelo.fit(X_train_transform, y_train_transform)\n",
    "\n",
    "    means, vars = modelo.predict(X_validation_transform)\n",
    "    means = means.reshape((-1, 1))\n",
    "    vars = vars.reshape((-1, 1))\n",
    "\n",
    "    means_dimensao_correta = y_scaler.inverse_transform(means)\n",
    "    std_errors_modelo = np.sqrt(vars)\n",
    "    std_errors_scaler = np.sqrt(y_scaler.var_)\n",
    "    \n",
    "    vars_dimensao_correta = (std_errors_modelo * std_errors_scaler)**2\n",
    "\n",
    "    erro_rmse = rmse(means_dimensao_correta, y_validation)\n",
    "    erro_nlpd = nlpd(means_dimensao_correta, vars_dimensao_correta, y_validation)\n",
    "    \n",
    "    return [Modelo.__name__, kwargs, erro_rmse, erro_nlpd]\n",
    "\n",
    "\n",
    "def otimizacao_bayesiana(Modelo, dominio, X, y, k_folds=5, metrica='rmse', max_iter=50):\n",
    "    relatorio = pd.DataFrame(columns=['modelo', 'parametros', 'rmse', 'nlpd', 'fold', 'tentativa'])\n",
    "    funcao = dominio.gerar_f(Modelo=Modelo, f=f, X=X, y=y, k_folds=5, metrica=metrica, relatorio_geral=relatorio)\n",
    "\n",
    "    bo = BayesianOptimization(f=funcao, domain=dominio.dominio, verbosity=True)\n",
    "    bo.run_optimization(max_iter=max_iter)\n",
    "\n",
    "    try:\n",
    "        bo.plot_convergence()\n",
    "        bo.plot_acquisition()\n",
    "    except Exception as e:\n",
    "        print(e)\n",
    "\n",
    "    print('RMSE:', bo.fx_opt)\n",
    "    print('Parâmetros:', bo.x_opt)\n",
    "\n",
    "    return relatorio"
   ]
  },
  {
   "cell_type": "code",
   "execution_count": 26,
   "id": "billion-newport",
   "metadata": {},
   "outputs": [],
   "source": [
    "modelos = {\n",
    "    'GP': (GP, dominio_gp),\n",
    "    'RegressaoLinear': (RegressaoLinear, dominio_regressao_linear),\n",
    "    'BayesianLinearRegression': (BayesianLinearRegression, dominio_regressao_linear_bayesiana),\n",
    "    'BayesianPolinomialLinearRegression': (BayesianPolinomialLinearRegression, dominio_regressao_linear_bayesiana_polinomial),\n",
    "    'BayesianLinearRegressionNew': (BayesianLinearRegressionNew, dominio_regressao_linear_bayesiana_new),\n",
    "    'BayesianPolinomialLinearRegressionNew': (BayesianPolinomialLinearRegressionNew, dominio_regressao_linear_bayesiana_polinomial_new),\n",
    "    'BayesianRBFLinearRegression': (BayesianRBFLinearRegression, dominio_regressao_linear_bayesiana_rbf),\n",
    "}"
   ]
  },
  {
   "cell_type": "code",
   "execution_count": 27,
   "id": "united-estate",
   "metadata": {},
   "outputs": [
    {
     "name": "stderr",
     "output_type": "stream",
     "text": [
      "k-fold: 100%|██████████| 5/5 [00:00<00:00, 59.45it/s]\n",
      "k-fold: 100%|██████████| 5/5 [00:00<00:00, 52.54it/s]\n",
      "k-fold:   0%|          | 0/5 [00:00<?, ?it/s]"
     ]
    },
    {
     "name": "stdout",
     "output_type": "stream",
     "text": [
      "GP False\n",
      "RegressaoLinear True\n"
     ]
    },
    {
     "name": "stderr",
     "output_type": "stream",
     "text": [
      "k-fold: 100%|██████████| 5/5 [00:00<00:00, 42.68it/s]\n",
      "k-fold: 100%|██████████| 5/5 [00:00<00:00, 46.46it/s]\n",
      "k-fold: 100%|██████████| 5/5 [00:00<00:00, 46.95it/s]\n"
     ]
    },
    {
     "data": {
      "image/png": "[encoded data removed]",
      "text/plain": [
       "<Figure size 720x360 with 2 Axes>"
      ]
     },
     "metadata": {
      "needs_background": "light"
     },
     "output_type": "display_data"
    },
    {
     "name": "stderr",
     "output_type": "stream",
     "text": [
      "k-fold: 100%|██████████| 5/5 [00:00<00:00, 57.83it/s]\n",
      "k-fold: 100%|██████████| 5/5 [00:00<00:00, 66.55it/s]\n",
      "k-fold:   0%|          | 0/5 [00:00<?, ?it/s]"
     ]
    },
    {
     "name": "stdout",
     "output_type": "stream",
     "text": [
      "not enough values to unpack (expected 2, got 0)\n",
      "RMSE: 2692.709121747069\n",
      "Parâmetros: []\n",
      "BayesianLinearRegression True\n"
     ]
    },
    {
     "name": "stderr",
     "output_type": "stream",
     "text": [
      "k-fold: 100%|██████████| 5/5 [00:00<00:00, 17.05it/s]\n",
      "k-fold: 100%|██████████| 5/5 [00:00<00:00, 18.44it/s]\n",
      "k-fold: 100%|██████████| 5/5 [00:00<00:00, 10.92it/s]\n",
      "k-fold: 100%|██████████| 5/5 [00:00<00:00, 15.81it/s]\n",
      "k-fold: 100%|██████████| 5/5 [00:00<00:00, 23.65it/s]\n",
      "k-fold: 100%|██████████| 5/5 [00:00<00:00, 17.51it/s]\n",
      "k-fold: 100%|██████████| 5/5 [00:00<00:00, 14.79it/s]\n",
      "k-fold: 100%|██████████| 5/5 [00:00<00:00, 13.69it/s]\n",
      "k-fold: 100%|██████████| 5/5 [00:00<00:00, 24.69it/s]\n",
      "k-fold: 100%|██████████| 5/5 [00:00<00:00, 22.23it/s]\n",
      "k-fold: 100%|██████████| 5/5 [00:00<00:00, 27.43it/s]\n",
      "k-fold: 100%|██████████| 5/5 [00:00<00:00, 19.29it/s]\n",
      "k-fold: 100%|██████████| 5/5 [00:00<00:00, 25.01it/s]\n",
      "k-fold: 100%|██████████| 5/5 [00:00<00:00, 18.51it/s]\n",
      "k-fold: 100%|██████████| 5/5 [00:00<00:00, 33.14it/s]\n",
      "k-fold: 100%|██████████| 5/5 [00:00<00:00, 23.42it/s]\n",
      "k-fold: 100%|██████████| 5/5 [00:00<00:00, 22.49it/s]\n",
      "k-fold: 100%|██████████| 5/5 [00:00<00:00, 25.25it/s]\n",
      "k-fold: 100%|██████████| 5/5 [00:00<00:00, 21.42it/s]\n",
      "k-fold: 100%|██████████| 5/5 [00:00<00:00, 14.99it/s]\n",
      "k-fold: 100%|██████████| 5/5 [00:00<00:00, 17.34it/s]\n",
      "k-fold: 100%|██████████| 5/5 [00:00<00:00, 18.28it/s]\n",
      "k-fold: 100%|██████████| 5/5 [00:00<00:00, 11.81it/s]\n",
      "k-fold: 100%|██████████| 5/5 [00:00<00:00, 19.48it/s]\n",
      "k-fold: 100%|██████████| 5/5 [00:00<00:00, 20.25it/s]\n",
      "k-fold: 100%|██████████| 5/5 [00:00<00:00, 16.03it/s]\n",
      "k-fold: 100%|██████████| 5/5 [00:00<00:00, 13.16it/s]\n",
      "k-fold: 100%|██████████| 5/5 [00:00<00:00, 38.16it/s]\n",
      "k-fold: 100%|██████████| 5/5 [00:00<00:00, 35.91it/s]\n",
      "k-fold: 100%|██████████| 5/5 [00:00<00:00, 18.06it/s]\n",
      "k-fold: 100%|██████████| 5/5 [00:00<00:00, 17.85it/s]\n",
      "k-fold: 100%|██████████| 5/5 [00:00<00:00, 34.20it/s]\n",
      "k-fold: 100%|██████████| 5/5 [00:00<00:00, 17.50it/s]\n",
      "k-fold: 100%|██████████| 5/5 [00:00<00:00, 24.24it/s]\n",
      "k-fold: 100%|██████████| 5/5 [00:00<00:00, 20.79it/s]\n",
      "k-fold: 100%|██████████| 5/5 [00:00<00:00, 32.06it/s]\n",
      "k-fold: 100%|██████████| 5/5 [00:00<00:00, 13.77it/s]\n",
      "k-fold: 100%|██████████| 5/5 [00:00<00:00, 15.61it/s]\n",
      "k-fold: 100%|██████████| 5/5 [00:00<00:00, 17.95it/s]\n",
      "k-fold: 100%|██████████| 5/5 [00:00<00:00, 17.63it/s]\n",
      "k-fold: 100%|██████████| 5/5 [00:00<00:00, 27.18it/s]\n",
      "k-fold: 100%|██████████| 5/5 [00:00<00:00, 18.75it/s]\n",
      "k-fold: 100%|██████████| 5/5 [00:00<00:00, 12.84it/s]\n",
      "k-fold: 100%|██████████| 5/5 [00:00<00:00, 16.31it/s]\n",
      "k-fold: 100%|██████████| 5/5 [00:00<00:00, 34.56it/s]\n",
      "k-fold: 100%|██████████| 5/5 [00:00<00:00, 19.56it/s]\n",
      "k-fold: 100%|██████████| 5/5 [00:00<00:00, 17.69it/s]\n",
      "k-fold: 100%|██████████| 5/5 [00:00<00:00, 19.00it/s]\n",
      "k-fold: 100%|██████████| 5/5 [00:00<00:00, 30.50it/s]\n",
      "k-fold: 100%|██████████| 5/5 [00:00<00:00, 18.71it/s]\n",
      "k-fold: 100%|██████████| 5/5 [00:00<00:00, 20.24it/s]\n",
      "k-fold: 100%|██████████| 5/5 [00:00<00:00, 24.13it/s]\n",
      "k-fold: 100%|██████████| 5/5 [00:00<00:00, 19.19it/s]\n"
     ]
    },
    {
     "data": {
      "image/png": "[encoded data removed]",
      "text/plain": [
       "<Figure size 720x360 with 2 Axes>"
      ]
     },
     "metadata": {
      "needs_background": "light"
     },
     "output_type": "display_data"
    },
    {
     "data": {
      "image/png": "[encoded data removed]",
      "text/plain": [
       "<Figure size 1080x360 with 6 Axes>"
      ]
     },
     "metadata": {
      "needs_background": "light"
     },
     "output_type": "display_data"
    },
    {
     "name": "stderr",
     "output_type": "stream",
     "text": [
      "k-fold:   0%|          | 0/5 [00:00<?, ?it/s]"
     ]
    },
    {
     "name": "stdout",
     "output_type": "stream",
     "text": [
      "RMSE: 2692.039913427051\n",
      "Parâmetros: [0.05441097 0.94552855]\n",
      "BayesianPolinomialLinearRegression True\n"
     ]
    },
    {
     "name": "stderr",
     "output_type": "stream",
     "text": [
      "k-fold: 100%|██████████| 5/5 [00:02<00:00,  1.92it/s]\n",
      "k-fold: 100%|██████████| 5/5 [00:01<00:00,  3.02it/s]\n",
      "k-fold: 100%|██████████| 5/5 [00:02<00:00,  2.06it/s]\n",
      "k-fold: 100%|██████████| 5/5 [00:02<00:00,  1.72it/s]\n",
      "k-fold: 100%|██████████| 5/5 [00:02<00:00,  1.75it/s]\n",
      "k-fold: 100%|██████████| 5/5 [00:02<00:00,  2.17it/s]\n",
      "k-fold: 100%|██████████| 5/5 [00:02<00:00,  2.48it/s]\n",
      "k-fold: 100%|██████████| 5/5 [00:01<00:00,  4.16it/s]\n",
      "k-fold: 100%|██████████| 5/5 [00:00<00:00,  6.21it/s]\n",
      "k-fold: 100%|██████████| 5/5 [00:01<00:00,  3.56it/s]\n",
      "k-fold: 100%|██████████| 5/5 [00:01<00:00,  3.33it/s]\n",
      "k-fold: 100%|██████████| 5/5 [00:00<00:00,  5.32it/s]\n",
      "k-fold: 100%|██████████| 5/5 [00:00<00:00,  5.96it/s]\n",
      "k-fold: 100%|██████████| 5/5 [00:02<00:00,  2.06it/s]\n",
      "k-fold: 100%|██████████| 5/5 [00:01<00:00,  3.73it/s]\n",
      "k-fold: 100%|██████████| 5/5 [00:02<00:00,  2.47it/s]\n",
      "k-fold: 100%|██████████| 5/5 [00:00<00:00,  5.27it/s]\n",
      "k-fold: 100%|██████████| 5/5 [00:01<00:00,  2.61it/s]\n",
      "k-fold: 100%|██████████| 5/5 [00:01<00:00,  3.40it/s]\n",
      "k-fold: 100%|██████████| 5/5 [00:01<00:00,  3.50it/s]\n",
      "k-fold: 100%|██████████| 5/5 [00:01<00:00,  2.93it/s]\n",
      "k-fold: 100%|██████████| 5/5 [00:01<00:00,  2.81it/s]\n",
      "k-fold: 100%|██████████| 5/5 [00:00<00:00,  5.70it/s]\n",
      "k-fold: 100%|██████████| 5/5 [00:01<00:00,  2.89it/s]\n",
      "k-fold: 100%|██████████| 5/5 [00:01<00:00,  4.00it/s]\n",
      "k-fold: 100%|██████████| 5/5 [00:01<00:00,  2.70it/s]\n",
      "k-fold: 100%|██████████| 5/5 [00:01<00:00,  3.45it/s]\n",
      "k-fold: 100%|██████████| 5/5 [00:01<00:00,  4.65it/s]\n",
      "k-fold: 100%|██████████| 5/5 [00:01<00:00,  4.73it/s]\n",
      "k-fold: 100%|██████████| 5/5 [00:01<00:00,  3.51it/s]\n",
      "k-fold: 100%|██████████| 5/5 [00:01<00:00,  2.83it/s]\n",
      "k-fold: 100%|██████████| 5/5 [00:01<00:00,  4.76it/s]\n",
      "k-fold: 100%|██████████| 5/5 [00:01<00:00,  4.43it/s]\n",
      "k-fold: 100%|██████████| 5/5 [00:01<00:00,  3.11it/s]\n",
      "k-fold: 100%|██████████| 5/5 [00:01<00:00,  4.32it/s]\n",
      "k-fold: 100%|██████████| 5/5 [00:01<00:00,  3.58it/s]\n",
      "k-fold: 100%|██████████| 5/5 [00:00<00:00,  6.19it/s]\n",
      "k-fold: 100%|██████████| 5/5 [00:01<00:00,  3.53it/s]\n",
      "k-fold: 100%|██████████| 5/5 [00:00<00:00,  5.14it/s]\n",
      "k-fold: 100%|██████████| 5/5 [00:00<00:00,  5.46it/s]\n",
      "k-fold: 100%|██████████| 5/5 [00:01<00:00,  2.86it/s]\n",
      "k-fold: 100%|██████████| 5/5 [00:01<00:00,  3.82it/s]\n",
      "k-fold: 100%|██████████| 5/5 [00:01<00:00,  2.64it/s]\n",
      "k-fold: 100%|██████████| 5/5 [00:00<00:00,  5.28it/s]\n",
      "k-fold: 100%|██████████| 5/5 [00:01<00:00,  4.77it/s]\n",
      "k-fold: 100%|██████████| 5/5 [00:01<00:00,  3.90it/s]\n",
      "k-fold: 100%|██████████| 5/5 [00:01<00:00,  3.67it/s]\n",
      "k-fold: 100%|██████████| 5/5 [00:01<00:00,  4.10it/s]\n",
      "k-fold: 100%|██████████| 5/5 [00:01<00:00,  2.56it/s]\n",
      "k-fold: 100%|██████████| 5/5 [00:01<00:00,  2.89it/s]\n",
      "k-fold: 100%|██████████| 5/5 [00:01<00:00,  3.15it/s]\n",
      "k-fold: 100%|██████████| 5/5 [00:00<00:00,  7.40it/s]\n",
      "k-fold: 100%|██████████| 5/5 [00:01<00:00,  3.28it/s]\n",
      "k-fold: 100%|██████████| 5/5 [00:02<00:00,  2.00it/s]\n",
      "k-fold: 100%|██████████| 5/5 [00:01<00:00,  3.21it/s]\n"
     ]
    },
    {
     "data": {
      "image/png": "[encoded data removed]",
      "text/plain": [
       "<Figure size 720x360 with 2 Axes>"
      ]
     },
     "metadata": {
      "needs_background": "light"
     },
     "output_type": "display_data"
    },
    {
     "name": "stderr",
     "output_type": "stream",
     "text": [
      "k-fold:  40%|████      | 2/5 [00:00<00:00, 16.14it/s]"
     ]
    },
    {
     "name": "stdout",
     "output_type": "stream",
     "text": [
      "RMSE: 2614.560944071408\n",
      "Parâmetros: [1.0e-04 1.1e+00 4.0e+00]\n",
      "BayesianLinearRegressionNew True\n"
     ]
    },
    {
     "name": "stderr",
     "output_type": "stream",
     "text": [
      "k-fold: 100%|██████████| 5/5 [00:00<00:00, 21.28it/s]\n",
      "k-fold: 100%|██████████| 5/5 [00:00<00:00, 26.53it/s]\n",
      "k-fold: 100%|██████████| 5/5 [00:00<00:00, 22.35it/s]\n",
      "k-fold: 100%|██████████| 5/5 [00:00<00:00, 25.34it/s]\n",
      "k-fold: 100%|██████████| 5/5 [00:00<00:00, 25.16it/s]\n",
      "k-fold: 100%|██████████| 5/5 [00:00<00:00, 21.78it/s]\n",
      "k-fold: 100%|██████████| 5/5 [00:00<00:00, 28.87it/s]\n",
      "k-fold: 100%|██████████| 5/5 [00:00<00:00, 20.00it/s]\n",
      "k-fold: 100%|██████████| 5/5 [00:00<00:00, 22.34it/s]\n",
      "k-fold: 100%|██████████| 5/5 [00:00<00:00, 21.55it/s]\n",
      "k-fold: 100%|██████████| 5/5 [00:00<00:00, 26.99it/s]\n",
      "k-fold: 100%|██████████| 5/5 [00:00<00:00, 26.81it/s]\n",
      "k-fold: 100%|██████████| 5/5 [00:00<00:00, 23.67it/s]\n",
      "k-fold: 100%|██████████| 5/5 [00:00<00:00, 25.28it/s]\n",
      "k-fold: 100%|██████████| 5/5 [00:00<00:00, 20.37it/s]\n",
      "k-fold: 100%|██████████| 5/5 [00:00<00:00, 20.62it/s]\n",
      "k-fold: 100%|██████████| 5/5 [00:00<00:00, 24.06it/s]\n",
      "k-fold: 100%|██████████| 5/5 [00:00<00:00, 21.70it/s]\n",
      "k-fold: 100%|██████████| 5/5 [00:00<00:00, 19.07it/s]\n",
      "k-fold: 100%|██████████| 5/5 [00:00<00:00, 19.02it/s]\n",
      "k-fold: 100%|██████████| 5/5 [00:00<00:00, 19.95it/s]\n",
      "k-fold: 100%|██████████| 5/5 [00:00<00:00, 21.08it/s]\n",
      "k-fold: 100%|██████████| 5/5 [00:00<00:00, 24.11it/s]\n",
      "k-fold: 100%|██████████| 5/5 [00:00<00:00, 17.48it/s]\n",
      "k-fold: 100%|██████████| 5/5 [00:00<00:00, 23.65it/s]\n",
      "k-fold: 100%|██████████| 5/5 [00:00<00:00, 16.90it/s]\n",
      "k-fold: 100%|██████████| 5/5 [00:00<00:00, 20.53it/s]\n",
      "k-fold: 100%|██████████| 5/5 [00:00<00:00, 21.53it/s]\n",
      "k-fold: 100%|██████████| 5/5 [00:00<00:00, 20.36it/s]\n",
      "k-fold: 100%|██████████| 5/5 [00:00<00:00, 23.40it/s]\n",
      "k-fold: 100%|██████████| 5/5 [00:00<00:00, 17.23it/s]\n",
      "k-fold: 100%|██████████| 5/5 [00:00<00:00, 22.12it/s]\n",
      "k-fold: 100%|██████████| 5/5 [00:00<00:00, 16.23it/s]\n",
      "k-fold: 100%|██████████| 5/5 [00:00<00:00, 26.24it/s]\n",
      "k-fold: 100%|██████████| 5/5 [00:00<00:00, 19.26it/s]\n",
      "k-fold: 100%|██████████| 5/5 [00:00<00:00, 19.95it/s]\n",
      "k-fold: 100%|██████████| 5/5 [00:00<00:00, 20.84it/s]\n",
      "k-fold: 100%|██████████| 5/5 [00:00<00:00, 19.43it/s]\n",
      "k-fold: 100%|██████████| 5/5 [00:00<00:00, 23.23it/s]\n",
      "k-fold: 100%|██████████| 5/5 [00:00<00:00, 18.57it/s]\n",
      "k-fold: 100%|██████████| 5/5 [00:00<00:00, 15.10it/s]\n",
      "k-fold: 100%|██████████| 5/5 [00:00<00:00, 14.81it/s]\n",
      "k-fold: 100%|██████████| 5/5 [00:00<00:00, 16.38it/s]\n",
      "k-fold: 100%|██████████| 5/5 [00:00<00:00, 16.22it/s]\n",
      "k-fold: 100%|██████████| 5/5 [00:00<00:00, 18.02it/s]\n",
      "k-fold: 100%|██████████| 5/5 [00:00<00:00, 15.24it/s]\n",
      "k-fold: 100%|██████████| 5/5 [00:00<00:00, 12.98it/s]\n",
      "k-fold: 100%|██████████| 5/5 [00:00<00:00, 21.42it/s]\n",
      "k-fold: 100%|██████████| 5/5 [00:00<00:00, 15.75it/s]\n",
      "k-fold: 100%|██████████| 5/5 [00:00<00:00, 13.42it/s]\n",
      "k-fold: 100%|██████████| 5/5 [00:00<00:00, 11.66it/s]\n",
      "k-fold: 100%|██████████| 5/5 [00:00<00:00, 10.08it/s]\n",
      "k-fold: 100%|██████████| 5/5 [00:02<00:00,  2.28it/s]\n",
      "k-fold: 100%|██████████| 5/5 [00:00<00:00,  6.67it/s]\n",
      "k-fold: 100%|██████████| 5/5 [00:00<00:00,  8.69it/s]\n"
     ]
    },
    {
     "data": {
      "image/png": "[encoded data removed]",
      "text/plain": [
       "<Figure size 720x360 with 2 Axes>"
      ]
     },
     "metadata": {
      "needs_background": "light"
     },
     "output_type": "display_data"
    },
    {
     "data": {
      "image/png": "[encoded data removed]",
      "text/plain": [
       "<Figure size 432x288 with 1 Axes>"
      ]
     },
     "metadata": {
      "needs_background": "light"
     },
     "output_type": "display_data"
    },
    {
     "name": "stdout",
     "output_type": "stream",
     "text": [
      "RMSE: 2692.063163386917\n",
      "Parâmetros: [1.]\n",
      "BayesianPolinomialLinearRegressionNew True\n"
     ]
    },
    {
     "name": "stderr",
     "output_type": "stream",
     "text": [
      "k-fold: 100%|██████████| 5/5 [00:00<00:00,  6.90it/s]\n",
      "k-fold: 100%|██████████| 5/5 [00:01<00:00,  4.38it/s]\n",
      "k-fold: 100%|██████████| 5/5 [00:01<00:00,  2.96it/s]\n",
      "k-fold: 100%|██████████| 5/5 [00:01<00:00,  3.57it/s]\n",
      "k-fold: 100%|██████████| 5/5 [00:02<00:00,  2.30it/s]\n",
      "k-fold: 100%|██████████| 5/5 [00:01<00:00,  4.35it/s]\n",
      "k-fold: 100%|██████████| 5/5 [00:03<00:00,  1.40it/s]\n",
      "k-fold: 100%|██████████| 5/5 [00:01<00:00,  2.73it/s]\n",
      "k-fold: 100%|██████████| 5/5 [00:00<00:00,  6.03it/s]\n",
      "k-fold: 100%|██████████| 5/5 [00:00<00:00,  6.48it/s]\n",
      "k-fold: 100%|██████████| 5/5 [00:01<00:00,  3.60it/s]\n",
      "k-fold: 100%|██████████| 5/5 [00:01<00:00,  2.59it/s]\n",
      "k-fold: 100%|██████████| 5/5 [00:01<00:00,  2.62it/s]\n"
     ]
    },
    {
     "data": {
      "image/png": "[encoded data removed]",
      "text/plain": [
       "<Figure size 720x360 with 2 Axes>"
      ]
     },
     "metadata": {
      "needs_background": "light"
     },
     "output_type": "display_data"
    },
    {
     "data": {
      "image/png": "[encoded data removed]",
      "text/plain": [
       "<Figure size 1080x360 with 6 Axes>"
      ]
     },
     "metadata": {
      "needs_background": "light"
     },
     "output_type": "display_data"
    },
    {
     "name": "stderr",
     "output_type": "stream",
     "text": [
      "k-fold:   0%|          | 0/5 [00:00<?, ?it/s]"
     ]
    },
    {
     "name": "stdout",
     "output_type": "stream",
     "text": [
      "RMSE: 2614.8707309389138\n",
      "Parâmetros: [1. 2.]\n",
      "BayesianRBFLinearRegression True\n"
     ]
    },
    {
     "name": "stderr",
     "output_type": "stream",
     "text": [
      "k-fold: 100%|██████████| 5/5 [00:01<00:00,  2.83it/s]\n",
      "k-fold: 100%|██████████| 5/5 [00:01<00:00,  2.63it/s]\n",
      "k-fold: 100%|██████████| 5/5 [00:01<00:00,  2.58it/s]\n",
      "k-fold: 100%|██████████| 5/5 [00:01<00:00,  2.60it/s]\n",
      "k-fold: 100%|██████████| 5/5 [00:01<00:00,  2.61it/s]\n",
      "k-fold: 100%|██████████| 5/5 [00:01<00:00,  2.68it/s]\n",
      "k-fold: 100%|██████████| 5/5 [00:01<00:00,  2.60it/s]\n",
      "k-fold: 100%|██████████| 5/5 [00:02<00:00,  2.36it/s]\n",
      "k-fold: 100%|██████████| 5/5 [00:01<00:00,  2.65it/s]\n",
      "k-fold: 100%|██████████| 5/5 [00:01<00:00,  2.65it/s]\n",
      "k-fold: 100%|██████████| 5/5 [00:01<00:00,  2.69it/s]\n",
      "k-fold: 100%|██████████| 5/5 [00:01<00:00,  2.64it/s]\n",
      "k-fold: 100%|██████████| 5/5 [00:02<00:00,  2.47it/s]\n",
      "k-fold: 100%|██████████| 5/5 [00:01<00:00,  2.54it/s]\n",
      "k-fold: 100%|██████████| 5/5 [00:01<00:00,  2.55it/s]\n",
      "k-fold: 100%|██████████| 5/5 [00:02<00:00,  2.31it/s]\n",
      "k-fold: 100%|██████████| 5/5 [00:02<00:00,  2.38it/s]\n",
      "k-fold: 100%|██████████| 5/5 [00:01<00:00,  2.53it/s]\n",
      "k-fold: 100%|██████████| 5/5 [00:01<00:00,  2.54it/s]\n",
      "k-fold: 100%|██████████| 5/5 [00:01<00:00,  2.63it/s]\n",
      "k-fold: 100%|██████████| 5/5 [00:01<00:00,  2.53it/s]\n",
      "k-fold: 100%|██████████| 5/5 [00:02<00:00,  2.48it/s]\n",
      "k-fold: 100%|██████████| 5/5 [00:01<00:00,  2.63it/s]\n",
      "k-fold: 100%|██████████| 5/5 [00:02<00:00,  2.49it/s]\n",
      "k-fold: 100%|██████████| 5/5 [00:01<00:00,  2.65it/s]\n",
      "k-fold: 100%|██████████| 5/5 [00:01<00:00,  2.58it/s]\n",
      "k-fold: 100%|██████████| 5/5 [00:01<00:00,  2.52it/s]\n",
      "k-fold: 100%|██████████| 5/5 [00:02<00:00,  2.50it/s]\n",
      "k-fold: 100%|██████████| 5/5 [00:01<00:00,  2.61it/s]\n",
      "k-fold: 100%|██████████| 5/5 [00:01<00:00,  2.60it/s]\n",
      "k-fold: 100%|██████████| 5/5 [00:01<00:00,  2.64it/s]\n",
      "k-fold: 100%|██████████| 5/5 [00:01<00:00,  2.64it/s]\n",
      "k-fold: 100%|██████████| 5/5 [00:01<00:00,  2.62it/s]\n",
      "k-fold: 100%|██████████| 5/5 [00:01<00:00,  2.61it/s]\n",
      "k-fold: 100%|██████████| 5/5 [00:01<00:00,  2.63it/s]\n",
      "k-fold: 100%|██████████| 5/5 [00:01<00:00,  2.64it/s]\n",
      "k-fold: 100%|██████████| 5/5 [00:01<00:00,  2.65it/s]\n",
      "k-fold: 100%|██████████| 5/5 [00:01<00:00,  2.61it/s]\n",
      "k-fold: 100%|██████████| 5/5 [00:01<00:00,  2.62it/s]\n",
      "k-fold: 100%|██████████| 5/5 [00:01<00:00,  2.63it/s]\n",
      "k-fold: 100%|██████████| 5/5 [00:01<00:00,  2.64it/s]\n",
      "k-fold: 100%|██████████| 5/5 [00:01<00:00,  2.62it/s]\n",
      "k-fold: 100%|██████████| 5/5 [00:01<00:00,  2.59it/s]\n",
      "k-fold: 100%|██████████| 5/5 [00:01<00:00,  2.64it/s]\n",
      "k-fold: 100%|██████████| 5/5 [00:01<00:00,  2.61it/s]\n",
      "k-fold: 100%|██████████| 5/5 [00:01<00:00,  2.63it/s]\n",
      "k-fold: 100%|██████████| 5/5 [00:01<00:00,  2.63it/s]\n",
      "k-fold: 100%|██████████| 5/5 [00:01<00:00,  2.61it/s]\n",
      "k-fold: 100%|██████████| 5/5 [00:01<00:00,  2.61it/s]\n",
      "k-fold: 100%|██████████| 5/5 [00:01<00:00,  2.63it/s]\n",
      "k-fold: 100%|██████████| 5/5 [00:01<00:00,  2.63it/s]\n",
      "k-fold: 100%|██████████| 5/5 [00:01<00:00,  2.58it/s]\n",
      "k-fold: 100%|██████████| 5/5 [00:02<00:00,  2.49it/s]\n",
      "k-fold: 100%|██████████| 5/5 [00:02<00:00,  2.18it/s]\n",
      "k-fold: 100%|██████████| 5/5 [00:02<00:00,  2.01it/s]\n"
     ]
    },
    {
     "data": {
      "image/png": "[encoded data removed]",
      "text/plain": [
       "<Figure size 720x360 with 2 Axes>"
      ]
     },
     "metadata": {
      "needs_background": "light"
     },
     "output_type": "display_data"
    },
    {
     "name": "stdout",
     "output_type": "stream",
     "text": [
      "RMSE: 3444.510618966294\n",
      "Parâmetros: [ 1. -1.  1.]\n"
     ]
    }
   ],
   "source": [
    "relatorio_modelos = pd.DataFrame(columns=['modelo', 'parametros', 'rmse', 'nlpd', 'fold', 'tentativa'])\n",
    "\n",
    "\n",
    "for modelo, (Classe, dominio) in modelos.items():\n",
    "    print(modelo, treinar[modelo])\n",
    "    if treinar[modelo]:\n",
    "        resultado_parcial = otimizacao_bayesiana(Modelo=Classe, dominio=dominio, X=X_train, y=y_train, metrica=metrica, max_iter=bo_max_iter)\n",
    "        relatorio_modelos = pd.concat([relatorio_modelos, resultado_parcial])\n",
    "        resultado_parcial.to_csv(f'resultados/parciais/{modelo}_{metrica}.csv')"
   ]
  },
  {
   "cell_type": "markdown",
   "id": "interior-touch",
   "metadata": {},
   "source": [
    "#### Resultado prelimiar"
   ]
  },
  {
   "cell_type": "code",
   "execution_count": 28,
   "id": "impaired-admission",
   "metadata": {},
   "outputs": [
    {
     "data": {
      "text/html": [
       "<div>\n",
       "<style scoped>\n",
       "    .dataframe tbody tr th:only-of-type {\n",
       "        vertical-align: middle;\n",
       "    }\n",
       "\n",
       "    .dataframe tbody tr th {\n",
       "        vertical-align: top;\n",
       "    }\n",
       "\n",
       "    .dataframe thead tr th {\n",
       "        text-align: left;\n",
       "    }\n",
       "\n",
       "    .dataframe thead tr:last-of-type th {\n",
       "        text-align: right;\n",
       "    }\n",
       "</style>\n",
       "<table border=\"1\" class=\"dataframe\">\n",
       "  <thead>\n",
       "    <tr>\n",
       "      <th></th>\n",
       "      <th>tentativa</th>\n",
       "      <th colspan=\"2\" halign=\"left\">rmse</th>\n",
       "      <th colspan=\"2\" halign=\"left\">nlpd</th>\n",
       "    </tr>\n",
       "    <tr>\n",
       "      <th></th>\n",
       "      <th></th>\n",
       "      <th>mean</th>\n",
       "      <th>std</th>\n",
       "      <th>mean</th>\n",
       "      <th>std</th>\n",
       "    </tr>\n",
       "    <tr>\n",
       "      <th>modelo</th>\n",
       "      <th></th>\n",
       "      <th></th>\n",
       "      <th></th>\n",
       "      <th></th>\n",
       "      <th></th>\n",
       "    </tr>\n",
       "  </thead>\n",
       "  <tbody>\n",
       "    <tr>\n",
       "      <th>BayesianLinearRegression</th>\n",
       "      <td>31.0</td>\n",
       "      <td>2692.039913</td>\n",
       "      <td>289.559110</td>\n",
       "      <td>1.713982e+01</td>\n",
       "      <td>4.256972e-02</td>\n",
       "    </tr>\n",
       "    <tr>\n",
       "      <th>BayesianLinearRegressionNew</th>\n",
       "      <td>5.0</td>\n",
       "      <td>2692.063163</td>\n",
       "      <td>289.574077</td>\n",
       "      <td>1.825223e+01</td>\n",
       "      <td>2.654043e-02</td>\n",
       "    </tr>\n",
       "    <tr>\n",
       "      <th>BayesianPolinomialLinearRegression</th>\n",
       "      <td>10.0</td>\n",
       "      <td>2614.560944</td>\n",
       "      <td>304.838846</td>\n",
       "      <td>1.710616e+01</td>\n",
       "      <td>4.745977e-02</td>\n",
       "    </tr>\n",
       "    <tr>\n",
       "      <th>BayesianPolinomialLinearRegressionNew</th>\n",
       "      <td>9.0</td>\n",
       "      <td>2614.870731</td>\n",
       "      <td>307.240134</td>\n",
       "      <td>1.825267e+01</td>\n",
       "      <td>2.662505e-02</td>\n",
       "    </tr>\n",
       "    <tr>\n",
       "      <th>BayesianRBFLinearRegression</th>\n",
       "      <td>9.0</td>\n",
       "      <td>3444.510619</td>\n",
       "      <td>209.200218</td>\n",
       "      <td>1.825223e+01</td>\n",
       "      <td>2.653061e-02</td>\n",
       "    </tr>\n",
       "    <tr>\n",
       "      <th>RegressaoLinear</th>\n",
       "      <td>2.0</td>\n",
       "      <td>2692.709122</td>\n",
       "      <td>290.647245</td>\n",
       "      <td>3.659132e+66</td>\n",
       "      <td>8.353381e+65</td>\n",
       "    </tr>\n",
       "  </tbody>\n",
       "</table>\n",
       "</div>"
      ],
      "text/plain": [
       "                                      tentativa         rmse              \\\n",
       "                                                        mean         std   \n",
       "modelo                                                                     \n",
       "BayesianLinearRegression                   31.0  2692.039913  289.559110   \n",
       "BayesianLinearRegressionNew                 5.0  2692.063163  289.574077   \n",
       "BayesianPolinomialLinearRegression         10.0  2614.560944  304.838846   \n",
       "BayesianPolinomialLinearRegressionNew       9.0  2614.870731  307.240134   \n",
       "BayesianRBFLinearRegression                 9.0  3444.510619  209.200218   \n",
       "RegressaoLinear                             2.0  2692.709122  290.647245   \n",
       "\n",
       "                                               nlpd                \n",
       "                                               mean           std  \n",
       "modelo                                                             \n",
       "BayesianLinearRegression               1.713982e+01  4.256972e-02  \n",
       "BayesianLinearRegressionNew            1.825223e+01  2.654043e-02  \n",
       "BayesianPolinomialLinearRegression     1.710616e+01  4.745977e-02  \n",
       "BayesianPolinomialLinearRegressionNew  1.825267e+01  2.662505e-02  \n",
       "BayesianRBFLinearRegression            1.825223e+01  2.653061e-02  \n",
       "RegressaoLinear                        3.659132e+66  8.353381e+65  "
      ]
     },
     "execution_count": 28,
     "metadata": {},
     "output_type": "execute_result"
    }
   ],
   "source": [
    "relatorio_condensado = \\\n",
    "relatorio_modelos.groupby(['modelo', 'tentativa']) \\\n",
    "                  .agg(['mean', 'std']) \\\n",
    "                  .reset_index() \\\n",
    "                  .sort_values(by=(metrica, 'mean')) \\\n",
    "                  .groupby('modelo').first()\n",
    "\n",
    "relatorio_condensado"
   ]
  },
  {
   "cell_type": "markdown",
   "id": "mental-lecture",
   "metadata": {},
   "source": [
    "### Resultado Final"
   ]
  },
  {
   "cell_type": "code",
   "execution_count": 29,
   "id": "relevant-sodium",
   "metadata": {},
   "outputs": [
    {
     "data": {
      "text/html": [
       "<div>\n",
       "<style scoped>\n",
       "    .dataframe tbody tr th:only-of-type {\n",
       "        vertical-align: middle;\n",
       "    }\n",
       "\n",
       "    .dataframe tbody tr th {\n",
       "        vertical-align: top;\n",
       "    }\n",
       "\n",
       "    .dataframe thead th {\n",
       "        text-align: right;\n",
       "    }\n",
       "</style>\n",
       "<table border=\"1\" class=\"dataframe\">\n",
       "  <thead>\n",
       "    <tr style=\"text-align: right;\">\n",
       "      <th></th>\n",
       "      <th>BayesianLinearRegression</th>\n",
       "      <th>BayesianLinearRegressionNew</th>\n",
       "      <th>BayesianPolinomialLinearRegression</th>\n",
       "      <th>BayesianPolinomialLinearRegressionNew</th>\n",
       "      <th>BayesianRBFLinearRegression</th>\n",
       "      <th>RegressaoLinear</th>\n",
       "    </tr>\n",
       "  </thead>\n",
       "  <tbody>\n",
       "    <tr>\n",
       "      <th>alphaInit</th>\n",
       "      <td>0.054411</td>\n",
       "      <td>NaN</td>\n",
       "      <td>0.0001</td>\n",
       "      <td>NaN</td>\n",
       "      <td>NaN</td>\n",
       "      <td>NaN</td>\n",
       "    </tr>\n",
       "    <tr>\n",
       "      <th>lambdaInit</th>\n",
       "      <td>0.945529</td>\n",
       "      <td>NaN</td>\n",
       "      <td>1.1000</td>\n",
       "      <td>NaN</td>\n",
       "      <td>NaN</td>\n",
       "      <td>NaN</td>\n",
       "    </tr>\n",
       "    <tr>\n",
       "      <th>sig2_error</th>\n",
       "      <td>NaN</td>\n",
       "      <td>1.0</td>\n",
       "      <td>NaN</td>\n",
       "      <td>1.0</td>\n",
       "      <td>1.0</td>\n",
       "      <td>NaN</td>\n",
       "    </tr>\n",
       "    <tr>\n",
       "      <th>order</th>\n",
       "      <td>NaN</td>\n",
       "      <td>NaN</td>\n",
       "      <td>4.0000</td>\n",
       "      <td>2.0</td>\n",
       "      <td>NaN</td>\n",
       "      <td>NaN</td>\n",
       "    </tr>\n",
       "    <tr>\n",
       "      <th>mean_rbf_arbitrario</th>\n",
       "      <td>NaN</td>\n",
       "      <td>NaN</td>\n",
       "      <td>NaN</td>\n",
       "      <td>NaN</td>\n",
       "      <td>-1.0</td>\n",
       "      <td>NaN</td>\n",
       "    </tr>\n",
       "    <tr>\n",
       "      <th>lambda_rbf_arbitrario</th>\n",
       "      <td>NaN</td>\n",
       "      <td>NaN</td>\n",
       "      <td>NaN</td>\n",
       "      <td>NaN</td>\n",
       "      <td>1.0</td>\n",
       "      <td>NaN</td>\n",
       "    </tr>\n",
       "  </tbody>\n",
       "</table>\n",
       "</div>"
      ],
      "text/plain": [
       "                       BayesianLinearRegression  BayesianLinearRegressionNew  \\\n",
       "alphaInit                              0.054411                          NaN   \n",
       "lambdaInit                             0.945529                          NaN   \n",
       "sig2_error                                  NaN                          1.0   \n",
       "order                                       NaN                          NaN   \n",
       "mean_rbf_arbitrario                         NaN                          NaN   \n",
       "lambda_rbf_arbitrario                       NaN                          NaN   \n",
       "\n",
       "                       BayesianPolinomialLinearRegression  \\\n",
       "alphaInit                                          0.0001   \n",
       "lambdaInit                                         1.1000   \n",
       "sig2_error                                            NaN   \n",
       "order                                              4.0000   \n",
       "mean_rbf_arbitrario                                   NaN   \n",
       "lambda_rbf_arbitrario                                 NaN   \n",
       "\n",
       "                       BayesianPolinomialLinearRegressionNew  \\\n",
       "alphaInit                                                NaN   \n",
       "lambdaInit                                               NaN   \n",
       "sig2_error                                               1.0   \n",
       "order                                                    2.0   \n",
       "mean_rbf_arbitrario                                      NaN   \n",
       "lambda_rbf_arbitrario                                    NaN   \n",
       "\n",
       "                       BayesianRBFLinearRegression  RegressaoLinear  \n",
       "alphaInit                                      NaN              NaN  \n",
       "lambdaInit                                     NaN              NaN  \n",
       "sig2_error                                     1.0              NaN  \n",
       "order                                          NaN              NaN  \n",
       "mean_rbf_arbitrario                           -1.0              NaN  \n",
       "lambda_rbf_arbitrario                          1.0              NaN  "
      ]
     },
     "execution_count": 29,
     "metadata": {},
     "output_type": "execute_result"
    }
   ],
   "source": [
    "melhores_hiperparametros = {}\n",
    "\n",
    "for modelo, tentativa in relatorio_condensado[['tentativa']].reset_index().values:\n",
    "    resultado = (relatorio_modelos.modelo == modelo) & (relatorio_modelos.tentativa == tentativa)\n",
    "    melhores_hiperparametros[modelo] = relatorio_modelos[resultado].parametros.values[0]\n",
    "\n",
    "pd.DataFrame(melhores_hiperparametros)"
   ]
  },
  {
   "cell_type": "code",
   "execution_count": 30,
   "id": "eligible-information",
   "metadata": {},
   "outputs": [
    {
     "name": "stderr",
     "output_type": "stream",
     "text": [
      "6it [00:01,  3.58it/s]\n"
     ]
    },
    {
     "data": {
      "text/html": [
       "<div>\n",
       "<style scoped>\n",
       "    .dataframe tbody tr th:only-of-type {\n",
       "        vertical-align: middle;\n",
       "    }\n",
       "\n",
       "    .dataframe tbody tr th {\n",
       "        vertical-align: top;\n",
       "    }\n",
       "\n",
       "    .dataframe thead th {\n",
       "        text-align: right;\n",
       "    }\n",
       "</style>\n",
       "<table border=\"1\" class=\"dataframe\">\n",
       "  <thead>\n",
       "    <tr style=\"text-align: right;\">\n",
       "      <th></th>\n",
       "      <th>modelo</th>\n",
       "      <th>parametros</th>\n",
       "      <th>rmse</th>\n",
       "      <th>nlpd</th>\n",
       "    </tr>\n",
       "  </thead>\n",
       "  <tbody>\n",
       "    <tr>\n",
       "      <th>0</th>\n",
       "      <td>BayesianLinearRegression</td>\n",
       "      <td>{'alphaInit': 0.05441096663317377, 'lambdaInit...</td>\n",
       "      <td>1.170770e+04</td>\n",
       "      <td>1.714196e+01</td>\n",
       "    </tr>\n",
       "    <tr>\n",
       "      <th>1</th>\n",
       "      <td>BayesianLinearRegressionNew</td>\n",
       "      <td>{'sig2_error': 1.0}</td>\n",
       "      <td>1.176142e+04</td>\n",
       "      <td>1.825377e+01</td>\n",
       "    </tr>\n",
       "    <tr>\n",
       "      <th>2</th>\n",
       "      <td>BayesianPolinomialLinearRegression</td>\n",
       "      <td>{'alphaInit': 0.0001, 'lambdaInit': 1.1, 'orde...</td>\n",
       "      <td>1.098258e+09</td>\n",
       "      <td>1.712479e+01</td>\n",
       "    </tr>\n",
       "    <tr>\n",
       "      <th>3</th>\n",
       "      <td>BayesianPolinomialLinearRegressionNew</td>\n",
       "      <td>{'sig2_error': 1.0, 'order': 2.0}</td>\n",
       "      <td>6.815179e+05</td>\n",
       "      <td>1.825912e+01</td>\n",
       "    </tr>\n",
       "    <tr>\n",
       "      <th>4</th>\n",
       "      <td>BayesianRBFLinearRegression</td>\n",
       "      <td>{'sig2_error': 1.0, 'mean_rbf_arbitrario': -1....</td>\n",
       "      <td>3.391376e+03</td>\n",
       "      <td>1.825233e+01</td>\n",
       "    </tr>\n",
       "    <tr>\n",
       "      <th>5</th>\n",
       "      <td>RegressaoLinear</td>\n",
       "      <td>{}</td>\n",
       "      <td>1.176127e+04</td>\n",
       "      <td>6.916371e+67</td>\n",
       "    </tr>\n",
       "  </tbody>\n",
       "</table>\n",
       "</div>"
      ],
      "text/plain": [
       "                                  modelo  \\\n",
       "0               BayesianLinearRegression   \n",
       "1            BayesianLinearRegressionNew   \n",
       "2     BayesianPolinomialLinearRegression   \n",
       "3  BayesianPolinomialLinearRegressionNew   \n",
       "4            BayesianRBFLinearRegression   \n",
       "5                        RegressaoLinear   \n",
       "\n",
       "                                          parametros          rmse  \\\n",
       "0  {'alphaInit': 0.05441096663317377, 'lambdaInit...  1.170770e+04   \n",
       "1                                {'sig2_error': 1.0}  1.176142e+04   \n",
       "2  {'alphaInit': 0.0001, 'lambdaInit': 1.1, 'orde...  1.098258e+09   \n",
       "3                  {'sig2_error': 1.0, 'order': 2.0}  6.815179e+05   \n",
       "4  {'sig2_error': 1.0, 'mean_rbf_arbitrario': -1....  3.391376e+03   \n",
       "5                                                 {}  1.176127e+04   \n",
       "\n",
       "           nlpd  \n",
       "0  1.714196e+01  \n",
       "1  1.825377e+01  \n",
       "2  1.712479e+01  \n",
       "3  1.825912e+01  \n",
       "4  1.825233e+01  \n",
       "5  6.916371e+67  "
      ]
     },
     "execution_count": 30,
     "metadata": {},
     "output_type": "execute_result"
    }
   ],
   "source": [
    "relatorio_final = pd.DataFrame(columns=['modelo', 'parametros', 'rmse', 'nlpd'])\n",
    "\n",
    "\n",
    "for i, (modelo, hiperparametros) in tqdm(enumerate(melhores_hiperparametros.items())):\n",
    "    Modelo, dominio = modelos[modelo]\n",
    "    resultado = treinar_modelo(Modelo, X_train, X_test, y_train, y_test, **hiperparametros)\n",
    "                                         \n",
    "    relatorio_final.loc[i] = resultado\n",
    "    \n",
    "\n",
    "# # Calcular valor do RMSE do y na dimensão original\n",
    "# relatorio['rmse_dimensao_original'] = y_scaler.inverse_transform(relatorio.rmse.values.reshape((-1, 1)))\n",
    "\n",
    "# # Nome do arquivo\n",
    "# nomes_modelos = relatorio.modelo.unique()\n",
    "# nomes_modelos.sort()\n",
    "\n",
    "# nome_arquivo = f'resultados/final/{fold_externo}_{metrica}_{\"-\".join(nomes_modelos)}.csv'\n",
    "# relatorio.to_csv(nome_arquivo)\n",
    "relatorio_final"
   ]
  }
 ],
 "metadata": {
  "kernelspec": {
   "display_name": "Python 3",
   "language": "python",
   "name": "python3"
  },
  "language_info": {
   "codemirror_mode": {
    "name": "ipython",
    "version": 3
   },
   "file_extension": ".py",
   "mimetype": "text/x-python",
   "name": "python",
   "nbconvert_exporter": "python",
   "pygments_lexer": "ipython3",
   "version": "3.8.5"
  },
  "toc-autonumbering": true,
  "toc-showtags": false
 },
 "nbformat": 4,
 "nbformat_minor": 5
}
