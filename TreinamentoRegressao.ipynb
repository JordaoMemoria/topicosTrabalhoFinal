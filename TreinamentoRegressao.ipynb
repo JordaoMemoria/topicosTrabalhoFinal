{
 "cells": [
  {
   "cell_type": "markdown",
   "id": "adverse-chapter",
   "metadata": {},
   "source": [
    "# Treinamento regressão"
   ]
  },
  {
   "cell_type": "code",
   "execution_count": 1,
   "id": "about-module",
   "metadata": {},
   "outputs": [],
   "source": [
    "treinar = {\n",
    "    'GP': False,\n",
    "    'RegressaoLinear': True,\n",
    "    'BayesianPolinomialLinearRegression': True,\n",
    "    'BayesianLinearRegression': True,\n",
    "    'RBFLinearRegression': True,\n",
    "}"
   ]
  },
  {
   "cell_type": "code",
   "execution_count": 2,
   "id": "western-norwegian",
   "metadata": {},
   "outputs": [],
   "source": [
    "# Fold em que o código será executado\n",
    "# Selecione: inteiro no intervalo [0 e 4]\n",
    "fold_externo = 0\n",
    "\n",
    "# Métrica da otimização bayesiana\n",
    "# Selecione: rmse, nlpd\n",
    "metrica = 'nlpd'"
   ]
  },
  {
   "cell_type": "markdown",
   "id": "unexpected-mixer",
   "metadata": {},
   "source": [
    "## Conjunto de dados"
   ]
  },
  {
   "cell_type": "code",
   "execution_count": 3,
   "id": "graduate-contrast",
   "metadata": {},
   "outputs": [],
   "source": [
    "import numpy as np\n",
    "import pandas as pd\n",
    "\n",
    "dataset = pd.read_csv('housesToRentProcessed.csv', index_col=0)\n",
    "\n",
    "X = dataset[[\n",
    "    'São Paulo', 'Porto Alegre', 'Rio de Janeiro', 'Campinas', 'Belo Horizonte', \n",
    "    'area',\n",
    "    'rooms', 'bathroom', 'parking spaces', 'floor', 'isHouse', 'animal', 'furniture',\n",
    "]].values\n",
    "y = dataset[['y con + alu']].values"
   ]
  },
  {
   "cell_type": "markdown",
   "id": "bearing-referral",
   "metadata": {},
   "source": [
    "### Descrição do conjunto de dados\n",
    "\n",
    "| Atributo         | Descrição                                           | Valor  |\n",
    "| ---------------- | --------------------------------------------------- | ------ |\n",
    "| `São Paulo`      | Imóvel está localizado na cidade de São Paulo?      | `int: 0 false - 1 true` |\n",
    "| `Porto Alegre`   | Imóvel está localizado na cidade de Porto Alegre?   | `int: 0 false - 1 true` |\n",
    "| `Rio de Janeiro` | Imóvel está localizado na cidade de Rio de Janeiro? | `int: 0 false - 1 true` |\n",
    "| `Campinas`       | Imóvel está localizado na cidade de Campinas?       | `int: 0 false - 1 true` |\n",
    "| `Belo Horizonte` | Imóvel está localizado na cidade de Belo Horizonte? | `int: 0 false - 1 true` |\n",
    "| `area`           | Área do imóvel (em metros quadrados)                | `float` |\n",
    "| `rooms`          | Quantidade de quartos                               | `int` |\n",
    "| `bathroom`       | Quantidade de banheiros                             | `int` |\n",
    "| `floor`          | Andar localizado o imóvel                           | `int`. `0` pressuposto para casa |\n",
    "| `isHouse`        | Imóvel corresponde a um aluguel de casa             | `int: 0 false - 1 true` |\n",
    "| `animal`         | É possivel levar animais para o imóvel              | `int: 0 false - 1 true` |\n",
    "| `furniture`      | ?                      | `int: 0 false - 1 true` |\n",
    "| `y con + alu`    | Valor mensal total do aluguel do imóvel: aluguel + taxa de condomínio. | `float` |"
   ]
  },
  {
   "cell_type": "code",
   "execution_count": 4,
   "id": "animal-barrier",
   "metadata": {},
   "outputs": [
    {
     "data": {
      "text/html": [
       "<div>\n",
       "<style scoped>\n",
       "    .dataframe tbody tr th:only-of-type {\n",
       "        vertical-align: middle;\n",
       "    }\n",
       "\n",
       "    .dataframe tbody tr th {\n",
       "        vertical-align: top;\n",
       "    }\n",
       "\n",
       "    .dataframe thead th {\n",
       "        text-align: right;\n",
       "    }\n",
       "</style>\n",
       "<table border=\"1\" class=\"dataframe\">\n",
       "  <thead>\n",
       "    <tr style=\"text-align: right;\">\n",
       "      <th></th>\n",
       "      <th>São Paulo</th>\n",
       "      <th>Porto Alegre</th>\n",
       "      <th>Rio de Janeiro</th>\n",
       "      <th>Campinas</th>\n",
       "      <th>Belo Horizonte</th>\n",
       "      <th>area</th>\n",
       "      <th>rooms</th>\n",
       "      <th>bathroom</th>\n",
       "      <th>parking spaces</th>\n",
       "      <th>floor</th>\n",
       "      <th>isHouse</th>\n",
       "      <th>animal</th>\n",
       "      <th>furniture</th>\n",
       "      <th>y con + alu</th>\n",
       "    </tr>\n",
       "  </thead>\n",
       "  <tbody>\n",
       "    <tr>\n",
       "      <th>3489</th>\n",
       "      <td>0</td>\n",
       "      <td>0</td>\n",
       "      <td>0</td>\n",
       "      <td>1</td>\n",
       "      <td>0</td>\n",
       "      <td>69</td>\n",
       "      <td>2</td>\n",
       "      <td>2</td>\n",
       "      <td>1</td>\n",
       "      <td>14</td>\n",
       "      <td>0</td>\n",
       "      <td>1</td>\n",
       "      <td>0</td>\n",
       "      <td>2125</td>\n",
       "    </tr>\n",
       "    <tr>\n",
       "      <th>669</th>\n",
       "      <td>1</td>\n",
       "      <td>0</td>\n",
       "      <td>0</td>\n",
       "      <td>0</td>\n",
       "      <td>0</td>\n",
       "      <td>450</td>\n",
       "      <td>4</td>\n",
       "      <td>5</td>\n",
       "      <td>6</td>\n",
       "      <td>1</td>\n",
       "      <td>1</td>\n",
       "      <td>1</td>\n",
       "      <td>0</td>\n",
       "      <td>12000</td>\n",
       "    </tr>\n",
       "    <tr>\n",
       "      <th>6003</th>\n",
       "      <td>0</td>\n",
       "      <td>0</td>\n",
       "      <td>0</td>\n",
       "      <td>0</td>\n",
       "      <td>1</td>\n",
       "      <td>61</td>\n",
       "      <td>3</td>\n",
       "      <td>1</td>\n",
       "      <td>1</td>\n",
       "      <td>2</td>\n",
       "      <td>0</td>\n",
       "      <td>1</td>\n",
       "      <td>0</td>\n",
       "      <td>1800</td>\n",
       "    </tr>\n",
       "    <tr>\n",
       "      <th>5333</th>\n",
       "      <td>1</td>\n",
       "      <td>0</td>\n",
       "      <td>0</td>\n",
       "      <td>0</td>\n",
       "      <td>0</td>\n",
       "      <td>54</td>\n",
       "      <td>2</td>\n",
       "      <td>2</td>\n",
       "      <td>1</td>\n",
       "      <td>2</td>\n",
       "      <td>0</td>\n",
       "      <td>1</td>\n",
       "      <td>0</td>\n",
       "      <td>2327</td>\n",
       "    </tr>\n",
       "    <tr>\n",
       "      <th>1524</th>\n",
       "      <td>0</td>\n",
       "      <td>0</td>\n",
       "      <td>0</td>\n",
       "      <td>1</td>\n",
       "      <td>0</td>\n",
       "      <td>85</td>\n",
       "      <td>3</td>\n",
       "      <td>2</td>\n",
       "      <td>1</td>\n",
       "      <td>7</td>\n",
       "      <td>0</td>\n",
       "      <td>1</td>\n",
       "      <td>0</td>\n",
       "      <td>2415</td>\n",
       "    </tr>\n",
       "  </tbody>\n",
       "</table>\n",
       "</div>"
      ],
      "text/plain": [
       "      São Paulo  Porto Alegre  Rio de Janeiro  Campinas  Belo Horizonte  area  \\\n",
       "3489          0             0               0         1               0    69   \n",
       "669           1             0               0         0               0   450   \n",
       "6003          0             0               0         0               1    61   \n",
       "5333          1             0               0         0               0    54   \n",
       "1524          0             0               0         1               0    85   \n",
       "\n",
       "      rooms  bathroom  parking spaces  floor  isHouse  animal  furniture  \\\n",
       "3489      2         2               1     14        0       1          0   \n",
       "669       4         5               6      1        1       1          0   \n",
       "6003      3         1               1      2        0       1          0   \n",
       "5333      2         2               1      2        0       1          0   \n",
       "1524      3         2               1      7        0       1          0   \n",
       "\n",
       "      y con + alu  \n",
       "3489         2125  \n",
       "669         12000  \n",
       "6003         1800  \n",
       "5333         2327  \n",
       "1524         2415  "
      ]
     },
     "execution_count": 4,
     "metadata": {},
     "output_type": "execute_result"
    }
   ],
   "source": [
    "dataset.head()"
   ]
  },
  {
   "cell_type": "markdown",
   "id": "split-prayer",
   "metadata": {},
   "source": [
    "### Separação de treino e teste\n",
    "\n",
    "Os dados foram separados em treino e em teste seguindo a proporção de $70\\%$ para treino e de $30\\%$ para testes. O processo de seleção do modelo será descrito posteriormente."
   ]
  },
  {
   "cell_type": "code",
   "execution_count": 5,
   "id": "rough-elevation",
   "metadata": {},
   "outputs": [
    {
     "name": "stdout",
     "output_type": "stream",
     "text": [
      "Quantidade de elementos para o treinamento: (5, 13)\n",
      "Quantidade de elementos selecionados para teste: (2138, 13)\n"
     ]
    }
   ],
   "source": [
    "from trabalho.util.kfold import get_fold\n",
    "\n",
    "_, X_train, X_test, y_train, y_test = get_fold(fold_externo, n_splits=5, X=X, y=y)\n",
    "\n",
    "X_train = X_train[:5]\n",
    "y_train = y_train[:5]\n",
    "\n",
    "print('Quantidade de elementos para o treinamento:', X_train.shape)\n",
    "print('Quantidade de elementos selecionados para teste:', X_test.shape)"
   ]
  },
  {
   "cell_type": "markdown",
   "id": "outstanding-cuisine",
   "metadata": {},
   "source": [
    "### Normalização\n",
    "\n",
    "A normalização aplicada no conjunto de dados foi a [min/max scalling](https://scikit-learn.org/stable/modules/generated/sklearn.preprocessing.MinMaxScaler.html#sklearn.preprocessing.MinMaxScaler):\n",
    "\\begin{aligned}\n",
    "\\mathcal{D}_{std} &= \\frac{\\mathcal{D} - \\mathcal{D}.min(axis=0)}{\\mathcal{D}.max(axis=0) - \\mathcal{D}.min(axis=0)}; \\\\\n",
    "\\mathcal{D}_{scaled} &= \\mathcal{D}_{std} \\cdot (max - min) + min.\n",
    "\\end{aligned}\n",
    "A transformação aplicada, escala (dimensiona) e translada cada característica individualmente, de modo que esta esteja entre o intervalo $[0, 1]$.\n",
    "\n",
    "Como poderá ser visto adiante, este trabalho tomou o cuidado dos dados de validação e de teste serem transformados conforme os dados  a escala definida no treinamento."
   ]
  },
  {
   "cell_type": "code",
   "execution_count": 6,
   "id": "institutional-permit",
   "metadata": {},
   "outputs": [],
   "source": [
    "from sklearn.preprocessing import MinMaxScaler\n",
    "\n",
    "Scaler = MinMaxScaler"
   ]
  },
  {
   "cell_type": "markdown",
   "id": "mathematical-hunger",
   "metadata": {},
   "source": [
    "## Treinamento\n",
    "\n",
    "Com o intuito de selecionar os melhores hiperparâmetros, para cada um dos modelo testados, foi realizado uma validação cruzada por meio de _5-folds_, onde ocorreu uma otimização bayesiana em cada um dos _folds_. Os hiperparâmetros foram selecionados de acordo com o resultado da métrica **DECIDIR**, descrita adiante neste trabalho.\n",
    "\n",
    "Após a seleção dos hiperparâmetros, cada um dos modelos foram avaliados com conjunto de testes por meio das métricas descritas a seguir."
   ]
  },
  {
   "cell_type": "markdown",
   "id": "stupid-needle",
   "metadata": {},
   "source": [
    "### Métricas\n",
    "\n",
    "#### Root Mean Squared Error (RMSE)\n",
    "\n",
    "__Root Mean Squared Error__ ou raiz do erro quadrático médio [_terminar_]\n",
    "\n",
    "\\begin{aligned}\n",
    "\\text{MSE}(\\boldsymbol{y}, \\hat{\\boldsymbol{y}}) &= \\frac{1}{N_\\text{teste}} \\sum_{i=1}^{N_\\text{teste}} (y_i - \\hat{y}_i)^2; \\\\\n",
    "\\text{RMSE}(\\boldsymbol{y}, \\hat{\\boldsymbol{y}}) &= \\sqrt{\\text{MSE}(\\boldsymbol{y}, \\hat{\\boldsymbol{y}})}\n",
    "\\end{aligned}"
   ]
  },
  {
   "cell_type": "code",
   "execution_count": 7,
   "id": "explicit-enclosure",
   "metadata": {},
   "outputs": [],
   "source": [
    "from trabalho.util.metrica import rmse"
   ]
  },
  {
   "cell_type": "markdown",
   "id": "collect-plenty",
   "metadata": {},
   "source": [
    "#### Negative Log Predictive Density (NLPD)\n",
    "\n",
    "A métrica **Negative Log Predictive Density** (NLPD) leva em consideração a variância predita $\\hat{\\sigma}_i^2$, além dos valores esperados e preditos (média):\n",
    "\n",
    "\\begin{aligned}\n",
    "\\text{NLPD}\n",
    "&= -\\frac{1}{N_\\text{teste}}\n",
    "    \\sum_{i=1}^{N_\\text{teste}}\n",
    "    \\log \n",
    "    \\overbrace{p(y_i|\\boldsymbol{x}_i, \\boldsymbol{y}, \\boldsymbol{X}, \\hat{\\boldsymbol{\\theta}})}^{\\mathcal{N}(y_i|\\hat{\\mu}_i, \\hat{\\sigma}_i^2)}\n",
    "    \\\\\n",
    "&= \\frac{1}{2}\\log2\\pi + \\frac{1}{2 N_\\text{teste}}\n",
    "\\sum_{i=1}^{N_\\text{teste}} \\left[\\log \\hat{\\sigma}^2_i + \\frac{(y_i - \\hat{\\mu}_i)^2}{\\hat{\\sigma}^2_i}\\right]\n",
    "\\end{aligned}\n",
    "\n",
    "Conforme já discutido em aula, a NLPD busca realçar modelos equilibrandos, penalizando:\n",
    "* modelos muito confiantes nos casos de erros grandes ($\\sigma^2_i$ baixos para erros maiores), e;\n",
    "* modelos pouco confiantes nos casos de erros pequenos ($\\sigma^2_i$ altos para erros menores)."
   ]
  },
  {
   "cell_type": "code",
   "execution_count": 8,
   "id": "internal-groove",
   "metadata": {},
   "outputs": [],
   "source": [
    "from trabalho.util.metrica import nlpd"
   ]
  },
  {
   "cell_type": "markdown",
   "id": "respective-census",
   "metadata": {},
   "source": [
    "## Modelos utilizados"
   ]
  },
  {
   "cell_type": "code",
   "execution_count": 9,
   "id": "biological-miller",
   "metadata": {},
   "outputs": [],
   "source": [
    "relatorio_modelos = pd.DataFrame(columns=['modelo', 'parametros', 'rmse', 'nlpd', 'fold'])"
   ]
  },
  {
   "cell_type": "markdown",
   "id": "close-allowance",
   "metadata": {},
   "source": [
    "### Processos Gaussianos"
   ]
  },
  {
   "cell_type": "code",
   "execution_count": 10,
   "id": "brave-postcard",
   "metadata": {},
   "outputs": [
    {
     "data": {
      "text/plain": [
       "trabalho.modelos.gp.GP"
      ]
     },
     "execution_count": 10,
     "metadata": {},
     "output_type": "execute_result"
    }
   ],
   "source": [
    "from trabalho.modelos.gp import GP\n",
    "\n",
    "GP"
   ]
  },
  {
   "cell_type": "markdown",
   "id": "coupled-elder",
   "metadata": {},
   "source": [
    "#### Hiperparâmetros a serem procurados"
   ]
  },
  {
   "cell_type": "code",
   "execution_count": 11,
   "id": "transsexual-discipline",
   "metadata": {},
   "outputs": [
    {
     "data": {
      "text/plain": [
       "[{'name': 'kernel', 'type': 'categorical', 'domain': [0, 1, 2, 3]},\n",
       " {'name': 'mean_function', 'type': 'categorical', 'domain': [0, 1]}]"
      ]
     },
     "execution_count": 11,
     "metadata": {},
     "output_type": "execute_result"
    }
   ],
   "source": [
    "from trabalho.util.otimizacao_bayesiana import Dominio\n",
    "import gpflow\n",
    "\n",
    "\n",
    "kernels = [\n",
    "    # Combinação de kernels\n",
    "    #gpflow.kernels.Combination(),\n",
    "    #gpflow.kernels.ChangePoints(),\n",
    "    #gpflow.kernels.Product(),\n",
    "    #gpflow.kernels.Sum(),\n",
    "    \n",
    "    # Imagem (convolução)\n",
    "    #gpflow.kernels.Convolutional(),\n",
    "    \n",
    "    # Dados estacionários\n",
    "    #gpflow.kernels.Stationary(),\n",
    "    #gpflow.kernels.Periodic(), # Can be used to wrap any Stationary kernel to transform it into a periodic version\n",
    "    #gpflow.kernels.AnisotropicStationary(), \n",
    "    #gpflow.kernels.IsotropicStationary(),\n",
    "    \n",
    "    # Multi objetivo\n",
    "    #gpflow.kernels.MultioutputKernel(),\n",
    "    #gpflow.kernels.IndependentLatent(),\n",
    "    #gpflow.kernels.LinearCoregionalization(),\n",
    "    #gpflow.kernels.SeparateIndependent(),\n",
    "    #gpflow.kernels.SharedIndependent(),\n",
    "    \n",
    "    # Outros exóticos\n",
    "    #gpflow.kernels.Coregion(),\n",
    "    \n",
    "    # Ok\n",
    "    #gpflow.kernels.Kernel(), # Classe base\n",
    "    #gpflow.kernels.Static(), # Classe base\n",
    "    \n",
    "    #gpflow.kernels.ArcCosine(),\n",
    "    #gpflow.kernels.Constant(),\n",
    "    #gpflow.kernels.Cosine(),\n",
    "    #gpflow.kernels.Exponential(),\n",
    "    #gpflow.kernels.Linear(),\n",
    "    \n",
    "    gpflow.kernels.Matern12(),\n",
    "    gpflow.kernels.Matern32(),\n",
    "    gpflow.kernels.Matern52(),\n",
    "    \n",
    "    #gpflow.kernels.Polynomial(),\n",
    "    gpflow.kernels.SquaredExponential(), # RBF\n",
    "    #gpflow.kernels.RationalQuadratic(),\n",
    "    \n",
    "    #gpflow.kernels.White(),\n",
    "]\n",
    "\n",
    "\n",
    "means = [\n",
    "    # Padrão\n",
    "    gpflow.mean_functions.Zero(),\n",
    "    # Média\n",
    "    gpflow.mean_functions.Linear(),\n",
    "]\n",
    "\n",
    "dominio_gp = Dominio([\n",
    "    # https://gpflow.readthedocs.io/en/master/gpflow/kernels/#gpflow-kernels-linear\n",
    "    {\n",
    "        'name': 'kernel',\n",
    "        'type': 'categorical',\n",
    "        'domain': kernels\n",
    "    },\n",
    "    {\n",
    "        'name': 'mean_function',\n",
    "        'type': 'categorical',\n",
    "        'domain': means\n",
    "    },\n",
    "#     {'name': 'learning_rate',   'type': 'continuous', 'domain': (0.0001, 0.02)},\n",
    "#     {'name': 'sampling_method', 'type': 'discrete',   'domain': (1, 3, 5)},\n",
    "#     {'name': 'regularization',  'type': 'continuous', 'domain': (0.00001, 0.01)},\n",
    "#     {'name': 'batch_size',      'type': 'discrete',   'domain': (10, 16, 32)},\n",
    "])\n",
    "\n",
    "dominio_gp.dominio"
   ]
  },
  {
   "cell_type": "markdown",
   "id": "plain-investigator",
   "metadata": {},
   "source": [
    "### Regressão Linear"
   ]
  },
  {
   "cell_type": "markdown",
   "id": "changing-identifier",
   "metadata": {},
   "source": [
    "#### Regressão Linear (não bayesiana)"
   ]
  },
  {
   "cell_type": "code",
   "execution_count": 12,
   "id": "exterior-criterion",
   "metadata": {},
   "outputs": [
    {
     "data": {
      "text/plain": [
       "trabalho.modelos.regressao_linear.RegressaoLinear"
      ]
     },
     "execution_count": 12,
     "metadata": {},
     "output_type": "execute_result"
    }
   ],
   "source": [
    "from trabalho.modelos.regressao_linear import RegressaoLinear\n",
    "\n",
    "RegressaoLinear"
   ]
  },
  {
   "cell_type": "markdown",
   "id": "raised-constant",
   "metadata": {},
   "source": [
    "##### Hiperparâmetros a serem procurados"
   ]
  },
  {
   "cell_type": "code",
   "execution_count": 13,
   "id": "optional-accommodation",
   "metadata": {},
   "outputs": [],
   "source": [
    "dominio_regressao_linear = Dominio([])"
   ]
  },
  {
   "cell_type": "markdown",
   "id": "romantic-laptop",
   "metadata": {},
   "source": [
    "#### Regressão Linear Bayesiana"
   ]
  },
  {
   "cell_type": "code",
   "execution_count": 14,
   "id": "sonic-throw",
   "metadata": {},
   "outputs": [
    {
     "data": {
      "text/plain": [
       "trabalho.modelos.bayesian_linear_regression.BayesianLinearRegression"
      ]
     },
     "execution_count": 14,
     "metadata": {},
     "output_type": "execute_result"
    }
   ],
   "source": [
    "from trabalho.modelos.bayesian_linear_regression import BayesianLinearRegression\n",
    "\n",
    "BayesianLinearRegression"
   ]
  },
  {
   "cell_type": "markdown",
   "id": "ceramic-scotland",
   "metadata": {},
   "source": [
    "##### Hiperparâmetros a serem procurados"
   ]
  },
  {
   "cell_type": "code",
   "execution_count": 15,
   "id": "large-hanging",
   "metadata": {},
   "outputs": [],
   "source": [
    "dominio_regressao_linear_bayesiana = Dominio([\n",
    "    {\n",
    "        'name': 'alphaInit',\n",
    "        'type': 'continuous',\n",
    "        'domain': (1e-7, 1.1)\n",
    "    },\n",
    "    {\n",
    "        'name': 'lambdaInit',\n",
    "        'type': 'continuous',\n",
    "        'domain': (1e-7, 1.1)\n",
    "    }\n",
    "])"
   ]
  },
  {
   "cell_type": "markdown",
   "id": "lyric-rogers",
   "metadata": {},
   "source": [
    "#### Regressão Linear Bayesiana Polinomial"
   ]
  },
  {
   "cell_type": "code",
   "execution_count": 16,
   "id": "intimate-conditioning",
   "metadata": {},
   "outputs": [
    {
     "data": {
      "text/plain": [
       "trabalho.modelos.bayesian_polinomial_linear_regression.BayesianPolinomialLinearRegression"
      ]
     },
     "execution_count": 16,
     "metadata": {},
     "output_type": "execute_result"
    }
   ],
   "source": [
    "from trabalho.modelos.bayesian_polinomial_linear_regression import BayesianPolinomialLinearRegression\n",
    "\n",
    "BayesianPolinomialLinearRegression"
   ]
  },
  {
   "cell_type": "markdown",
   "id": "warming-pastor",
   "metadata": {},
   "source": [
    "##### Hiperparâmetros a serem procurados"
   ]
  },
  {
   "cell_type": "code",
   "execution_count": 17,
   "id": "loose-logan",
   "metadata": {},
   "outputs": [],
   "source": [
    "dominio_regressao_linear_bayesiana_polinomial = Dominio([\n",
    "    {\n",
    "        'name': 'alphaInit',\n",
    "        'type': 'continuous',\n",
    "        'domain': (0.0001, 1.1)\n",
    "    },\n",
    "    {\n",
    "        'name': 'lambdaInit',\n",
    "        'type': 'continuous',\n",
    "        'domain': (0.0001, 1.1)\n",
    "    },\n",
    "    {\n",
    "        'name': 'order',\n",
    "        'type': 'discrete',\n",
    "        'domain': (2, 3, 4, 5, 6, 7, 8, 9, 10)\n",
    "    }\n",
    "])"
   ]
  },
  {
   "cell_type": "markdown",
   "id": "legal-insight",
   "metadata": {},
   "source": [
    "#### Regressão Linear Bayesiana com kernel RBF"
   ]
  },
  {
   "cell_type": "code",
   "execution_count": 18,
   "id": "supposed-islam",
   "metadata": {},
   "outputs": [
    {
     "data": {
      "text/plain": [
       "trabalho.modelos.rbf_linear_regression.RBFLinearRegression"
      ]
     },
     "execution_count": 18,
     "metadata": {},
     "output_type": "execute_result"
    }
   ],
   "source": [
    "from trabalho.modelos.rbf_linear_regression import RBFLinearRegression\n",
    "\n",
    "RBFLinearRegression"
   ]
  },
  {
   "cell_type": "markdown",
   "id": "eligible-facial",
   "metadata": {},
   "source": [
    "##### Hiperparâmetros a serem procurados"
   ]
  },
  {
   "cell_type": "code",
   "execution_count": 19,
   "id": "parallel-railway",
   "metadata": {},
   "outputs": [],
   "source": [
    "dominio_regressao_linear_bayesiana_rbf = Dominio([\n",
    "#     {\n",
    "#         'name': 'm0',\n",
    "#         'type': 'continuous',\n",
    "#         'domain': (0.0001, 1.1)\n",
    "#     },\n",
    "#     {\n",
    "#         'name': 'S0',\n",
    "#         'type': 'continuous',\n",
    "#         'domain': (0.0001, 1.1)\n",
    "#     },\n",
    "    {\n",
    "        'name': 'sig2_error',\n",
    "        'type': 'continuous',\n",
    "        'domain': (1e-7, 1)\n",
    "    },\n",
    "    {\n",
    "        'name': 'mean_rbf_arbitrario',\n",
    "        'type': 'continuous',\n",
    "        'domain': (-1, 1)\n",
    "    },\n",
    "    {\n",
    "        'name': 'lambda_rbf_arbitrario',\n",
    "        'type': 'continuous',\n",
    "        'domain': (1e-7, 1)\n",
    "    }\n",
    "])"
   ]
  },
  {
   "cell_type": "markdown",
   "id": "described-shower",
   "metadata": {},
   "source": [
    "### Validação - Seleção de modelos"
   ]
  },
  {
   "cell_type": "code",
   "execution_count": 20,
   "id": "explicit-right",
   "metadata": {},
   "outputs": [],
   "source": [
    "from trabalho.util.kfold import KFoldCrossValidation\n",
    "from GPyOpt.methods import BayesianOptimization\n",
    "from tqdm import tqdm\n",
    "\n",
    "\n",
    "def f(Modelo, X, y, X_validation, y_validation, fold, relatorio, metrica, **kwargs):\n",
    "    modelo = Modelo(**kwargs)\n",
    "    modelo.fit(X, y)\n",
    "    \n",
    "    means, vars = modelo.predict(X_validation)\n",
    "    \n",
    "    erro_rmse = rmse(means, y_validation)\n",
    "    erro_nlpd = nlpd(means, vars, y_validation)\n",
    "\n",
    "    relatorio.loc[len(relatorio)] = [Modelo.__name__, kwargs, erro_rmse, erro_nlpd, fold]\n",
    "\n",
    "    return erro_rmse if metrica == 'rmse' else erro_nlpd\n",
    "\n",
    "\n",
    "def validacao_cruzada(Modelo, dominio, X, y, max_iter=25, k_folds=5, metrica='rmse'):\n",
    "    relatorio = pd.DataFrame(columns=['modelo', 'parametros', 'rmse', 'nlpd', 'fold'])\n",
    "    \n",
    "    for i, X_train, X_test, y_train, y_test in tqdm(KFoldCrossValidation(X, y, k_folds).split(), total=k_folds, desc=\"k-fold\"):\n",
    "        \n",
    "        X_scaler = Scaler()\n",
    "        y_scaler = Scaler()\n",
    "        \n",
    "        X            = X_scaler.fit_transform(X_train)\n",
    "        X_validation = X_scaler.transform(X_test)\n",
    "        y            = y_scaler.fit_transform(y_train)\n",
    "        y_validation = y_scaler.transform(y_test)\n",
    "\n",
    "        funcao = dominio.gerar_f(Modelo=Modelo, f=f, X=X, y=y, X_validation=X_validation, y_validation=y_validation, fold=i, relatorio=relatorio, metrica=metrica)\n",
    "        \n",
    "        bo = BayesianOptimization(f=funcao, domain=dominio.dominio, verbosity=True)\n",
    "        bo.run_optimization(max_iter=25)\n",
    "\n",
    "#         print('RMSE:', bo.fx_opt, '(normalizado)')\n",
    "#         print('RMSE:', y_scaler.inverse_transform([[bo.fx_opt]])[0, 0], '(\"real\")')\n",
    "#         print('Parâmetros:', bo.x_opt)\n",
    "        try:\n",
    "            bo.plot_convergence()\n",
    "            bo.plot_acquisition()\n",
    "        except Exception as e:\n",
    "            print(e)\n",
    "\n",
    "    return relatorio"
   ]
  },
  {
   "cell_type": "code",
   "execution_count": 21,
   "id": "detected-dimension",
   "metadata": {},
   "outputs": [],
   "source": [
    "if treinar['GP']:\n",
    "    resultado_parcial = validacao_cruzada(Modelo=GP, dominio=dominio_gp, X=X_train, y=y_train, metrica=metrica)\n",
    "    relatorio_modelos = pd.concat([relatorio_modelos, resultado_parcial])\n",
    "    resultado_parcial.to_csv(f'resultados_parciais/GP_{metrica}_{fold_externo}.csv')"
   ]
  },
  {
   "cell_type": "code",
   "execution_count": 22,
   "id": "small-approval",
   "metadata": {
    "tags": []
   },
   "outputs": [
    {
     "name": "stderr",
     "output_type": "stream",
     "text": [
      "k-fold:   0%|          | 0/5 [00:00<?, ?it/s]"
     ]
    },
    {
     "name": "stdout",
     "output_type": "stream",
     "text": [
      "nlpd\n",
      "nlpd\n",
      "nlpd\n",
      "nlpd\n",
      "nlpd\n"
     ]
    },
    {
     "data": {
      "image/png": "[encoded data removed]",
      "text/plain": [
       "<Figure size 720x360 with 2 Axes>"
      ]
     },
     "metadata": {
      "needs_background": "light"
     },
     "output_type": "display_data"
    },
    {
     "name": "stderr",
     "output_type": "stream",
     "text": [
      "k-fold:  20%|██        | 1/5 [00:00<00:01,  3.02it/s]"
     ]
    },
    {
     "name": "stdout",
     "output_type": "stream",
     "text": [
      "not enough values to unpack (expected 2, got 0)\n",
      "nlpd\n",
      "nlpd\n",
      "nlpd\n",
      "nlpd\n",
      "nlpd\n"
     ]
    },
    {
     "data": {
      "image/png": "[encoded data removed]",
      "text/plain": [
       "<Figure size 720x360 with 2 Axes>"
      ]
     },
     "metadata": {
      "needs_background": "light"
     },
     "output_type": "display_data"
    },
    {
     "name": "stderr",
     "output_type": "stream",
     "text": [
      "k-fold:  40%|████      | 2/5 [00:00<00:00,  3.10it/s]"
     ]
    },
    {
     "name": "stdout",
     "output_type": "stream",
     "text": [
      "not enough values to unpack (expected 2, got 0)\n",
      "nlpd\n",
      "nlpd\n",
      "nlpd\n",
      "nlpd\n",
      "nlpd\n"
     ]
    },
    {
     "data": {
      "image/png": "[encoded data removed]",
      "text/plain": [
       "<Figure size 720x360 with 2 Axes>"
      ]
     },
     "metadata": {
      "needs_background": "light"
     },
     "output_type": "display_data"
    },
    {
     "name": "stderr",
     "output_type": "stream",
     "text": [
      "k-fold:  60%|██████    | 3/5 [00:00<00:00,  3.24it/s]"
     ]
    },
    {
     "name": "stdout",
     "output_type": "stream",
     "text": [
      "not enough values to unpack (expected 2, got 0)\n",
      "nlpd\n",
      "nlpd\n",
      "nlpd\n",
      "nlpd\n",
      "nlpd\n"
     ]
    },
    {
     "data": {
      "image/png": "[encoded data removed]",
      "text/plain": [
       "<Figure size 720x360 with 2 Axes>"
      ]
     },
     "metadata": {
      "needs_background": "light"
     },
     "output_type": "display_data"
    },
    {
     "name": "stderr",
     "output_type": "stream",
     "text": [
      "k-fold:  80%|████████  | 4/5 [00:01<00:00,  3.25it/s]"
     ]
    },
    {
     "name": "stdout",
     "output_type": "stream",
     "text": [
      "not enough values to unpack (expected 2, got 0)\n",
      "nlpd\n",
      "nlpd\n",
      "nlpd\n",
      "nlpd\n",
      "nlpd\n"
     ]
    },
    {
     "data": {
      "image/png": "[encoded data removed]",
      "text/plain": [
       "<Figure size 720x360 with 2 Axes>"
      ]
     },
     "metadata": {
      "needs_background": "light"
     },
     "output_type": "display_data"
    },
    {
     "name": "stderr",
     "output_type": "stream",
     "text": [
      "k-fold: 100%|██████████| 5/5 [00:01<00:00,  3.25it/s]"
     ]
    },
    {
     "name": "stdout",
     "output_type": "stream",
     "text": [
      "not enough values to unpack (expected 2, got 0)\n"
     ]
    },
    {
     "name": "stderr",
     "output_type": "stream",
     "text": [
      "\n"
     ]
    }
   ],
   "source": [
    "if treinar['RegressaoLinear']:\n",
    "    resultado_parcial = validacao_cruzada(Modelo=RegressaoLinear, dominio=dominio_regressao_linear, X=X_train, y=y_train, metrica=metrica)\n",
    "    relatorio_modelos = pd.concat([relatorio_modelos, resultado_parcial])\n",
    "    resultado_parcial.to_csv(f'resultados_parciais/RegressaoLinear_{metrica}_{fold_externo}.csv')"
   ]
  },
  {
   "cell_type": "code",
   "execution_count": null,
   "id": "arctic-leather",
   "metadata": {
    "tags": []
   },
   "outputs": [
    {
     "name": "stderr",
     "output_type": "stream",
     "text": [
      "k-fold:   0%|          | 0/5 [00:00<?, ?it/s]"
     ]
    },
    {
     "name": "stdout",
     "output_type": "stream",
     "text": [
      "nlpd\n",
      "nlpd\n",
      "nlpd\n",
      "nlpd\n",
      "nlpd\n",
      "nlpd\n",
      "nlpd\n",
      "nlpd\n",
      "nlpd\n",
      "nlpd\n",
      "nlpd\n",
      "nlpd\n",
      "nlpd\n",
      "nlpd\n",
      "nlpd\n",
      "nlpd\n",
      "nlpd\n",
      "nlpd\n",
      "nlpd\n",
      "nlpd\n",
      "nlpd\n",
      "nlpd\n",
      "nlpd\n",
      "nlpd\n",
      "nlpd\n",
      "nlpd\n",
      "nlpd\n",
      "nlpd\n",
      "nlpd\n",
      "nlpd\n"
     ]
    },
    {
     "data": {
      "image/png": "[encoded data removed]",
      "text/plain": [
       "<Figure size 720x360 with 2 Axes>"
      ]
     },
     "metadata": {
      "needs_background": "light"
     },
     "output_type": "display_data"
    },
    {
     "name": "stderr",
     "output_type": "stream",
     "text": [
      "Exception ignored in: <function tqdm.__del__ at 0x7f8a790338b0>\n",
      "Traceback (most recent call last):\n",
      "  File \"/home/paulo/git/doutorado/aprendizagem-probabilistica/topicosTrabalhoFinal/venv/lib/python3.8/site-packages/tqdm/std.py\", line 1144, in __del__\n",
      "    def __del__(self):\n",
      "KeyboardInterrupt: \n"
     ]
    },
    {
     "data": {
      "image/png": "[encoded data removed]",
      "text/plain": [
       "<Figure size 1080x360 with 6 Axes>"
      ]
     },
     "metadata": {
      "needs_background": "light"
     },
     "output_type": "display_data"
    },
    {
     "name": "stderr",
     "output_type": "stream",
     "text": [
      "k-fold:  20%|██        | 1/5 [00:16<01:05, 16.39s/it]"
     ]
    },
    {
     "name": "stdout",
     "output_type": "stream",
     "text": [
      "nlpd\n",
      "nlpd\n",
      "nlpd\n",
      "nlpd\n",
      "nlpd\n",
      "nlpd\n",
      "nlpd\n",
      "nlpd\n",
      "nlpd\n",
      "nlpd\n",
      "nlpd\n",
      "nlpd\n",
      "nlpd\n",
      "nlpd\n",
      "nlpd\n",
      "nlpd\n",
      "nlpd\n",
      "nlpd\n",
      "nlpd\n",
      "nlpd\n",
      "nlpd\n",
      "nlpd\n",
      "nlpd\n",
      "nlpd\n",
      "nlpd\n",
      "nlpd\n",
      "nlpd\n",
      "nlpd\n",
      "nlpd\n",
      "nlpd\n"
     ]
    },
    {
     "data": {
      "image/png": "[encoded data removed]",
      "text/plain": [
       "<Figure size 720x360 with 2 Axes>"
      ]
     },
     "metadata": {
      "needs_background": "light"
     },
     "output_type": "display_data"
    }
   ],
   "source": [
    "if treinar['BayesianLinearRegression']:\n",
    "    resultado_parcial = validacao_cruzada(Modelo=BayesianLinearRegression, dominio=dominio_regressao_linear_bayesiana, X=X_train, y=y_train, metrica=metrica)\n",
    "    relatorio_modelos = pd.concat([relatorio_modelos, resultado_parcial])\n",
    "    resultado_parcial.to_csv(f'resultados_parciais/BayesianLinearRegression_{metrica}_{fold_externo}.csv')"
   ]
  },
  {
   "cell_type": "code",
   "execution_count": null,
   "id": "hawaiian-draft",
   "metadata": {},
   "outputs": [],
   "source": [
    "if treinar['BayesianPolinomialLinearRegression']:\n",
    "    resultado_parcial = validacao_cruzada(Modelo=BayesianPolinomialLinearRegression, dominio=dominio_regressao_linear_bayesiana_polinomial, X=X_train, y=y_train, metrica=metrica)\n",
    "    relatorio_modelos = pd.concat([relatorio_modelos, resultado_parcial])\n",
    "    resultado_parcial.to_csv(f'resultados_parciais/BayesianPolinomialLinearRegression_{metrica}_{fold_externo}.csv')"
   ]
  },
  {
   "cell_type": "code",
   "execution_count": null,
   "id": "fresh-arrangement",
   "metadata": {},
   "outputs": [],
   "source": [
    "if treinar['RBFLinearRegression']:\n",
    "    resultado_parcial = validacao_cruzada(Modelo=RBFLinearRegression, dominio=dominio_regressao_linear_bayesiana_rbf, X=X_train, y=y_train, metrica=metrica)\n",
    "    relatorio_modelos = pd.concat([relatorio_modelos, resultado_parcial])\n",
    "    resultado_parcial.to_csv(f'resultados_parciais/RBFLinearRegression_{metrica}_{fold_externo}.csv')"
   ]
  },
  {
   "cell_type": "markdown",
   "id": "saving-wrapping",
   "metadata": {},
   "source": [
    "#### Resultado prelimiar"
   ]
  },
  {
   "cell_type": "code",
   "execution_count": null,
   "id": "married-toyota",
   "metadata": {},
   "outputs": [],
   "source": [
    "relatorio_modelos.sort_values(['rmse', 'nlpd']).groupby(['modelo', 'fold']).first()"
   ]
  }
 ],
 "metadata": {
  "kernelspec": {
   "display_name": "Python 3",
   "language": "python",
   "name": "python3"
  },
  "language_info": {
   "codemirror_mode": {
    "name": "ipython",
    "version": 3
   },
   "file_extension": ".py",
   "mimetype": "text/x-python",
   "name": "python",
   "nbconvert_exporter": "python",
   "pygments_lexer": "ipython3",
   "version": "3.8.5"
  },
  "toc-autonumbering": true,
  "toc-showtags": false
 },
 "nbformat": 4,
 "nbformat_minor": 5
}
