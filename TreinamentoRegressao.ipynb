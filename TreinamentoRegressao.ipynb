{
 "cells": [
  {
   "cell_type": "markdown",
   "id": "loved-sending",
   "metadata": {},
   "source": [
    "# Treinamento regressão"
   ]
  },
  {
   "cell_type": "code",
   "execution_count": 1,
   "id": "strange-worst",
   "metadata": {},
   "outputs": [],
   "source": [
    "treinar = {\n",
    "    'GP': False,\n",
    "    'RegressaoLinear': True,\n",
    "    'BayesianLinearRegression': True,\n",
    "    'BayesianPolinomialLinearRegression': True,\n",
    "    'BayesianLinearRegressionNew': True,\n",
    "    'BayesianPolinomialLinearRegressionNew': True,\n",
    "    'BayesianRBFLinearRegression': True,\n",
    "}"
   ]
  },
  {
   "cell_type": "code",
   "execution_count": 2,
   "id": "forty-guess",
   "metadata": {},
   "outputs": [],
   "source": [
    "# Métrica utilizada na otimização bayesiana para seleção do modelo\n",
    "metrica = 'nlpd'"
   ]
  },
  {
   "cell_type": "code",
   "execution_count": 3,
   "id": "removable-beads",
   "metadata": {},
   "outputs": [],
   "source": [
    "bo_max_iter=50"
   ]
  },
  {
   "cell_type": "code",
   "execution_count": 4,
   "id": "cordless-surgery",
   "metadata": {},
   "outputs": [],
   "source": [
    "#nome_dataset_treino = 'housesToRentProcessed_train_full.csv'  # Completo\n",
    "nome_dataset_treino = 'dataset_without_anomaly.csv'  # Sem anomalia\n",
    "\n",
    "nome_dataset_teste = 'housesToRentProcessed_test_full.csv'  # Completo\n",
    "nome_dataset_teste_sem_anomalia = 'dataset_test_without_anomaly.csv'  # Sem anomalia"
   ]
  },
  {
   "cell_type": "markdown",
   "id": "lesser-energy",
   "metadata": {},
   "source": [
    "## Conjunto de dados"
   ]
  },
  {
   "cell_type": "code",
   "execution_count": 5,
   "id": "automotive-example",
   "metadata": {},
   "outputs": [],
   "source": [
    "import numpy as np\n",
    "import pandas as pd\n",
    "\n",
    "dataset_train = pd.read_csv(nome_dataset_treino, index_col=0)\n",
    "dataset_test = pd.read_csv(nome_dataset_teste, index_col=0)\n",
    "dataset_test_sem_anomalia = pd.read_csv(nome_dataset_teste_sem_anomalia, index_col=0)\n",
    "\n",
    "colunas_X = [\n",
    "    'São Paulo', 'Porto Alegre', 'Rio de Janeiro', 'Campinas', 'Belo Horizonte', \n",
    "    'area',\n",
    "    'rooms', 'bathroom', 'parking spaces', 'floor', 'isHouse', 'animal', 'furniture',\n",
    "]\n",
    "coluna_y = ['y con + alu']\n",
    "\n",
    "\n",
    "X_train = dataset_train[colunas_X].values\n",
    "y_train = dataset_train[coluna_y].values\n",
    "\n",
    "X_test = dataset_test[colunas_X].values\n",
    "y_test = dataset_test[coluna_y].values\n",
    "\n",
    "X_test_sem_anomalia = dataset_test_sem_anomalia[colunas_X].values\n",
    "y_test_sem_anomalia = dataset_test_sem_anomalia[coluna_y].values"
   ]
  },
  {
   "cell_type": "markdown",
   "id": "warming-reach",
   "metadata": {},
   "source": [
    "### Descrição do conjunto de dados\n",
    "\n",
    "| Atributo         | Descrição                                           | Tipo     | Codificação  |\n",
    "| ---------------- | --------------------------------------------------- | -------- | ------------------------- |\n",
    "| `São Paulo`      | Imóvel está localizado na cidade de São Paulo?      | Booleano | `int: 0 false, - 1 true` |\n",
    "| `Porto Alegre`   | Imóvel está localizado na cidade de Porto Alegre?   | Booleano | `int: 0 false, - 1 true` |\n",
    "| `Rio de Janeiro` | Imóvel está localizado na cidade de Rio de Janeiro? | Booleano | `int: 0 false, - 1 true` |\n",
    "| `Campinas`       | Imóvel está localizado na cidade de Campinas?       | Booleano | `int: 0 false, - 1 true` |\n",
    "| `Belo Horizonte` | Imóvel está localizado na cidade de Belo Horizonte? | Booleano | `int: 0 false, - 1 true` |\n",
    "| `area`           | Área do imóvel (em metros quadrados)                | $\\mathbb{R}^*_{+}$  (reais positivos não nulo) | `float` |\n",
    "| `rooms`          | Quantidade de quartos                               | $\\mathbb{N}$ |`int` |\n",
    "| `bathroom`       | Quantidade de banheiros                             | $\\mathbb{N}$ |`int` |\n",
    "| `floor`          | Andar localizado o imóvel                           | $\\mathbb{N}$ |`int` |\n",
    "| `isHouse`        | Imóvel corresponde a um aluguel de casa             | Booleano | `int: 0 false, - 1 true` |\n",
    "| `animal`         | É possivel levar animais para o imóvel              | Booleano | `int: 0 false, - 1 true` |\n",
    "| `furniture`      | Se a casa já vem mobiliada                          | Booleano | `int: 0 false, - 1 true` |\n",
    "| `y con + alu`    | Valor mensal total do aluguel do imóvel: aluguel + taxa de condomínio. | $\\mathbb{R}^*_{+}$  (reais positivos não nulo) | `float` |"
   ]
  },
  {
   "cell_type": "code",
   "execution_count": 6,
   "id": "received-rubber",
   "metadata": {},
   "outputs": [
    {
     "data": {
      "text/html": [
       "<div>\n",
       "<style scoped>\n",
       "    .dataframe tbody tr th:only-of-type {\n",
       "        vertical-align: middle;\n",
       "    }\n",
       "\n",
       "    .dataframe tbody tr th {\n",
       "        vertical-align: top;\n",
       "    }\n",
       "\n",
       "    .dataframe thead th {\n",
       "        text-align: right;\n",
       "    }\n",
       "</style>\n",
       "<table border=\"1\" class=\"dataframe\">\n",
       "  <thead>\n",
       "    <tr style=\"text-align: right;\">\n",
       "      <th></th>\n",
       "      <th>São Paulo</th>\n",
       "      <th>Porto Alegre</th>\n",
       "      <th>Rio de Janeiro</th>\n",
       "      <th>Campinas</th>\n",
       "      <th>Belo Horizonte</th>\n",
       "      <th>area</th>\n",
       "      <th>rooms</th>\n",
       "      <th>bathroom</th>\n",
       "      <th>parking spaces</th>\n",
       "      <th>floor</th>\n",
       "      <th>isHouse</th>\n",
       "      <th>animal</th>\n",
       "      <th>furniture</th>\n",
       "      <th>y con + alu</th>\n",
       "    </tr>\n",
       "    <tr>\n",
       "      <th>index</th>\n",
       "      <th></th>\n",
       "      <th></th>\n",
       "      <th></th>\n",
       "      <th></th>\n",
       "      <th></th>\n",
       "      <th></th>\n",
       "      <th></th>\n",
       "      <th></th>\n",
       "      <th></th>\n",
       "      <th></th>\n",
       "      <th></th>\n",
       "      <th></th>\n",
       "      <th></th>\n",
       "      <th></th>\n",
       "    </tr>\n",
       "  </thead>\n",
       "  <tbody>\n",
       "    <tr>\n",
       "      <th>4294</th>\n",
       "      <td>0</td>\n",
       "      <td>0</td>\n",
       "      <td>0</td>\n",
       "      <td>0</td>\n",
       "      <td>1</td>\n",
       "      <td>20</td>\n",
       "      <td>1</td>\n",
       "      <td>1</td>\n",
       "      <td>0</td>\n",
       "      <td>1</td>\n",
       "      <td>0</td>\n",
       "      <td>0</td>\n",
       "      <td>0</td>\n",
       "      <td>500</td>\n",
       "    </tr>\n",
       "    <tr>\n",
       "      <th>5152</th>\n",
       "      <td>1</td>\n",
       "      <td>0</td>\n",
       "      <td>0</td>\n",
       "      <td>0</td>\n",
       "      <td>0</td>\n",
       "      <td>35</td>\n",
       "      <td>1</td>\n",
       "      <td>1</td>\n",
       "      <td>0</td>\n",
       "      <td>1</td>\n",
       "      <td>1</td>\n",
       "      <td>0</td>\n",
       "      <td>0</td>\n",
       "      <td>500</td>\n",
       "    </tr>\n",
       "    <tr>\n",
       "      <th>8183</th>\n",
       "      <td>0</td>\n",
       "      <td>1</td>\n",
       "      <td>0</td>\n",
       "      <td>0</td>\n",
       "      <td>0</td>\n",
       "      <td>30</td>\n",
       "      <td>1</td>\n",
       "      <td>1</td>\n",
       "      <td>0</td>\n",
       "      <td>1</td>\n",
       "      <td>1</td>\n",
       "      <td>0</td>\n",
       "      <td>0</td>\n",
       "      <td>500</td>\n",
       "    </tr>\n",
       "    <tr>\n",
       "      <th>10218</th>\n",
       "      <td>0</td>\n",
       "      <td>0</td>\n",
       "      <td>0</td>\n",
       "      <td>0</td>\n",
       "      <td>1</td>\n",
       "      <td>25</td>\n",
       "      <td>1</td>\n",
       "      <td>1</td>\n",
       "      <td>1</td>\n",
       "      <td>1</td>\n",
       "      <td>0</td>\n",
       "      <td>0</td>\n",
       "      <td>0</td>\n",
       "      <td>500</td>\n",
       "    </tr>\n",
       "    <tr>\n",
       "      <th>9317</th>\n",
       "      <td>0</td>\n",
       "      <td>0</td>\n",
       "      <td>1</td>\n",
       "      <td>0</td>\n",
       "      <td>0</td>\n",
       "      <td>30</td>\n",
       "      <td>1</td>\n",
       "      <td>1</td>\n",
       "      <td>1</td>\n",
       "      <td>3</td>\n",
       "      <td>0</td>\n",
       "      <td>1</td>\n",
       "      <td>0</td>\n",
       "      <td>500</td>\n",
       "    </tr>\n",
       "  </tbody>\n",
       "</table>\n",
       "</div>"
      ],
      "text/plain": [
       "       São Paulo  Porto Alegre  Rio de Janeiro  Campinas  Belo Horizonte  \\\n",
       "index                                                                      \n",
       "4294           0             0               0         0               1   \n",
       "5152           1             0               0         0               0   \n",
       "8183           0             1               0         0               0   \n",
       "10218          0             0               0         0               1   \n",
       "9317           0             0               1         0               0   \n",
       "\n",
       "       area  rooms  bathroom  parking spaces  floor  isHouse  animal  \\\n",
       "index                                                                  \n",
       "4294     20      1         1               0      1        0       0   \n",
       "5152     35      1         1               0      1        1       0   \n",
       "8183     30      1         1               0      1        1       0   \n",
       "10218    25      1         1               1      1        0       0   \n",
       "9317     30      1         1               1      3        0       1   \n",
       "\n",
       "       furniture  y con + alu  \n",
       "index                          \n",
       "4294           0          500  \n",
       "5152           0          500  \n",
       "8183           0          500  \n",
       "10218          0          500  \n",
       "9317           0          500  "
      ]
     },
     "execution_count": 6,
     "metadata": {},
     "output_type": "execute_result"
    }
   ],
   "source": [
    "dataset_train.head()"
   ]
  },
  {
   "cell_type": "markdown",
   "id": "creative-hamburg",
   "metadata": {},
   "source": [
    "### Separação de treino e teste\n",
    "\n",
    "Os dados foram separados em treino e em teste seguindo a proporção de $70\\%$ para treino e de $30\\%$ para testes. O processo de seleção do modelo será descrito posteriormente.\n",
    "\n",
    "**Obs:** O processo de separação foi feito em outro notebook"
   ]
  },
  {
   "cell_type": "code",
   "execution_count": 7,
   "id": "special-ordering",
   "metadata": {},
   "outputs": [
    {
     "name": "stdout",
     "output_type": "stream",
     "text": [
      "Quantidade de elementos para o treinamento: (7259, 13)\n",
      "Quantidade de elementos selecionados para teste: (3208, 13)\n"
     ]
    }
   ],
   "source": [
    "# from sklearn.model_selection import train_test_split\n",
    "\n",
    "# X_train, X_test, y_train, y_test = train_test_split(X, y, test_size=0.3, random_state=42)\n",
    "\n",
    "print('Quantidade de elementos para o treinamento:', X_train.shape)\n",
    "print('Quantidade de elementos selecionados para teste:', X_test.shape)"
   ]
  },
  {
   "cell_type": "markdown",
   "id": "asian-elevation",
   "metadata": {},
   "source": [
    "### Normalização - AJEITAR\n",
    "\n",
    "A normalização aplicada no conjunto de dados foi a [standard scaling](https://scikit-learn.org/stable/modules/generated/sklearn.preprocessing.StandardScaler.html):\n",
    "\\begin{aligned}\n",
    "z = \\frac{x_i - \\mu_i}{\\sigma_i}; \\\\\n",
    "\\mu_i = \\frac{1}{N} \\sum_{i=1}^N x_i; \\\\\n",
    "\\sigma_i = \\sqrt{\\frac{1}{N} \\sum_{i=1}^N (x_i - \\mu_i)^2}.\n",
    "%A transformação aplicada, escala (dimensiona) e translada cada característica individualmente, de modo que esta esteja entre o intervalo $[0, 1]$.\n",
    "\\end{aligned}\n",
    "\n",
    "Como poderá ser visto adiante, este trabalho tomou o cuidado dos dados de validação e de teste serem transformados conforme os dados  a escala definida no treinamento."
   ]
  },
  {
   "cell_type": "code",
   "execution_count": 8,
   "id": "generous-mongolia",
   "metadata": {},
   "outputs": [],
   "source": [
    "from sklearn.preprocessing import StandardScaler\n",
    "\n",
    "Scaler = StandardScaler"
   ]
  },
  {
   "cell_type": "markdown",
   "id": "purple-villa",
   "metadata": {},
   "source": [
    "## Treinamento\n",
    "\n",
    "Para cada um dos modelos avaliados, houve uma seleção dos hiperparâmetros por meio de uma Otimização Bayesiana (BO).\n",
    "Em cada iteração da Otimização Bayesiana, era aplicada uma validação cruzada de _5-folds_.\n",
    "A métrica definida para a busca dos melhores hiperparâmetros via BO foi a média do NLPD da validação cruzada. A métrica NLPD é descrita adiante neste trabalho.\n",
    "\n",
    "Além da média do NLPD, os modelos foram avaliados por outras métricas, descritas a seguir."
   ]
  },
  {
   "cell_type": "markdown",
   "id": "demonstrated-valuable",
   "metadata": {},
   "source": [
    "### Métricas\n",
    "\n",
    "#### Root Mean Squared Error (RMSE)\n",
    "\n",
    "__Root Mean Squared Error__ ou raiz do erro quadrático médio [_terminar_]\n",
    "\n",
    "\\begin{aligned}\n",
    "\\text{MSE}(\\boldsymbol{y}, \\hat{\\boldsymbol{y}}) &= \\frac{1}{N_\\text{teste}} \\sum_{i=1}^{N_\\text{teste}} (y_i - \\hat{y}_i)^2; \\\\\n",
    "\\text{RMSE}(\\boldsymbol{y}, \\hat{\\boldsymbol{y}}) &= \\sqrt{\\text{MSE}(\\boldsymbol{y}, \\hat{\\boldsymbol{y}})}.\n",
    "\\end{aligned}"
   ]
  },
  {
   "cell_type": "code",
   "execution_count": 9,
   "id": "coordinated-communist",
   "metadata": {},
   "outputs": [],
   "source": [
    "from trabalho.util.metrica import rmse"
   ]
  },
  {
   "cell_type": "markdown",
   "id": "associate-sally",
   "metadata": {},
   "source": [
    "#### Negative Log Predictive Density (NLPD)\n",
    "\n",
    "A métrica **Negative Log Predictive Density** (NLPD) leva em consideração a variância predita $\\hat{\\sigma}_i^2$, além dos valores esperados e preditos (média):\n",
    "\n",
    "\\begin{aligned}\n",
    "\\text{NLPD}\n",
    "&= -\\frac{1}{N_\\text{teste}}\n",
    "    \\sum_{i=1}^{N_\\text{teste}}\n",
    "    \\log \n",
    "    \\overbrace{p(y_i|\\boldsymbol{x}_i, \\boldsymbol{y}, \\boldsymbol{X}, \\hat{\\boldsymbol{\\theta}})}^{\\mathcal{N}(y_i|\\hat{\\mu}_i, \\hat{\\sigma}_i^2)}\n",
    "    \\\\\n",
    "&= \\frac{1}{2}\\log2\\pi + \\frac{1}{2 N_\\text{teste}}\n",
    "\\sum_{i=1}^{N_\\text{teste}} \\left[\\log \\hat{\\sigma}^2_i + \\frac{(y_i - \\hat{\\mu}_i)^2}{\\hat{\\sigma}^2_i}\\right]\n",
    "\\end{aligned}\n",
    "\n",
    "Conforme já discutido em aula, a NLPD busca realçar modelos equilibrandos, penalizando:\n",
    "* modelos muito confiantes nos casos de erros grandes ($\\sigma^2_i$ baixos para erros maiores), e;\n",
    "* modelos pouco confiantes nos casos de erros pequenos ($\\sigma^2_i$ altos para erros menores)."
   ]
  },
  {
   "cell_type": "code",
   "execution_count": 10,
   "id": "fifteen-valuable",
   "metadata": {},
   "outputs": [],
   "source": [
    "from trabalho.util.metrica import nlpd"
   ]
  },
  {
   "cell_type": "markdown",
   "id": "worth-protein",
   "metadata": {},
   "source": [
    "#### Mean absolute percentage error (MAPE)\n",
    "\n",
    "A métrica **Mean Absolute Percentage Error** (MAPE),\n",
    "também conhecida como **Mean absolute percentage deviation** (MAPD),\n",
    "**FIXME**\n",
    "\n",
    "\\begin{aligned}\n",
    "\\text{MAPE}(y, \\hat{y}) = \\frac{1}{n_{\\text{samples}}} \\sum_{i=0}^{n_{\\text{samples}}-1} \\frac{{}\\left| y_i - \\hat{y}_i \\right|}{max(\\epsilon, \\left| y_i \\right|)}\n",
    "\\end{aligned}\n",
    "onde $\\epsilon$ é um número arbitrário pequeno o suficiente para evitar resultados não definidos quando $y = 0$.\n",
    "\n",
    "FALAR SOBRE, referências\n",
    "* https://scikit-learn.org/dev/modules/model_evaluation.html#mean-absolute-percentage-error \n",
    "* https://towardsdatascience.com/choosing-the-correct-error-metric-mape-vs-smape-5328dec53fac"
   ]
  },
  {
   "cell_type": "code",
   "execution_count": 11,
   "id": "collaborative-opening",
   "metadata": {},
   "outputs": [],
   "source": [
    "from trabalho.util.metrica import mape"
   ]
  },
  {
   "cell_type": "markdown",
   "id": "contemporary-audio",
   "metadata": {},
   "source": [
    "## Modelos utilizados"
   ]
  },
  {
   "cell_type": "code",
   "execution_count": 12,
   "id": "taken-concern",
   "metadata": {},
   "outputs": [],
   "source": [
    "relatorio_modelos = pd.DataFrame(columns=['modelo', 'parametros', 'rmse', 'nlpd', 'mape', 'fold'])"
   ]
  },
  {
   "cell_type": "markdown",
   "id": "institutional-artist",
   "metadata": {},
   "source": [
    "### Processos Gaussianos"
   ]
  },
  {
   "cell_type": "code",
   "execution_count": 13,
   "id": "collect-mayor",
   "metadata": {},
   "outputs": [
    {
     "data": {
      "text/plain": [
       "trabalho.modelos.gp.GP"
      ]
     },
     "execution_count": 13,
     "metadata": {},
     "output_type": "execute_result"
    }
   ],
   "source": [
    "from trabalho.modelos.gp import GP\n",
    "\n",
    "GP"
   ]
  },
  {
   "cell_type": "markdown",
   "id": "involved-sydney",
   "metadata": {},
   "source": [
    "#### Hiperparâmetros a serem procurados"
   ]
  },
  {
   "cell_type": "code",
   "execution_count": 14,
   "id": "vital-athens",
   "metadata": {},
   "outputs": [
    {
     "data": {
      "text/plain": [
       "[{'name': 'kernel', 'type': 'categorical', 'domain': [0, 1, 2, 3]},\n",
       " {'name': 'mean_function', 'type': 'categorical', 'domain': [0, 1]}]"
      ]
     },
     "execution_count": 14,
     "metadata": {},
     "output_type": "execute_result"
    }
   ],
   "source": [
    "from trabalho.util.otimizacao_bayesiana import Dominio\n",
    "import gpflow\n",
    "\n",
    "\n",
    "kernels = [\n",
    "    gpflow.kernels.Matern12(),\n",
    "    gpflow.kernels.Matern32(),\n",
    "    gpflow.kernels.Matern52(),\n",
    "    \n",
    "    gpflow.kernels.SquaredExponential(),\n",
    "]\n",
    "\n",
    "\n",
    "means = [\n",
    "    # Padrão\n",
    "    gpflow.mean_functions.Zero(),\n",
    "    # Média\n",
    "    gpflow.mean_functions.Linear(),\n",
    "]\n",
    "\n",
    "dominio_gp = Dominio([\n",
    "    # https://gpflow.readthedocs.io/en/master/gpflow/kernels/#gpflow-kernels-linear\n",
    "    {\n",
    "        'name': 'kernel',\n",
    "        'type': 'categorical',\n",
    "        'domain': kernels\n",
    "    },\n",
    "    {\n",
    "        'name': 'mean_function',\n",
    "        'type': 'categorical',\n",
    "        'domain': means\n",
    "    },\n",
    "#     {'name': 'learning_rate',   'type': 'continuous', 'domain': (0.0001, 0.02)},\n",
    "#     {'name': 'sampling_method', 'type': 'discrete',   'domain': (1, 3, 5)},\n",
    "#     {'name': 'regularization',  'type': 'continuous', 'domain': (0.00001, 0.01)},\n",
    "#     {'name': 'batch_size',      'type': 'discrete',   'domain': (10, 16, 32)},\n",
    "])\n",
    "\n",
    "dominio_gp.dominio"
   ]
  },
  {
   "cell_type": "markdown",
   "id": "equal-toner",
   "metadata": {},
   "source": [
    "### Regressão Linear"
   ]
  },
  {
   "cell_type": "markdown",
   "id": "catholic-apollo",
   "metadata": {},
   "source": [
    "#### Regressão Linear (não bayesiana)"
   ]
  },
  {
   "cell_type": "code",
   "execution_count": 15,
   "id": "romantic-oracle",
   "metadata": {},
   "outputs": [
    {
     "data": {
      "text/plain": [
       "trabalho.modelos.regressao_linear.RegressaoLinear"
      ]
     },
     "execution_count": 15,
     "metadata": {},
     "output_type": "execute_result"
    }
   ],
   "source": [
    "from trabalho.modelos.regressao_linear import RegressaoLinear\n",
    "\n",
    "RegressaoLinear"
   ]
  },
  {
   "cell_type": "markdown",
   "id": "spread-bacon",
   "metadata": {},
   "source": [
    "##### Hiperparâmetros a serem procurados"
   ]
  },
  {
   "cell_type": "code",
   "execution_count": 16,
   "id": "proper-intersection",
   "metadata": {},
   "outputs": [],
   "source": [
    "dominio_regressao_linear = Dominio([])"
   ]
  },
  {
   "cell_type": "markdown",
   "id": "skilled-laugh",
   "metadata": {},
   "source": [
    "#### Regressão Linear Bayesiana"
   ]
  },
  {
   "cell_type": "code",
   "execution_count": 17,
   "id": "documentary-opinion",
   "metadata": {},
   "outputs": [
    {
     "data": {
      "text/plain": [
       "trabalho.modelos.bayesian_linear_regression.BayesianLinearRegression"
      ]
     },
     "execution_count": 17,
     "metadata": {},
     "output_type": "execute_result"
    }
   ],
   "source": [
    "from trabalho.modelos.bayesian_linear_regression import BayesianLinearRegression\n",
    "\n",
    "BayesianLinearRegression"
   ]
  },
  {
   "cell_type": "code",
   "execution_count": 18,
   "id": "falling-spectrum",
   "metadata": {},
   "outputs": [
    {
     "data": {
      "text/plain": [
       "trabalho.modelos.bayesian_linear_regression_new.BayesianLinearRegressionNew"
      ]
     },
     "execution_count": 18,
     "metadata": {},
     "output_type": "execute_result"
    }
   ],
   "source": [
    "from trabalho.modelos.bayesian_linear_regression_new import BayesianLinearRegressionNew\n",
    "\n",
    "BayesianLinearRegressionNew"
   ]
  },
  {
   "cell_type": "markdown",
   "id": "about-marks",
   "metadata": {},
   "source": [
    "##### Hiperparâmetros a serem procurados"
   ]
  },
  {
   "cell_type": "code",
   "execution_count": 19,
   "id": "brilliant-links",
   "metadata": {},
   "outputs": [],
   "source": [
    "dominio_regressao_linear_bayesiana = Dominio([\n",
    "    {\n",
    "        'name': 'alphaInit',\n",
    "        'type': 'continuous',\n",
    "        'domain': (1e-7, 1.1)\n",
    "    },\n",
    "    {\n",
    "        'name': 'lambdaInit',\n",
    "        'type': 'continuous',\n",
    "        'domain': (1e-7, 1.1)\n",
    "    }\n",
    "])"
   ]
  },
  {
   "cell_type": "code",
   "execution_count": 20,
   "id": "hearing-bride",
   "metadata": {},
   "outputs": [],
   "source": [
    "dominio_regressao_linear_bayesiana_new = Dominio([\n",
    "    {\n",
    "        'name': 'sig2_error',\n",
    "        'type': 'continuous',\n",
    "        'domain': (1e-5, 0.1)\n",
    "    }\n",
    "])"
   ]
  },
  {
   "cell_type": "markdown",
   "id": "distinct-arcade",
   "metadata": {},
   "source": [
    "#### Regressão Linear Bayesiana Polinomial"
   ]
  },
  {
   "cell_type": "code",
   "execution_count": 21,
   "id": "neither-paper",
   "metadata": {},
   "outputs": [
    {
     "data": {
      "text/plain": [
       "trabalho.modelos.bayesian_polinomial_linear_regression.BayesianPolinomialLinearRegression"
      ]
     },
     "execution_count": 21,
     "metadata": {},
     "output_type": "execute_result"
    }
   ],
   "source": [
    "from trabalho.modelos.bayesian_polinomial_linear_regression import BayesianPolinomialLinearRegression\n",
    "\n",
    "BayesianPolinomialLinearRegression"
   ]
  },
  {
   "cell_type": "code",
   "execution_count": 22,
   "id": "manufactured-kazakhstan",
   "metadata": {},
   "outputs": [
    {
     "data": {
      "text/plain": [
       "trabalho.modelos.bayesian_polinomial_linear_regression_new.BayesianPolinomialLinearRegressionNew"
      ]
     },
     "execution_count": 22,
     "metadata": {},
     "output_type": "execute_result"
    }
   ],
   "source": [
    "from trabalho.modelos.bayesian_polinomial_linear_regression_new import BayesianPolinomialLinearRegressionNew\n",
    "\n",
    "BayesianPolinomialLinearRegressionNew"
   ]
  },
  {
   "cell_type": "markdown",
   "id": "prime-return",
   "metadata": {},
   "source": [
    "##### Hiperparâmetros a serem procurados"
   ]
  },
  {
   "cell_type": "code",
   "execution_count": 23,
   "id": "undefined-technology",
   "metadata": {},
   "outputs": [],
   "source": [
    "dominio_regressao_linear_bayesiana_polinomial = Dominio([\n",
    "    {\n",
    "        'name': 'alphaInit',\n",
    "        'type': 'continuous',\n",
    "        'domain': (0.0001, 1.1)\n",
    "    },\n",
    "    {\n",
    "        'name': 'lambdaInit',\n",
    "        'type': 'continuous',\n",
    "        'domain': (0.0001, 1.1)\n",
    "    },\n",
    "    {\n",
    "        'name': 'order',\n",
    "        'type': 'discrete',\n",
    "        'domain': (2, 3, 4, 5, 6, 7, 8, 9, 10)\n",
    "    }\n",
    "])"
   ]
  },
  {
   "cell_type": "code",
   "execution_count": 24,
   "id": "adolescent-blocking",
   "metadata": {},
   "outputs": [],
   "source": [
    "dominio_regressao_linear_bayesiana_polinomial_new = Dominio([\n",
    "    {\n",
    "        'name': 'sig2_error',\n",
    "        'type': 'continuous',\n",
    "        'domain': (1e-5, 0.1)\n",
    "    },\n",
    "    # Poderia ser por model evidence, mas vamos deixar assim mesmo\n",
    "    {\n",
    "        'name': 'order',\n",
    "        'type': 'discrete',\n",
    "        'domain': (2, 3, 4, 5, 6, 7, 8, 9, 10)\n",
    "    }\n",
    "])"
   ]
  },
  {
   "cell_type": "markdown",
   "id": "planned-calcium",
   "metadata": {},
   "source": [
    "#### Regressão Linear Bayesiana com kernel RBF"
   ]
  },
  {
   "cell_type": "code",
   "execution_count": 25,
   "id": "exempt-tracker",
   "metadata": {},
   "outputs": [
    {
     "data": {
      "text/plain": [
       "trabalho.modelos.bayesian_rbf_linear_regression.BayesianRBFLinearRegression"
      ]
     },
     "execution_count": 25,
     "metadata": {},
     "output_type": "execute_result"
    }
   ],
   "source": [
    "from trabalho.modelos.bayesian_rbf_linear_regression import BayesianRBFLinearRegression\n",
    "\n",
    "BayesianRBFLinearRegression"
   ]
  },
  {
   "cell_type": "markdown",
   "id": "native-journal",
   "metadata": {},
   "source": [
    "##### Hiperparâmetros a serem procurados"
   ]
  },
  {
   "cell_type": "code",
   "execution_count": 26,
   "id": "distinguished-jordan",
   "metadata": {},
   "outputs": [],
   "source": [
    "dominio_regressao_linear_bayesiana_rbf = Dominio([\n",
    "#     {\n",
    "#         'name': 'm0',\n",
    "#         'type': 'continuous',\n",
    "#         'domain': (0.0001, 1.1)\n",
    "#     },\n",
    "#     {\n",
    "#         'name': 'S0',\n",
    "#         'type': 'continuous',\n",
    "#         'domain': (0.0001, 1.1)\n",
    "#     },\n",
    "    {\n",
    "        'name': 'sig2_error',\n",
    "        'type': 'continuous',\n",
    "        'domain': (1e-5, 1)\n",
    "    },\n",
    "    {\n",
    "        'name': 'mean_rbf_arbitrario',\n",
    "        'type': 'continuous',\n",
    "        'domain': (-1, 1)\n",
    "    },\n",
    "    {\n",
    "        'name': 'lambda_rbf_arbitrario',\n",
    "        'type': 'continuous',\n",
    "        'domain': (1e-7, 1)\n",
    "    }\n",
    "])"
   ]
  },
  {
   "cell_type": "markdown",
   "id": "southwest-sleep",
   "metadata": {},
   "source": [
    "### Validação - Seleção de modelos"
   ]
  },
  {
   "cell_type": "code",
   "execution_count": 27,
   "id": "killing-balance",
   "metadata": {},
   "outputs": [],
   "source": [
    "from trabalho.util.kfold import KFoldCrossValidation\n",
    "from GPyOpt.methods import BayesianOptimization\n",
    "from tqdm import tqdm\n",
    "\n",
    "\n",
    "def f(Modelo, X, y, metrica, k_folds, relatorio_geral, **kwargs):\n",
    "    relatorio_parcial = pd.DataFrame(columns=['modelo', 'parametros', 'rmse', 'nlpd', 'mape', 'fold', 'tentativa'])\n",
    "    \n",
    "    for fold, X_train, X_validation, y_train, y_validation in tqdm(KFoldCrossValidation(X, y, k_folds).split(), total=k_folds, desc=\"k-fold\"):\n",
    "        resultado = treinar_modelo(Modelo, X_train, X_validation, y_train, y_validation, **kwargs)\n",
    "        \n",
    "        total_execucoes = len(relatorio_geral)\n",
    "        tentativa = (total_execucoes - total_execucoes % k_folds) / k_folds\n",
    "        \n",
    "        relatorio_parcial.loc[len(relatorio_parcial)] = resultado + [fold, tentativa]\n",
    "        relatorio_geral.loc[total_execucoes] = resultado + [fold, tentativa]\n",
    "\n",
    "\n",
    "    medias = relatorio_parcial.mean()\n",
    "    \n",
    "    # Fixme: juntar com o relatório final\n",
    "    #relatorio_parcial\n",
    "    \n",
    "    return medias[metrica]\n",
    "\n",
    "\n",
    "def treinar_modelo(Modelo, X_train, X_validation, y_train, y_validation, **kwargs):\n",
    "    X_scaler = Scaler()\n",
    "    y_scaler = Scaler()\n",
    "\n",
    "    X_train_transform      = X_scaler.fit_transform(X_train)\n",
    "    X_validation_transform = X_scaler.transform(X_validation)\n",
    "    y_train_transform      = y_scaler.fit_transform(y_train)\n",
    "    y_validation_transform = y_scaler.transform(y_validation)\n",
    "\n",
    "    modelo = Modelo(**kwargs)\n",
    "    modelo.fit(X_train_transform, y_train_transform)\n",
    "\n",
    "    means, vars = modelo.predict(X_validation_transform)\n",
    "    means = means.reshape((-1, 1))\n",
    "    vars = vars.reshape((-1, 1))\n",
    "\n",
    "    means_dimensao_correta = y_scaler.inverse_transform(means)\n",
    "    std_errors_modelo = np.sqrt(vars)\n",
    "    std_errors_scaler = np.sqrt(y_scaler.var_)\n",
    "    \n",
    "    vars_dimensao_correta = (std_errors_modelo * std_errors_scaler)**2\n",
    "\n",
    "    erro_rmse = rmse(means_dimensao_correta, y_validation)\n",
    "    erro_nlpd = nlpd(means_dimensao_correta, vars_dimensao_correta, y_validation)\n",
    "    erro_mape = mape(means_dimensao_correta, y_validation)\n",
    "    \n",
    "    \n",
    "    return [Modelo.__name__, kwargs, erro_rmse, erro_nlpd, erro_mape]\n",
    "\n",
    "\n",
    "def otimizacao_bayesiana(Modelo, dominio, X, y, k_folds=5, metrica='nlpd', max_iter=50):\n",
    "    relatorio = pd.DataFrame(columns=['modelo', 'parametros', 'rmse', 'nlpd', 'mape', 'fold', 'tentativa'])\n",
    "    funcao = dominio.gerar_f(Modelo=Modelo, f=f, X=X, y=y, k_folds=5, metrica=metrica, relatorio_geral=relatorio)\n",
    "\n",
    "    bo = BayesianOptimization(f=funcao, domain=dominio.dominio, verbosity=True)\n",
    "    bo.run_optimization(max_iter=max_iter)\n",
    "\n",
    "    try:\n",
    "        bo.plot_convergence()\n",
    "        bo.plot_acquisition()\n",
    "    except Exception as e:\n",
    "        print(e)\n",
    "\n",
    "    print(f'{metrica}:', bo.fx_opt)\n",
    "    print('Parâmetros:', bo.x_opt)\n",
    "\n",
    "    return relatorio"
   ]
  },
  {
   "cell_type": "code",
   "execution_count": 28,
   "id": "spare-geology",
   "metadata": {},
   "outputs": [],
   "source": [
    "modelos = {\n",
    "    'GP': (GP, dominio_gp),\n",
    "    'RegressaoLinear': (RegressaoLinear, dominio_regressao_linear),\n",
    "    'BayesianLinearRegression': (BayesianLinearRegression, dominio_regressao_linear_bayesiana),\n",
    "    'BayesianPolinomialLinearRegression': (BayesianPolinomialLinearRegression, dominio_regressao_linear_bayesiana_polinomial),\n",
    "    'BayesianLinearRegressionNew': (BayesianLinearRegressionNew, dominio_regressao_linear_bayesiana_new),\n",
    "    'BayesianPolinomialLinearRegressionNew': (BayesianPolinomialLinearRegressionNew, dominio_regressao_linear_bayesiana_polinomial_new),\n",
    "    'BayesianRBFLinearRegression': (BayesianRBFLinearRegression, dominio_regressao_linear_bayesiana_rbf),\n",
    "}"
   ]
  },
  {
   "cell_type": "code",
   "execution_count": 29,
   "id": "reserved-knife",
   "metadata": {},
   "outputs": [
    {
     "name": "stderr",
     "output_type": "stream",
     "text": [
      "k-fold: 100%|██████████| 5/5 [00:00<00:00, 31.33it/s]\n",
      "k-fold:   0%|          | 0/5 [00:00<?, ?it/s]"
     ]
    },
    {
     "name": "stdout",
     "output_type": "stream",
     "text": [
      "GP False\n",
      "RegressaoLinear True\n"
     ]
    },
    {
     "name": "stderr",
     "output_type": "stream",
     "text": [
      "k-fold: 100%|██████████| 5/5 [00:00<00:00, 23.69it/s]\n",
      "k-fold: 100%|██████████| 5/5 [00:00<00:00, 42.66it/s]\n",
      "k-fold: 100%|██████████| 5/5 [00:00<00:00, 44.56it/s]\n",
      "k-fold: 100%|██████████| 5/5 [00:00<00:00, 37.69it/s]\n"
     ]
    },
    {
     "data": {
      "image/png": "[encoded data removed]",
      "text/plain": [
       "<Figure size 720x360 with 2 Axes>"
      ]
     },
     "metadata": {
      "needs_background": "light"
     },
     "output_type": "display_data"
    },
    {
     "name": "stderr",
     "output_type": "stream",
     "text": [
      "k-fold:  40%|████      | 2/5 [00:00<00:00, 18.70it/s]"
     ]
    },
    {
     "name": "stdout",
     "output_type": "stream",
     "text": [
      "not enough values to unpack (expected 2, got 0)\n",
      "nlpd: 5.508639771557694e+66\n",
      "Parâmetros: []\n",
      "BayesianLinearRegression True\n"
     ]
    },
    {
     "name": "stderr",
     "output_type": "stream",
     "text": [
      "k-fold: 100%|██████████| 5/5 [00:00<00:00, 22.19it/s]\n",
      "k-fold: 100%|██████████| 5/5 [00:00<00:00, 25.06it/s]\n",
      "k-fold: 100%|██████████| 5/5 [00:00<00:00, 25.82it/s]\n",
      "k-fold: 100%|██████████| 5/5 [00:00<00:00, 25.85it/s]\n",
      "k-fold: 100%|██████████| 5/5 [00:00<00:00, 23.42it/s]\n",
      "k-fold: 100%|██████████| 5/5 [00:00<00:00, 10.18it/s]\n",
      "k-fold: 100%|██████████| 5/5 [00:00<00:00, 13.10it/s]\n",
      "k-fold: 100%|██████████| 5/5 [00:00<00:00, 11.85it/s]\n",
      "k-fold: 100%|██████████| 5/5 [00:00<00:00, 14.97it/s]\n",
      "k-fold: 100%|██████████| 5/5 [00:00<00:00, 11.09it/s]\n",
      "k-fold: 100%|██████████| 5/5 [00:00<00:00, 12.93it/s]\n",
      "k-fold: 100%|██████████| 5/5 [00:00<00:00, 13.25it/s]\n",
      "k-fold: 100%|██████████| 5/5 [00:00<00:00, 21.95it/s]\n",
      "k-fold: 100%|██████████| 5/5 [00:00<00:00, 13.01it/s]\n",
      "k-fold: 100%|██████████| 5/5 [00:00<00:00,  8.95it/s]\n",
      "k-fold: 100%|██████████| 5/5 [00:00<00:00, 20.24it/s]\n",
      "k-fold: 100%|██████████| 5/5 [00:00<00:00, 13.43it/s]\n",
      "k-fold: 100%|██████████| 5/5 [00:00<00:00, 11.51it/s]\n",
      "k-fold: 100%|██████████| 5/5 [00:00<00:00,  8.10it/s]\n",
      "k-fold: 100%|██████████| 5/5 [00:00<00:00, 11.79it/s]\n",
      "k-fold: 100%|██████████| 5/5 [00:00<00:00, 15.72it/s]\n",
      "k-fold: 100%|██████████| 5/5 [00:00<00:00, 15.07it/s]\n",
      "k-fold: 100%|██████████| 5/5 [00:00<00:00,  9.75it/s]\n",
      "k-fold: 100%|██████████| 5/5 [00:00<00:00, 11.92it/s]\n",
      "k-fold: 100%|██████████| 5/5 [00:00<00:00, 18.09it/s]\n",
      "k-fold: 100%|██████████| 5/5 [00:00<00:00, 16.16it/s]\n",
      "k-fold: 100%|██████████| 5/5 [00:00<00:00,  8.89it/s]\n",
      "k-fold: 100%|██████████| 5/5 [00:00<00:00, 11.66it/s]\n",
      "k-fold: 100%|██████████| 5/5 [00:00<00:00, 10.53it/s]\n",
      "k-fold: 100%|██████████| 5/5 [00:00<00:00, 11.95it/s]\n",
      "k-fold: 100%|██████████| 5/5 [00:00<00:00, 14.61it/s]\n",
      "k-fold: 100%|██████████| 5/5 [00:00<00:00, 19.16it/s]\n",
      "k-fold: 100%|██████████| 5/5 [00:00<00:00, 13.39it/s]\n",
      "k-fold: 100%|██████████| 5/5 [00:00<00:00, 13.19it/s]\n",
      "k-fold: 100%|██████████| 5/5 [00:00<00:00, 11.89it/s]\n",
      "k-fold: 100%|██████████| 5/5 [00:00<00:00, 14.13it/s]\n",
      "k-fold: 100%|██████████| 5/5 [00:00<00:00, 10.70it/s]\n",
      "k-fold: 100%|██████████| 5/5 [00:00<00:00,  9.29it/s]\n",
      "k-fold: 100%|██████████| 5/5 [00:00<00:00, 14.21it/s]\n",
      "k-fold: 100%|██████████| 5/5 [00:00<00:00, 11.71it/s]\n",
      "k-fold: 100%|██████████| 5/5 [00:00<00:00, 12.35it/s]\n",
      "k-fold: 100%|██████████| 5/5 [00:00<00:00, 23.84it/s]\n",
      "k-fold: 100%|██████████| 5/5 [00:00<00:00, 16.37it/s]\n",
      "k-fold: 100%|██████████| 5/5 [00:00<00:00, 14.64it/s]\n",
      "k-fold: 100%|██████████| 5/5 [00:00<00:00, 11.65it/s]\n",
      "k-fold: 100%|██████████| 5/5 [00:00<00:00, 12.22it/s]\n",
      "k-fold: 100%|██████████| 5/5 [00:00<00:00, 11.55it/s]\n",
      "k-fold: 100%|██████████| 5/5 [00:00<00:00, 14.86it/s]\n",
      "k-fold: 100%|██████████| 5/5 [00:00<00:00, 13.04it/s]\n",
      "k-fold: 100%|██████████| 5/5 [00:00<00:00, 20.42it/s]\n",
      "k-fold: 100%|██████████| 5/5 [00:00<00:00,  8.12it/s]\n",
      "k-fold: 100%|██████████| 5/5 [00:00<00:00, 19.23it/s]\n",
      "k-fold: 100%|██████████| 5/5 [00:00<00:00, 14.28it/s]\n",
      "k-fold: 100%|██████████| 5/5 [00:00<00:00, 12.60it/s]\n",
      "k-fold: 100%|██████████| 5/5 [00:00<00:00, 12.53it/s]\n"
     ]
    },
    {
     "data": {
      "image/png": "[encoded data removed]",
      "text/plain": [
       "<Figure size 720x360 with 2 Axes>"
      ]
     },
     "metadata": {
      "needs_background": "light"
     },
     "output_type": "display_data"
    },
    {
     "data": {
      "image/png": "[encoded data removed]",
      "text/plain": [
       "<Figure size 1080x360 with 6 Axes>"
      ]
     },
     "metadata": {
      "needs_background": "light"
     },
     "output_type": "display_data"
    },
    {
     "name": "stderr",
     "output_type": "stream",
     "text": [
      "k-fold:   0%|          | 0/5 [00:00<?, ?it/s]"
     ]
    },
    {
     "name": "stdout",
     "output_type": "stream",
     "text": [
      "nlpd: 16.734459463610822\n",
      "Parâmetros: [6.37517717e-01 1.00000000e-07]\n",
      "BayesianPolinomialLinearRegression True\n"
     ]
    },
    {
     "name": "stderr",
     "output_type": "stream",
     "text": [
      "k-fold: 100%|██████████| 5/5 [00:02<00:00,  2.49it/s]\n",
      "k-fold: 100%|██████████| 5/5 [00:01<00:00,  2.94it/s]\n",
      "k-fold: 100%|██████████| 5/5 [00:02<00:00,  2.03it/s]\n",
      "k-fold: 100%|██████████| 5/5 [00:02<00:00,  1.71it/s]\n",
      "k-fold: 100%|██████████| 5/5 [00:02<00:00,  2.09it/s]\n",
      "k-fold: 100%|██████████| 5/5 [00:02<00:00,  2.28it/s]\n",
      "k-fold: 100%|██████████| 5/5 [00:01<00:00,  2.92it/s]\n",
      "k-fold: 100%|██████████| 5/5 [00:02<00:00,  2.49it/s]\n",
      "k-fold: 100%|██████████| 5/5 [00:01<00:00,  2.79it/s]\n",
      "k-fold: 100%|██████████| 5/5 [00:01<00:00,  2.78it/s]\n",
      "k-fold: 100%|██████████| 5/5 [00:02<00:00,  2.21it/s]\n",
      "k-fold: 100%|██████████| 5/5 [00:02<00:00,  2.20it/s]\n",
      "k-fold: 100%|██████████| 5/5 [00:02<00:00,  2.11it/s]\n",
      "k-fold: 100%|██████████| 5/5 [00:02<00:00,  2.04it/s]\n",
      "k-fold: 100%|██████████| 5/5 [00:04<00:00,  1.24it/s]\n",
      "k-fold: 100%|██████████| 5/5 [00:03<00:00,  1.55it/s]\n",
      "k-fold: 100%|██████████| 5/5 [00:03<00:00,  1.43it/s]\n",
      "k-fold: 100%|██████████| 5/5 [00:01<00:00,  3.94it/s]\n",
      "k-fold: 100%|██████████| 5/5 [00:01<00:00,  4.03it/s]\n",
      "k-fold: 100%|██████████| 5/5 [00:01<00:00,  3.18it/s]\n",
      "k-fold: 100%|██████████| 5/5 [00:02<00:00,  1.84it/s]\n",
      "k-fold: 100%|██████████| 5/5 [00:03<00:00,  1.61it/s]\n",
      "k-fold: 100%|██████████| 5/5 [00:03<00:00,  1.58it/s]\n",
      "k-fold: 100%|██████████| 5/5 [00:01<00:00,  2.53it/s]\n",
      "k-fold: 100%|██████████| 5/5 [00:02<00:00,  1.96it/s]\n",
      "k-fold: 100%|██████████| 5/5 [00:01<00:00,  2.98it/s]\n",
      "k-fold: 100%|██████████| 5/5 [00:02<00:00,  1.79it/s]\n",
      "k-fold: 100%|██████████| 5/5 [00:02<00:00,  2.02it/s]\n",
      "k-fold: 100%|██████████| 5/5 [00:01<00:00,  3.97it/s]\n",
      "k-fold: 100%|██████████| 5/5 [00:03<00:00,  1.59it/s]\n",
      "k-fold: 100%|██████████| 5/5 [00:01<00:00,  3.11it/s]\n",
      "k-fold: 100%|██████████| 5/5 [00:02<00:00,  2.48it/s]\n",
      "k-fold: 100%|██████████| 5/5 [00:02<00:00,  2.08it/s]\n",
      "k-fold: 100%|██████████| 5/5 [00:02<00:00,  2.28it/s]\n",
      "k-fold: 100%|██████████| 5/5 [00:02<00:00,  2.26it/s]\n",
      "k-fold: 100%|██████████| 5/5 [00:01<00:00,  3.28it/s]\n",
      "k-fold: 100%|██████████| 5/5 [00:02<00:00,  1.74it/s]\n",
      "k-fold: 100%|██████████| 5/5 [00:02<00:00,  1.76it/s]\n",
      "k-fold: 100%|██████████| 5/5 [00:02<00:00,  1.68it/s]\n",
      "k-fold: 100%|██████████| 5/5 [00:02<00:00,  1.93it/s]\n",
      "k-fold: 100%|██████████| 5/5 [00:01<00:00,  2.65it/s]\n",
      "k-fold: 100%|██████████| 5/5 [00:01<00:00,  3.21it/s]\n",
      "k-fold: 100%|██████████| 5/5 [00:02<00:00,  2.37it/s]\n",
      "k-fold: 100%|██████████| 5/5 [00:02<00:00,  1.84it/s]\n",
      "k-fold: 100%|██████████| 5/5 [00:02<00:00,  1.82it/s]\n",
      "k-fold: 100%|██████████| 5/5 [00:02<00:00,  1.94it/s]\n",
      "k-fold: 100%|██████████| 5/5 [00:04<00:00,  1.16it/s]\n",
      "k-fold: 100%|██████████| 5/5 [00:02<00:00,  2.20it/s]\n",
      "k-fold: 100%|██████████| 5/5 [00:02<00:00,  2.10it/s]\n",
      "k-fold: 100%|██████████| 5/5 [00:03<00:00,  1.40it/s]\n",
      "k-fold: 100%|██████████| 5/5 [00:02<00:00,  1.86it/s]\n",
      "k-fold: 100%|██████████| 5/5 [00:02<00:00,  1.97it/s]\n",
      "k-fold: 100%|██████████| 5/5 [00:02<00:00,  2.24it/s]\n",
      "k-fold: 100%|██████████| 5/5 [00:03<00:00,  1.66it/s]\n",
      "k-fold: 100%|██████████| 5/5 [00:02<00:00,  1.75it/s]\n"
     ]
    },
    {
     "data": {
      "image/png": "[encoded data removed]",
      "text/plain": [
       "<Figure size 720x360 with 2 Axes>"
      ]
     },
     "metadata": {
      "needs_background": "light"
     },
     "output_type": "display_data"
    },
    {
     "name": "stderr",
     "output_type": "stream",
     "text": [
      "k-fold:  40%|████      | 2/5 [00:00<00:00, 16.39it/s]"
     ]
    },
    {
     "name": "stdout",
     "output_type": "stream",
     "text": [
      "nlpd: 16.677250587526995\n",
      "Parâmetros: [0.00587459 0.0637858  4.        ]\n",
      "BayesianLinearRegressionNew True\n"
     ]
    },
    {
     "name": "stderr",
     "output_type": "stream",
     "text": [
      "k-fold: 100%|██████████| 5/5 [00:00<00:00, 18.12it/s]\n",
      "k-fold: 100%|██████████| 5/5 [00:00<00:00, 24.51it/s]\n",
      "k-fold: 100%|██████████| 5/5 [00:00<00:00, 20.25it/s]\n",
      "k-fold: 100%|██████████| 5/5 [00:00<00:00, 24.17it/s]\n",
      "k-fold: 100%|██████████| 5/5 [00:00<00:00, 23.17it/s]\n",
      "k-fold: 100%|██████████| 5/5 [00:00<00:00, 23.78it/s]\n",
      "k-fold: 100%|██████████| 5/5 [00:00<00:00, 24.74it/s]\n",
      "k-fold: 100%|██████████| 5/5 [00:00<00:00, 19.10it/s]\n",
      "k-fold: 100%|██████████| 5/5 [00:00<00:00, 19.85it/s]\n"
     ]
    },
    {
     "data": {
      "image/png": "[encoded data removed]",
      "text/plain": [
       "<Figure size 720x360 with 2 Axes>"
      ]
     },
     "metadata": {
      "needs_background": "light"
     },
     "output_type": "display_data"
    },
    {
     "data": {
      "image/png": "[encoded data removed]",
      "text/plain": [
       "<Figure size 432x288 with 1 Axes>"
      ]
     },
     "metadata": {
      "needs_background": "light"
     },
     "output_type": "display_data"
    },
    {
     "name": "stderr",
     "output_type": "stream",
     "text": [
      "k-fold:   0%|          | 0/5 [00:00<?, ?it/s]"
     ]
    },
    {
     "name": "stdout",
     "output_type": "stream",
     "text": [
      "nlpd: 12.155169822215466\n",
      "Parâmetros: [1.e-05]\n",
      "BayesianPolinomialLinearRegressionNew True\n"
     ]
    },
    {
     "name": "stderr",
     "output_type": "stream",
     "text": [
      "k-fold: 100%|██████████| 5/5 [00:02<00:00,  1.97it/s]\n",
      "k-fold: 100%|██████████| 5/5 [00:00<00:00,  6.68it/s]\n",
      "k-fold: 100%|██████████| 5/5 [00:01<00:00,  2.78it/s]\n",
      "k-fold: 100%|██████████| 5/5 [00:02<00:00,  2.27it/s]\n",
      "k-fold: 100%|██████████| 5/5 [00:01<00:00,  4.65it/s]\n",
      "k-fold: 100%|██████████| 5/5 [00:02<00:00,  2.27it/s]\n",
      "k-fold: 100%|██████████| 5/5 [00:01<00:00,  2.58it/s]\n",
      "k-fold: 100%|██████████| 5/5 [00:01<00:00,  3.56it/s]\n",
      "k-fold: 100%|██████████| 5/5 [00:02<00:00,  2.46it/s]\n",
      "k-fold: 100%|██████████| 5/5 [00:01<00:00,  2.84it/s]\n",
      "k-fold: 100%|██████████| 5/5 [00:02<00:00,  2.24it/s]\n",
      "k-fold: 100%|██████████| 5/5 [00:03<00:00,  1.60it/s]\n",
      "k-fold: 100%|██████████| 5/5 [00:02<00:00,  2.44it/s]\n",
      "k-fold: 100%|██████████| 5/5 [00:01<00:00,  2.93it/s]\n",
      "k-fold: 100%|██████████| 5/5 [00:02<00:00,  2.49it/s]\n",
      "k-fold: 100%|██████████| 5/5 [00:01<00:00,  3.11it/s]\n",
      "k-fold: 100%|██████████| 5/5 [00:02<00:00,  1.97it/s]\n",
      "k-fold: 100%|██████████| 5/5 [00:02<00:00,  2.15it/s]\n",
      "k-fold: 100%|██████████| 5/5 [00:01<00:00,  2.61it/s]\n",
      "k-fold: 100%|██████████| 5/5 [00:01<00:00,  2.75it/s]\n",
      "k-fold: 100%|██████████| 5/5 [00:01<00:00,  3.01it/s]\n",
      "k-fold: 100%|██████████| 5/5 [00:01<00:00,  2.92it/s]\n",
      "k-fold: 100%|██████████| 5/5 [00:01<00:00,  3.00it/s]\n",
      "k-fold: 100%|██████████| 5/5 [00:01<00:00,  4.37it/s]\n",
      "k-fold: 100%|██████████| 5/5 [00:00<00:00,  6.40it/s]\n",
      "k-fold: 100%|██████████| 5/5 [00:02<00:00,  2.00it/s]\n",
      "k-fold: 100%|██████████| 5/5 [00:01<00:00,  4.22it/s]\n",
      "k-fold: 100%|██████████| 5/5 [00:01<00:00,  4.60it/s]\n",
      "k-fold: 100%|██████████| 5/5 [00:01<00:00,  4.50it/s]\n",
      "k-fold: 100%|██████████| 5/5 [00:02<00:00,  1.70it/s]\n",
      "k-fold: 100%|██████████| 5/5 [00:02<00:00,  1.69it/s]\n",
      "k-fold: 100%|██████████| 5/5 [00:00<00:00,  6.30it/s]\n",
      "k-fold: 100%|██████████| 5/5 [00:01<00:00,  3.41it/s]\n",
      "k-fold: 100%|██████████| 5/5 [00:01<00:00,  2.60it/s]\n",
      "k-fold: 100%|██████████| 5/5 [00:01<00:00,  3.28it/s]\n",
      "k-fold: 100%|██████████| 5/5 [00:01<00:00,  2.59it/s]\n",
      "k-fold: 100%|██████████| 5/5 [00:01<00:00,  4.63it/s]\n",
      "k-fold: 100%|██████████| 5/5 [00:01<00:00,  3.05it/s]\n",
      "k-fold: 100%|██████████| 5/5 [00:02<00:00,  1.79it/s]\n",
      "k-fold: 100%|██████████| 5/5 [00:01<00:00,  3.51it/s]\n",
      "k-fold: 100%|██████████| 5/5 [00:02<00:00,  2.23it/s]\n",
      "k-fold: 100%|██████████| 5/5 [00:02<00:00,  2.28it/s]\n",
      "k-fold: 100%|██████████| 5/5 [00:02<00:00,  1.83it/s]\n",
      "k-fold: 100%|██████████| 5/5 [00:02<00:00,  2.44it/s]\n",
      "k-fold: 100%|██████████| 5/5 [00:01<00:00,  3.18it/s]\n",
      "k-fold: 100%|██████████| 5/5 [00:02<00:00,  2.15it/s]\n",
      "k-fold: 100%|██████████| 5/5 [00:03<00:00,  1.37it/s]\n",
      "k-fold: 100%|██████████| 5/5 [00:01<00:00,  2.71it/s]\n",
      "k-fold: 100%|██████████| 5/5 [00:03<00:00,  1.44it/s]\n",
      "k-fold: 100%|██████████| 5/5 [00:01<00:00,  2.64it/s]\n",
      "k-fold: 100%|██████████| 5/5 [00:01<00:00,  3.10it/s]\n",
      "k-fold: 100%|██████████| 5/5 [00:01<00:00,  3.07it/s]\n",
      "k-fold: 100%|██████████| 5/5 [00:02<00:00,  1.72it/s]\n",
      "k-fold: 100%|██████████| 5/5 [00:00<00:00,  6.28it/s]\n",
      "k-fold: 100%|██████████| 5/5 [00:03<00:00,  1.30it/s]\n"
     ]
    },
    {
     "data": {
      "image/png": "[encoded data removed]",
      "text/plain": [
       "<Figure size 720x360 with 2 Axes>"
      ]
     },
     "metadata": {
      "needs_background": "light"
     },
     "output_type": "display_data"
    },
    {
     "data": {
      "image/png": "[encoded data removed]",
      "text/plain": [
       "<Figure size 1080x360 with 6 Axes>"
      ]
     },
     "metadata": {
      "needs_background": "light"
     },
     "output_type": "display_data"
    },
    {
     "name": "stderr",
     "output_type": "stream",
     "text": [
      "k-fold:   0%|          | 0/5 [00:00<?, ?it/s]"
     ]
    },
    {
     "name": "stdout",
     "output_type": "stream",
     "text": [
      "nlpd: nan\n",
      "Parâmetros: [0.0377323 8.       ]\n",
      "BayesianRBFLinearRegression True\n"
     ]
    },
    {
     "name": "stderr",
     "output_type": "stream",
     "text": [
      "k-fold: 100%|██████████| 5/5 [00:01<00:00,  2.61it/s]\n",
      "k-fold: 100%|██████████| 5/5 [00:02<00:00,  2.40it/s]\n",
      "k-fold: 100%|██████████| 5/5 [00:02<00:00,  2.41it/s]\n",
      "k-fold: 100%|██████████| 5/5 [00:02<00:00,  2.43it/s]\n",
      "k-fold: 100%|██████████| 5/5 [00:02<00:00,  2.41it/s]\n",
      "k-fold: 100%|██████████| 5/5 [00:02<00:00,  2.05it/s]\n",
      "k-fold: 100%|██████████| 5/5 [00:02<00:00,  1.93it/s]\n",
      "k-fold: 100%|██████████| 5/5 [00:02<00:00,  2.00it/s]\n",
      "k-fold: 100%|██████████| 5/5 [00:02<00:00,  1.94it/s]\n",
      "k-fold: 100%|██████████| 5/5 [00:02<00:00,  2.25it/s]\n",
      "k-fold: 100%|██████████| 5/5 [00:02<00:00,  2.36it/s]\n",
      "k-fold: 100%|██████████| 5/5 [00:01<00:00,  2.54it/s]\n",
      "k-fold: 100%|██████████| 5/5 [00:01<00:00,  2.53it/s]\n",
      "k-fold: 100%|██████████| 5/5 [00:01<00:00,  2.50it/s]\n",
      "k-fold: 100%|██████████| 5/5 [00:02<00:00,  2.22it/s]\n",
      "k-fold: 100%|██████████| 5/5 [00:02<00:00,  2.43it/s]\n",
      "k-fold: 100%|██████████| 5/5 [00:02<00:00,  2.39it/s]\n",
      "k-fold: 100%|██████████| 5/5 [00:02<00:00,  2.45it/s]\n",
      "k-fold: 100%|██████████| 5/5 [00:02<00:00,  2.49it/s]\n",
      "k-fold: 100%|██████████| 5/5 [00:02<00:00,  2.11it/s]\n",
      "k-fold: 100%|██████████| 5/5 [00:01<00:00,  2.63it/s]\n",
      "k-fold: 100%|██████████| 5/5 [00:01<00:00,  2.50it/s]\n",
      "k-fold: 100%|██████████| 5/5 [00:01<00:00,  2.61it/s]\n",
      "k-fold: 100%|██████████| 5/5 [00:01<00:00,  2.53it/s]\n",
      "k-fold: 100%|██████████| 5/5 [00:02<00:00,  2.13it/s]\n",
      "k-fold: 100%|██████████| 5/5 [00:02<00:00,  1.90it/s]\n",
      "k-fold: 100%|██████████| 5/5 [00:02<00:00,  1.97it/s]\n",
      "k-fold: 100%|██████████| 5/5 [00:02<00:00,  2.14it/s]\n",
      "k-fold: 100%|██████████| 5/5 [00:02<00:00,  2.18it/s]\n",
      "k-fold: 100%|██████████| 5/5 [00:02<00:00,  1.86it/s]\n",
      "k-fold: 100%|██████████| 5/5 [00:01<00:00,  2.53it/s]\n",
      "k-fold: 100%|██████████| 5/5 [00:02<00:00,  2.32it/s]\n",
      "k-fold: 100%|██████████| 5/5 [00:01<00:00,  2.57it/s]\n",
      "k-fold: 100%|██████████| 5/5 [00:02<00:00,  2.25it/s]\n",
      "k-fold: 100%|██████████| 5/5 [00:02<00:00,  2.35it/s]\n",
      "k-fold: 100%|██████████| 5/5 [00:02<00:00,  2.21it/s]\n",
      "k-fold: 100%|██████████| 5/5 [00:02<00:00,  2.34it/s]\n",
      "k-fold: 100%|██████████| 5/5 [00:02<00:00,  2.33it/s]\n",
      "k-fold: 100%|██████████| 5/5 [00:03<00:00,  1.60it/s]\n",
      "k-fold: 100%|██████████| 5/5 [00:02<00:00,  1.97it/s]\n",
      "k-fold: 100%|██████████| 5/5 [00:02<00:00,  2.42it/s]\n",
      "k-fold: 100%|██████████| 5/5 [00:02<00:00,  2.37it/s]\n",
      "k-fold: 100%|██████████| 5/5 [00:02<00:00,  2.40it/s]\n",
      "k-fold: 100%|██████████| 5/5 [00:01<00:00,  2.57it/s]\n",
      "k-fold: 100%|██████████| 5/5 [00:01<00:00,  2.61it/s]\n",
      "k-fold: 100%|██████████| 5/5 [00:02<00:00,  2.47it/s]\n",
      "k-fold: 100%|██████████| 5/5 [00:01<00:00,  2.61it/s]\n",
      "k-fold: 100%|██████████| 5/5 [00:02<00:00,  2.40it/s]\n",
      "k-fold: 100%|██████████| 5/5 [00:02<00:00,  2.08it/s]\n",
      "k-fold: 100%|██████████| 5/5 [00:02<00:00,  2.31it/s]\n",
      "k-fold: 100%|██████████| 5/5 [00:02<00:00,  2.27it/s]\n",
      "k-fold: 100%|██████████| 5/5 [00:02<00:00,  2.12it/s]\n",
      "k-fold: 100%|██████████| 5/5 [00:02<00:00,  2.47it/s]\n",
      "k-fold: 100%|██████████| 5/5 [00:02<00:00,  2.24it/s]\n",
      "k-fold: 100%|██████████| 5/5 [00:02<00:00,  2.32it/s]\n"
     ]
    },
    {
     "data": {
      "image/png": "[encoded data removed]",
      "text/plain": [
       "<Figure size 720x360 with 2 Axes>"
      ]
     },
     "metadata": {
      "needs_background": "light"
     },
     "output_type": "display_data"
    },
    {
     "name": "stdout",
     "output_type": "stream",
     "text": [
      "nlpd: 12.154601111009626\n",
      "Parâmetros: [1.00000000e-05 5.06195039e-01 1.00000000e+00]\n"
     ]
    }
   ],
   "source": [
    "relatorio_modelos = pd.DataFrame(columns=['modelo', 'parametros', 'rmse', 'nlpd', 'mape', 'fold', 'tentativa'])\n",
    "\n",
    "\n",
    "for modelo, (Classe, dominio) in modelos.items():\n",
    "    print(modelo, treinar[modelo])\n",
    "    if treinar[modelo]:\n",
    "        resultado_parcial = otimizacao_bayesiana(Modelo=Classe, dominio=dominio, X=X_train, y=y_train, metrica=metrica, max_iter=bo_max_iter)\n",
    "        relatorio_modelos = pd.concat([relatorio_modelos, resultado_parcial])\n",
    "        resultado_parcial.to_csv(f'resultados/parciais/{modelo}_{metrica}.csv')"
   ]
  },
  {
   "cell_type": "markdown",
   "id": "moved-latin",
   "metadata": {},
   "source": [
    "#### Resultado prelimiar"
   ]
  },
  {
   "cell_type": "code",
   "execution_count": 30,
   "id": "informative-journey",
   "metadata": {},
   "outputs": [
    {
     "data": {
      "text/html": [
       "<div>\n",
       "<style scoped>\n",
       "    .dataframe tbody tr th:only-of-type {\n",
       "        vertical-align: middle;\n",
       "    }\n",
       "\n",
       "    .dataframe tbody tr th {\n",
       "        vertical-align: top;\n",
       "    }\n",
       "\n",
       "    .dataframe thead tr th {\n",
       "        text-align: left;\n",
       "    }\n",
       "\n",
       "    .dataframe thead tr:last-of-type th {\n",
       "        text-align: right;\n",
       "    }\n",
       "</style>\n",
       "<table border=\"1\" class=\"dataframe\">\n",
       "  <thead>\n",
       "    <tr>\n",
       "      <th></th>\n",
       "      <th>tentativa</th>\n",
       "      <th colspan=\"2\" halign=\"left\">rmse</th>\n",
       "      <th colspan=\"2\" halign=\"left\">nlpd</th>\n",
       "      <th colspan=\"2\" halign=\"left\">mape</th>\n",
       "    </tr>\n",
       "    <tr>\n",
       "      <th></th>\n",
       "      <th></th>\n",
       "      <th>mean</th>\n",
       "      <th>std</th>\n",
       "      <th>mean</th>\n",
       "      <th>std</th>\n",
       "      <th>mean</th>\n",
       "      <th>std</th>\n",
       "    </tr>\n",
       "    <tr>\n",
       "      <th>modelo</th>\n",
       "      <th></th>\n",
       "      <th></th>\n",
       "      <th></th>\n",
       "      <th></th>\n",
       "      <th></th>\n",
       "      <th></th>\n",
       "      <th></th>\n",
       "    </tr>\n",
       "  </thead>\n",
       "  <tbody>\n",
       "    <tr>\n",
       "      <th>BayesianLinearRegression</th>\n",
       "      <td>7.0</td>\n",
       "      <td>2688.911572</td>\n",
       "      <td>2178.217636</td>\n",
       "      <td>1.673446e+01</td>\n",
       "      <td>8.261836e-01</td>\n",
       "      <td>1.206484</td>\n",
       "      <td>1.573512</td>\n",
       "    </tr>\n",
       "    <tr>\n",
       "      <th>BayesianLinearRegressionNew</th>\n",
       "      <td>8.0</td>\n",
       "      <td>2688.697004</td>\n",
       "      <td>2176.500569</td>\n",
       "      <td>1.215517e+01</td>\n",
       "      <td>8.156530e-01</td>\n",
       "      <td>0.662921</td>\n",
       "      <td>0.453812</td>\n",
       "    </tr>\n",
       "    <tr>\n",
       "      <th>BayesianPolinomialLinearRegression</th>\n",
       "      <td>7.0</td>\n",
       "      <td>2745.815592</td>\n",
       "      <td>2226.759621</td>\n",
       "      <td>1.667725e+01</td>\n",
       "      <td>8.291505e-01</td>\n",
       "      <td>1.577675</td>\n",
       "      <td>2.345819</td>\n",
       "    </tr>\n",
       "    <tr>\n",
       "      <th>BayesianPolinomialLinearRegressionNew</th>\n",
       "      <td>27.0</td>\n",
       "      <td>2725.290756</td>\n",
       "      <td>2203.585484</td>\n",
       "      <td>1.424737e+01</td>\n",
       "      <td>8.510501e-01</td>\n",
       "      <td>1.005421</td>\n",
       "      <td>0.780328</td>\n",
       "    </tr>\n",
       "    <tr>\n",
       "      <th>BayesianRBFLinearRegression</th>\n",
       "      <td>30.0</td>\n",
       "      <td>3823.433923</td>\n",
       "      <td>2053.615286</td>\n",
       "      <td>1.215460e+01</td>\n",
       "      <td>8.078928e-01</td>\n",
       "      <td>1.069023</td>\n",
       "      <td>0.485753</td>\n",
       "    </tr>\n",
       "    <tr>\n",
       "      <th>RegressaoLinear</th>\n",
       "      <td>0.0</td>\n",
       "      <td>2689.319110</td>\n",
       "      <td>2175.098350</td>\n",
       "      <td>5.508640e+66</td>\n",
       "      <td>8.583215e+66</td>\n",
       "      <td>0.633075</td>\n",
       "      <td>0.409580</td>\n",
       "    </tr>\n",
       "  </tbody>\n",
       "</table>\n",
       "</div>"
      ],
      "text/plain": [
       "                                      tentativa         rmse               \\\n",
       "                                                        mean          std   \n",
       "modelo                                                                      \n",
       "BayesianLinearRegression                    7.0  2688.911572  2178.217636   \n",
       "BayesianLinearRegressionNew                 8.0  2688.697004  2176.500569   \n",
       "BayesianPolinomialLinearRegression          7.0  2745.815592  2226.759621   \n",
       "BayesianPolinomialLinearRegressionNew      27.0  2725.290756  2203.585484   \n",
       "BayesianRBFLinearRegression                30.0  3823.433923  2053.615286   \n",
       "RegressaoLinear                             0.0  2689.319110  2175.098350   \n",
       "\n",
       "                                               nlpd                    mape  \\\n",
       "                                               mean           std      mean   \n",
       "modelo                                                                        \n",
       "BayesianLinearRegression               1.673446e+01  8.261836e-01  1.206484   \n",
       "BayesianLinearRegressionNew            1.215517e+01  8.156530e-01  0.662921   \n",
       "BayesianPolinomialLinearRegression     1.667725e+01  8.291505e-01  1.577675   \n",
       "BayesianPolinomialLinearRegressionNew  1.424737e+01  8.510501e-01  1.005421   \n",
       "BayesianRBFLinearRegression            1.215460e+01  8.078928e-01  1.069023   \n",
       "RegressaoLinear                        5.508640e+66  8.583215e+66  0.633075   \n",
       "\n",
       "                                                 \n",
       "                                            std  \n",
       "modelo                                           \n",
       "BayesianLinearRegression               1.573512  \n",
       "BayesianLinearRegressionNew            0.453812  \n",
       "BayesianPolinomialLinearRegression     2.345819  \n",
       "BayesianPolinomialLinearRegressionNew  0.780328  \n",
       "BayesianRBFLinearRegression            0.485753  \n",
       "RegressaoLinear                        0.409580  "
      ]
     },
     "execution_count": 30,
     "metadata": {},
     "output_type": "execute_result"
    }
   ],
   "source": [
    "relatorio_condensado = \\\n",
    "relatorio_modelos.groupby(['modelo', 'tentativa']) \\\n",
    "                  .agg(['mean', 'std']) \\\n",
    "                  .reset_index() \\\n",
    "                  .sort_values(by=(metrica, 'mean')) \\\n",
    "                  .groupby('modelo').first()\n",
    "\n",
    "relatorio_condensado"
   ]
  },
  {
   "cell_type": "markdown",
   "id": "noted-sacramento",
   "metadata": {},
   "source": [
    "### Resultado Final"
   ]
  },
  {
   "cell_type": "code",
   "execution_count": 31,
   "id": "packed-ecuador",
   "metadata": {},
   "outputs": [
    {
     "data": {
      "text/html": [
       "<div>\n",
       "<style scoped>\n",
       "    .dataframe tbody tr th:only-of-type {\n",
       "        vertical-align: middle;\n",
       "    }\n",
       "\n",
       "    .dataframe tbody tr th {\n",
       "        vertical-align: top;\n",
       "    }\n",
       "\n",
       "    .dataframe thead th {\n",
       "        text-align: right;\n",
       "    }\n",
       "</style>\n",
       "<table border=\"1\" class=\"dataframe\">\n",
       "  <thead>\n",
       "    <tr style=\"text-align: right;\">\n",
       "      <th></th>\n",
       "      <th>BayesianLinearRegression</th>\n",
       "      <th>BayesianLinearRegressionNew</th>\n",
       "      <th>BayesianPolinomialLinearRegression</th>\n",
       "      <th>BayesianPolinomialLinearRegressionNew</th>\n",
       "      <th>BayesianRBFLinearRegression</th>\n",
       "      <th>RegressaoLinear</th>\n",
       "    </tr>\n",
       "  </thead>\n",
       "  <tbody>\n",
       "    <tr>\n",
       "      <th>alphaInit</th>\n",
       "      <td>6.375177e-01</td>\n",
       "      <td>NaN</td>\n",
       "      <td>0.005875</td>\n",
       "      <td>NaN</td>\n",
       "      <td>NaN</td>\n",
       "      <td>NaN</td>\n",
       "    </tr>\n",
       "    <tr>\n",
       "      <th>lambdaInit</th>\n",
       "      <td>1.000000e-07</td>\n",
       "      <td>NaN</td>\n",
       "      <td>0.063786</td>\n",
       "      <td>NaN</td>\n",
       "      <td>NaN</td>\n",
       "      <td>NaN</td>\n",
       "    </tr>\n",
       "    <tr>\n",
       "      <th>sig2_error</th>\n",
       "      <td>NaN</td>\n",
       "      <td>0.00001</td>\n",
       "      <td>NaN</td>\n",
       "      <td>0.000671</td>\n",
       "      <td>0.000010</td>\n",
       "      <td>NaN</td>\n",
       "    </tr>\n",
       "    <tr>\n",
       "      <th>order</th>\n",
       "      <td>NaN</td>\n",
       "      <td>NaN</td>\n",
       "      <td>4.000000</td>\n",
       "      <td>3.000000</td>\n",
       "      <td>NaN</td>\n",
       "      <td>NaN</td>\n",
       "    </tr>\n",
       "    <tr>\n",
       "      <th>mean_rbf_arbitrario</th>\n",
       "      <td>NaN</td>\n",
       "      <td>NaN</td>\n",
       "      <td>NaN</td>\n",
       "      <td>NaN</td>\n",
       "      <td>0.506195</td>\n",
       "      <td>NaN</td>\n",
       "    </tr>\n",
       "    <tr>\n",
       "      <th>lambda_rbf_arbitrario</th>\n",
       "      <td>NaN</td>\n",
       "      <td>NaN</td>\n",
       "      <td>NaN</td>\n",
       "      <td>NaN</td>\n",
       "      <td>1.000000</td>\n",
       "      <td>NaN</td>\n",
       "    </tr>\n",
       "  </tbody>\n",
       "</table>\n",
       "</div>"
      ],
      "text/plain": [
       "                       BayesianLinearRegression  BayesianLinearRegressionNew  \\\n",
       "alphaInit                          6.375177e-01                          NaN   \n",
       "lambdaInit                         1.000000e-07                          NaN   \n",
       "sig2_error                                  NaN                      0.00001   \n",
       "order                                       NaN                          NaN   \n",
       "mean_rbf_arbitrario                         NaN                          NaN   \n",
       "lambda_rbf_arbitrario                       NaN                          NaN   \n",
       "\n",
       "                       BayesianPolinomialLinearRegression  \\\n",
       "alphaInit                                        0.005875   \n",
       "lambdaInit                                       0.063786   \n",
       "sig2_error                                            NaN   \n",
       "order                                            4.000000   \n",
       "mean_rbf_arbitrario                                   NaN   \n",
       "lambda_rbf_arbitrario                                 NaN   \n",
       "\n",
       "                       BayesianPolinomialLinearRegressionNew  \\\n",
       "alphaInit                                                NaN   \n",
       "lambdaInit                                               NaN   \n",
       "sig2_error                                          0.000671   \n",
       "order                                               3.000000   \n",
       "mean_rbf_arbitrario                                      NaN   \n",
       "lambda_rbf_arbitrario                                    NaN   \n",
       "\n",
       "                       BayesianRBFLinearRegression  RegressaoLinear  \n",
       "alphaInit                                      NaN              NaN  \n",
       "lambdaInit                                     NaN              NaN  \n",
       "sig2_error                                0.000010              NaN  \n",
       "order                                          NaN              NaN  \n",
       "mean_rbf_arbitrario                       0.506195              NaN  \n",
       "lambda_rbf_arbitrario                     1.000000              NaN  "
      ]
     },
     "execution_count": 31,
     "metadata": {},
     "output_type": "execute_result"
    }
   ],
   "source": [
    "melhores_hiperparametros = {}\n",
    "\n",
    "for modelo, tentativa in relatorio_condensado[['tentativa']].reset_index().values:\n",
    "    resultado = (relatorio_modelos.modelo == modelo) & (relatorio_modelos.tentativa == tentativa)\n",
    "    melhores_hiperparametros[modelo] = relatorio_modelos[resultado].parametros.values[0]\n",
    "\n",
    "pd.DataFrame(melhores_hiperparametros)"
   ]
  },
  {
   "cell_type": "code",
   "execution_count": 32,
   "id": "seeing-evening",
   "metadata": {},
   "outputs": [
    {
     "name": "stderr",
     "output_type": "stream",
     "text": [
      "6it [00:01,  4.16it/s]\n"
     ]
    },
    {
     "data": {
      "text/html": [
       "<div>\n",
       "<style scoped>\n",
       "    .dataframe tbody tr th:only-of-type {\n",
       "        vertical-align: middle;\n",
       "    }\n",
       "\n",
       "    .dataframe tbody tr th {\n",
       "        vertical-align: top;\n",
       "    }\n",
       "\n",
       "    .dataframe thead th {\n",
       "        text-align: right;\n",
       "    }\n",
       "</style>\n",
       "<table border=\"1\" class=\"dataframe\">\n",
       "  <thead>\n",
       "    <tr style=\"text-align: right;\">\n",
       "      <th></th>\n",
       "      <th>modelo</th>\n",
       "      <th>parametros</th>\n",
       "      <th>rmse</th>\n",
       "      <th>nlpd</th>\n",
       "      <th>mape</th>\n",
       "    </tr>\n",
       "  </thead>\n",
       "  <tbody>\n",
       "    <tr>\n",
       "      <th>0</th>\n",
       "      <td>BayesianLinearRegression</td>\n",
       "      <td>{'alphaInit': 0.6375177174749428, 'lambdaInit'...</td>\n",
       "      <td>20237.068037</td>\n",
       "      <td>1.697965e+01</td>\n",
       "      <td>0.535715</td>\n",
       "    </tr>\n",
       "    <tr>\n",
       "      <th>1</th>\n",
       "      <td>BayesianLinearRegressionNew</td>\n",
       "      <td>{'sig2_error': 1e-05}</td>\n",
       "      <td>20236.797972</td>\n",
       "      <td>1.241098e+01</td>\n",
       "      <td>0.529435</td>\n",
       "    </tr>\n",
       "    <tr>\n",
       "      <th>2</th>\n",
       "      <td>BayesianPolinomialLinearRegression</td>\n",
       "      <td>{'alphaInit': 0.005874594306081417, 'lambdaIni...</td>\n",
       "      <td>20205.109178</td>\n",
       "      <td>1.693379e+01</td>\n",
       "      <td>0.687810</td>\n",
       "    </tr>\n",
       "    <tr>\n",
       "      <th>3</th>\n",
       "      <td>BayesianPolinomialLinearRegressionNew</td>\n",
       "      <td>{'sig2_error': 0.000671060563682353, 'order': ...</td>\n",
       "      <td>20200.236453</td>\n",
       "      <td>1.449207e+01</td>\n",
       "      <td>0.585839</td>\n",
       "    </tr>\n",
       "    <tr>\n",
       "      <th>4</th>\n",
       "      <td>BayesianRBFLinearRegression</td>\n",
       "      <td>{'sig2_error': 1e-05, 'mean_rbf_arbitrario': 0...</td>\n",
       "      <td>20380.679410</td>\n",
       "      <td>1.241384e+01</td>\n",
       "      <td>1.074137</td>\n",
       "    </tr>\n",
       "    <tr>\n",
       "      <th>5</th>\n",
       "      <td>RegressaoLinear</td>\n",
       "      <td>{}</td>\n",
       "      <td>20236.781599</td>\n",
       "      <td>2.047637e+68</td>\n",
       "      <td>0.530646</td>\n",
       "    </tr>\n",
       "  </tbody>\n",
       "</table>\n",
       "</div>"
      ],
      "text/plain": [
       "                                  modelo  \\\n",
       "0               BayesianLinearRegression   \n",
       "1            BayesianLinearRegressionNew   \n",
       "2     BayesianPolinomialLinearRegression   \n",
       "3  BayesianPolinomialLinearRegressionNew   \n",
       "4            BayesianRBFLinearRegression   \n",
       "5                        RegressaoLinear   \n",
       "\n",
       "                                          parametros          rmse  \\\n",
       "0  {'alphaInit': 0.6375177174749428, 'lambdaInit'...  20237.068037   \n",
       "1                              {'sig2_error': 1e-05}  20236.797972   \n",
       "2  {'alphaInit': 0.005874594306081417, 'lambdaIni...  20205.109178   \n",
       "3  {'sig2_error': 0.000671060563682353, 'order': ...  20200.236453   \n",
       "4  {'sig2_error': 1e-05, 'mean_rbf_arbitrario': 0...  20380.679410   \n",
       "5                                                 {}  20236.781599   \n",
       "\n",
       "           nlpd      mape  \n",
       "0  1.697965e+01  0.535715  \n",
       "1  1.241098e+01  0.529435  \n",
       "2  1.693379e+01  0.687810  \n",
       "3  1.449207e+01  0.585839  \n",
       "4  1.241384e+01  1.074137  \n",
       "5  2.047637e+68  0.530646  "
      ]
     },
     "execution_count": 32,
     "metadata": {},
     "output_type": "execute_result"
    }
   ],
   "source": [
    "relatorio_final = pd.DataFrame(columns=['modelo', 'parametros', 'rmse', 'nlpd', 'mape'])\n",
    "\n",
    "\n",
    "for i, (modelo, hiperparametros) in tqdm(enumerate(melhores_hiperparametros.items())):\n",
    "    Modelo, dominio = modelos[modelo]\n",
    "    resultado = treinar_modelo(Modelo, X_train, X_test, y_train, y_test, **hiperparametros)\n",
    "                                         \n",
    "    relatorio_final.loc[i] = resultado\n",
    "    \n",
    "\n",
    "# # Nome do arquivo\n",
    "# nomes_modelos = relatorio.modelo.unique()\n",
    "# nomes_modelos.sort()\n",
    "\n",
    "# nome_arquivo = f'resultados/final/{fold_externo}_{metrica}_{\"-\".join(nomes_modelos)}.csv'\n",
    "# relatorio.to_csv(nome_arquivo)\n",
    "relatorio_final"
   ]
  },
  {
   "cell_type": "code",
   "execution_count": 34,
   "id": "attached-wallpaper",
   "metadata": {},
   "outputs": [
    {
     "name": "stderr",
     "output_type": "stream",
     "text": [
      "0it [00:00, ?it/s]"
     ]
    },
    {
     "name": "stdout",
     "output_type": "stream",
     "text": [
      "Com rejeição\n"
     ]
    },
    {
     "name": "stderr",
     "output_type": "stream",
     "text": [
      "6it [00:00,  6.09it/s]\n"
     ]
    },
    {
     "data": {
      "text/html": [
       "<div>\n",
       "<style scoped>\n",
       "    .dataframe tbody tr th:only-of-type {\n",
       "        vertical-align: middle;\n",
       "    }\n",
       "\n",
       "    .dataframe tbody tr th {\n",
       "        vertical-align: top;\n",
       "    }\n",
       "\n",
       "    .dataframe thead th {\n",
       "        text-align: right;\n",
       "    }\n",
       "</style>\n",
       "<table border=\"1\" class=\"dataframe\">\n",
       "  <thead>\n",
       "    <tr style=\"text-align: right;\">\n",
       "      <th></th>\n",
       "      <th>modelo</th>\n",
       "      <th>parametros</th>\n",
       "      <th>rmse</th>\n",
       "      <th>nlpd</th>\n",
       "      <th>mape</th>\n",
       "    </tr>\n",
       "  </thead>\n",
       "  <tbody>\n",
       "    <tr>\n",
       "      <th>0</th>\n",
       "      <td>BayesianLinearRegression</td>\n",
       "      <td>{'alphaInit': 0.6375177174749428, 'lambdaInit'...</td>\n",
       "      <td>2552.545665</td>\n",
       "      <td>1.697958e+01</td>\n",
       "      <td>0.465938</td>\n",
       "    </tr>\n",
       "    <tr>\n",
       "      <th>1</th>\n",
       "      <td>BayesianLinearRegressionNew</td>\n",
       "      <td>{'sig2_error': 1e-05}</td>\n",
       "      <td>2552.502733</td>\n",
       "      <td>1.238954e+01</td>\n",
       "      <td>0.459691</td>\n",
       "    </tr>\n",
       "    <tr>\n",
       "      <th>2</th>\n",
       "      <td>BayesianPolinomialLinearRegression</td>\n",
       "      <td>{'alphaInit': 0.005874594306081417, 'lambdaIni...</td>\n",
       "      <td>2471.462753</td>\n",
       "      <td>1.693087e+01</td>\n",
       "      <td>0.631237</td>\n",
       "    </tr>\n",
       "    <tr>\n",
       "      <th>3</th>\n",
       "      <td>BayesianPolinomialLinearRegressionNew</td>\n",
       "      <td>{'sig2_error': 0.000671060563682353, 'order': ...</td>\n",
       "      <td>2472.027234</td>\n",
       "      <td>1.449038e+01</td>\n",
       "      <td>0.527028</td>\n",
       "    </tr>\n",
       "    <tr>\n",
       "      <th>4</th>\n",
       "      <td>BayesianRBFLinearRegression</td>\n",
       "      <td>{'sig2_error': 1e-05, 'mean_rbf_arbitrario': 0...</td>\n",
       "      <td>3311.434825</td>\n",
       "      <td>1.239194e+01</td>\n",
       "      <td>0.968831</td>\n",
       "    </tr>\n",
       "    <tr>\n",
       "      <th>5</th>\n",
       "      <td>RegressaoLinear</td>\n",
       "      <td>{}</td>\n",
       "      <td>2552.460128</td>\n",
       "      <td>3.257526e+66</td>\n",
       "      <td>0.460938</td>\n",
       "    </tr>\n",
       "  </tbody>\n",
       "</table>\n",
       "</div>"
      ],
      "text/plain": [
       "                                  modelo  \\\n",
       "0               BayesianLinearRegression   \n",
       "1            BayesianLinearRegressionNew   \n",
       "2     BayesianPolinomialLinearRegression   \n",
       "3  BayesianPolinomialLinearRegressionNew   \n",
       "4            BayesianRBFLinearRegression   \n",
       "5                        RegressaoLinear   \n",
       "\n",
       "                                          parametros         rmse  \\\n",
       "0  {'alphaInit': 0.6375177174749428, 'lambdaInit'...  2552.545665   \n",
       "1                              {'sig2_error': 1e-05}  2552.502733   \n",
       "2  {'alphaInit': 0.005874594306081417, 'lambdaIni...  2471.462753   \n",
       "3  {'sig2_error': 0.000671060563682353, 'order': ...  2472.027234   \n",
       "4  {'sig2_error': 1e-05, 'mean_rbf_arbitrario': 0...  3311.434825   \n",
       "5                                                 {}  2552.460128   \n",
       "\n",
       "           nlpd      mape  \n",
       "0  1.697958e+01  0.465938  \n",
       "1  1.238954e+01  0.459691  \n",
       "2  1.693087e+01  0.631237  \n",
       "3  1.449038e+01  0.527028  \n",
       "4  1.239194e+01  0.968831  \n",
       "5  3.257526e+66  0.460938  "
      ]
     },
     "execution_count": 34,
     "metadata": {},
     "output_type": "execute_result"
    }
   ],
   "source": [
    "print('Com rejeição')\n",
    "relatorio_final = pd.DataFrame(columns=['modelo', 'parametros', 'rmse', 'nlpd', 'mape'])\n",
    "\n",
    "for i, (modelo, hiperparametros) in tqdm(enumerate(melhores_hiperparametros.items())):\n",
    "    Modelo, dominio = modelos[modelo]\n",
    "    resultado = treinar_modelo(Modelo, X_train, X_test_sem_anomalia, y_train, y_test_sem_anomalia, **hiperparametros)\n",
    "                                         \n",
    "    relatorio_final.loc[i] = resultado\n",
    "    \n",
    "\n",
    "# # Nome do arquivo\n",
    "# nomes_modelos = relatorio.modelo.unique()\n",
    "# nomes_modelos.sort()\n",
    "\n",
    "# nome_arquivo = f'resultados/final/{fold_externo}_{metrica}_{\"-\".join(nomes_modelos)}.csv'\n",
    "# relatorio.to_csv(nome_arquivo)\n",
    "relatorio_final"
   ]
  }
 ],
 "metadata": {
  "kernelspec": {
   "display_name": "Python 3",
   "language": "python",
   "name": "python3"
  },
  "language_info": {
   "codemirror_mode": {
    "name": "ipython",
    "version": 3
   },
   "file_extension": ".py",
   "mimetype": "text/x-python",
   "name": "python",
   "nbconvert_exporter": "python",
   "pygments_lexer": "ipython3",
   "version": "3.8.5"
  },
  "toc-autonumbering": true,
  "toc-showtags": false
 },
 "nbformat": 4,
 "nbformat_minor": 5
}
