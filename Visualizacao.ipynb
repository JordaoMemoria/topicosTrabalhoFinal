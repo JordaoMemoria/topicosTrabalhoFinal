{
 "cells": [
  {
   "cell_type": "code",
   "execution_count": 12,
   "id": "criminal-society",
   "metadata": {},
   "outputs": [],
   "source": [
    "# Gráficos\n",
    "import matplotlib as mpl\n",
    "import matplotlib.pyplot as plt\n",
    " \n",
    "import seaborn as sns\n",
    "sns.set_theme()"
   ]
  },
  {
   "cell_type": "code",
   "execution_count": 16,
   "id": "efficient-ranch",
   "metadata": {},
   "outputs": [],
   "source": [
    "# Ajustes nas configurações padrões dos plots\n",
    "mpl.rcParams['figure.figsize'] = (12, 6)\n",
    "mpl.rcParams['font.size'] = 14\n",
    "mpl.rcParams['legend.fontsize'] = 14"
   ]
  },
  {
   "cell_type": "code",
   "execution_count": 17,
   "id": "unknown-holly",
   "metadata": {},
   "outputs": [],
   "source": [
    "import pandas as pd\n",
    "\n",
    "dataset = pd.read_csv('housesToRentProcessed.csv')"
   ]
  },
  {
   "cell_type": "code",
   "execution_count": 25,
   "id": "spiritual-audit",
   "metadata": {},
   "outputs": [
    {
     "data": {
      "text/html": [
       "<div>\n",
       "<style scoped>\n",
       "    .dataframe tbody tr th:only-of-type {\n",
       "        vertical-align: middle;\n",
       "    }\n",
       "\n",
       "    .dataframe tbody tr th {\n",
       "        vertical-align: top;\n",
       "    }\n",
       "\n",
       "    .dataframe thead th {\n",
       "        text-align: right;\n",
       "    }\n",
       "</style>\n",
       "<table border=\"1\" class=\"dataframe\">\n",
       "  <thead>\n",
       "    <tr style=\"text-align: right;\">\n",
       "      <th></th>\n",
       "      <th>São Paulo</th>\n",
       "      <th>Porto Alegre</th>\n",
       "      <th>Rio de Janeiro</th>\n",
       "      <th>Campinas</th>\n",
       "      <th>Belo Horizonte</th>\n",
       "      <th>area</th>\n",
       "      <th>rooms</th>\n",
       "      <th>bathroom</th>\n",
       "      <th>parking spaces</th>\n",
       "      <th>floor</th>\n",
       "      <th>isHouse</th>\n",
       "      <th>animal</th>\n",
       "      <th>furniture</th>\n",
       "      <th>y con + alu</th>\n",
       "    </tr>\n",
       "  </thead>\n",
       "  <tbody>\n",
       "    <tr>\n",
       "      <th>count</th>\n",
       "      <td>10692.000000</td>\n",
       "      <td>10692.000000</td>\n",
       "      <td>10692.000000</td>\n",
       "      <td>10692.000000</td>\n",
       "      <td>10692.000000</td>\n",
       "      <td>10692.000000</td>\n",
       "      <td>10692.000000</td>\n",
       "      <td>10692.000000</td>\n",
       "      <td>10692.000000</td>\n",
       "      <td>10692.000000</td>\n",
       "      <td>10692.000000</td>\n",
       "      <td>10692.000000</td>\n",
       "      <td>10692.000000</td>\n",
       "      <td>1.069200e+04</td>\n",
       "    </tr>\n",
       "    <tr>\n",
       "      <th>mean</th>\n",
       "      <td>0.550599</td>\n",
       "      <td>0.111579</td>\n",
       "      <td>0.140385</td>\n",
       "      <td>0.079779</td>\n",
       "      <td>0.117658</td>\n",
       "      <td>149.217920</td>\n",
       "      <td>2.506079</td>\n",
       "      <td>2.236813</td>\n",
       "      <td>1.609147</td>\n",
       "      <td>5.298167</td>\n",
       "      <td>0.230172</td>\n",
       "      <td>0.777778</td>\n",
       "      <td>0.243734</td>\n",
       "      <td>5.070269e+03</td>\n",
       "    </tr>\n",
       "    <tr>\n",
       "      <th>std</th>\n",
       "      <td>0.497456</td>\n",
       "      <td>0.314862</td>\n",
       "      <td>0.347403</td>\n",
       "      <td>0.270964</td>\n",
       "      <td>0.322218</td>\n",
       "      <td>537.016942</td>\n",
       "      <td>1.171266</td>\n",
       "      <td>1.407198</td>\n",
       "      <td>1.589521</td>\n",
       "      <td>5.888747</td>\n",
       "      <td>0.420963</td>\n",
       "      <td>0.415759</td>\n",
       "      <td>0.429354</td>\n",
       "      <td>1.608157e+04</td>\n",
       "    </tr>\n",
       "    <tr>\n",
       "      <th>min</th>\n",
       "      <td>0.000000</td>\n",
       "      <td>0.000000</td>\n",
       "      <td>0.000000</td>\n",
       "      <td>0.000000</td>\n",
       "      <td>0.000000</td>\n",
       "      <td>11.000000</td>\n",
       "      <td>1.000000</td>\n",
       "      <td>1.000000</td>\n",
       "      <td>0.000000</td>\n",
       "      <td>1.000000</td>\n",
       "      <td>0.000000</td>\n",
       "      <td>0.000000</td>\n",
       "      <td>0.000000</td>\n",
       "      <td>4.800000e+02</td>\n",
       "    </tr>\n",
       "    <tr>\n",
       "      <th>25%</th>\n",
       "      <td>0.000000</td>\n",
       "      <td>0.000000</td>\n",
       "      <td>0.000000</td>\n",
       "      <td>0.000000</td>\n",
       "      <td>0.000000</td>\n",
       "      <td>56.000000</td>\n",
       "      <td>2.000000</td>\n",
       "      <td>1.000000</td>\n",
       "      <td>0.000000</td>\n",
       "      <td>1.000000</td>\n",
       "      <td>0.000000</td>\n",
       "      <td>1.000000</td>\n",
       "      <td>0.000000</td>\n",
       "      <td>1.980000e+03</td>\n",
       "    </tr>\n",
       "    <tr>\n",
       "      <th>50%</th>\n",
       "      <td>1.000000</td>\n",
       "      <td>0.000000</td>\n",
       "      <td>0.000000</td>\n",
       "      <td>0.000000</td>\n",
       "      <td>0.000000</td>\n",
       "      <td>90.000000</td>\n",
       "      <td>2.000000</td>\n",
       "      <td>2.000000</td>\n",
       "      <td>1.000000</td>\n",
       "      <td>3.000000</td>\n",
       "      <td>0.000000</td>\n",
       "      <td>1.000000</td>\n",
       "      <td>0.000000</td>\n",
       "      <td>3.379000e+03</td>\n",
       "    </tr>\n",
       "    <tr>\n",
       "      <th>75%</th>\n",
       "      <td>1.000000</td>\n",
       "      <td>0.000000</td>\n",
       "      <td>0.000000</td>\n",
       "      <td>0.000000</td>\n",
       "      <td>0.000000</td>\n",
       "      <td>182.000000</td>\n",
       "      <td>3.000000</td>\n",
       "      <td>3.000000</td>\n",
       "      <td>2.000000</td>\n",
       "      <td>8.000000</td>\n",
       "      <td>0.000000</td>\n",
       "      <td>1.000000</td>\n",
       "      <td>0.000000</td>\n",
       "      <td>6.250000e+03</td>\n",
       "    </tr>\n",
       "    <tr>\n",
       "      <th>max</th>\n",
       "      <td>1.000000</td>\n",
       "      <td>1.000000</td>\n",
       "      <td>1.000000</td>\n",
       "      <td>1.000000</td>\n",
       "      <td>1.000000</td>\n",
       "      <td>46335.000000</td>\n",
       "      <td>13.000000</td>\n",
       "      <td>10.000000</td>\n",
       "      <td>12.000000</td>\n",
       "      <td>301.000000</td>\n",
       "      <td>1.000000</td>\n",
       "      <td>1.000000</td>\n",
       "      <td>1.000000</td>\n",
       "      <td>1.119790e+06</td>\n",
       "    </tr>\n",
       "  </tbody>\n",
       "</table>\n",
       "</div>"
      ],
      "text/plain": [
       "          São Paulo  Porto Alegre  Rio de Janeiro      Campinas  \\\n",
       "count  10692.000000  10692.000000    10692.000000  10692.000000   \n",
       "mean       0.550599      0.111579        0.140385      0.079779   \n",
       "std        0.497456      0.314862        0.347403      0.270964   \n",
       "min        0.000000      0.000000        0.000000      0.000000   \n",
       "25%        0.000000      0.000000        0.000000      0.000000   \n",
       "50%        1.000000      0.000000        0.000000      0.000000   \n",
       "75%        1.000000      0.000000        0.000000      0.000000   \n",
       "max        1.000000      1.000000        1.000000      1.000000   \n",
       "\n",
       "       Belo Horizonte          area         rooms      bathroom  \\\n",
       "count    10692.000000  10692.000000  10692.000000  10692.000000   \n",
       "mean         0.117658    149.217920      2.506079      2.236813   \n",
       "std          0.322218    537.016942      1.171266      1.407198   \n",
       "min          0.000000     11.000000      1.000000      1.000000   \n",
       "25%          0.000000     56.000000      2.000000      1.000000   \n",
       "50%          0.000000     90.000000      2.000000      2.000000   \n",
       "75%          0.000000    182.000000      3.000000      3.000000   \n",
       "max          1.000000  46335.000000     13.000000     10.000000   \n",
       "\n",
       "       parking spaces         floor       isHouse        animal     furniture  \\\n",
       "count    10692.000000  10692.000000  10692.000000  10692.000000  10692.000000   \n",
       "mean         1.609147      5.298167      0.230172      0.777778      0.243734   \n",
       "std          1.589521      5.888747      0.420963      0.415759      0.429354   \n",
       "min          0.000000      1.000000      0.000000      0.000000      0.000000   \n",
       "25%          0.000000      1.000000      0.000000      1.000000      0.000000   \n",
       "50%          1.000000      3.000000      0.000000      1.000000      0.000000   \n",
       "75%          2.000000      8.000000      0.000000      1.000000      0.000000   \n",
       "max         12.000000    301.000000      1.000000      1.000000      1.000000   \n",
       "\n",
       "        y con + alu  \n",
       "count  1.069200e+04  \n",
       "mean   5.070269e+03  \n",
       "std    1.608157e+04  \n",
       "min    4.800000e+02  \n",
       "25%    1.980000e+03  \n",
       "50%    3.379000e+03  \n",
       "75%    6.250000e+03  \n",
       "max    1.119790e+06  "
      ]
     },
     "execution_count": 25,
     "metadata": {},
     "output_type": "execute_result"
    }
   ],
   "source": [
    "dataset.describe()"
   ]
  },
  {
   "cell_type": "code",
   "execution_count": 39,
   "id": "sharp-brighton",
   "metadata": {},
   "outputs": [
    {
     "data": {
      "text/plain": [
       "Text(0, 0.5, 'Preço (em milhão)')"
      ]
     },
     "execution_count": 39,
     "metadata": {},
     "output_type": "execute_result"
    },
    {
     "data": {
      "image/png": "[encoded data removed]",
      "text/plain": [
       "<Figure size 864x432 with 1 Axes>"
      ]
     },
     "metadata": {},
     "output_type": "display_data"
    }
   ],
   "source": [
    "#ax = dataset.sort_values(by='y con + alu').reset_index()[['y con + alu']].plot(title='Distribuição do aluguel das casa')\n",
    "ax = dataset[['y con + alu']].plot(title='Distribuição do aluguel das casas')\n",
    "ax.set_xlabel(\"Índice da casa\")\n",
    "ax.set_ylabel(\"Preço (em milhão)\")"
   ]
  },
  {
   "cell_type": "code",
   "execution_count": 40,
   "id": "traditional-orientation",
   "metadata": {},
   "outputs": [
    {
     "data": {
      "text/plain": [
       "<AxesSubplot:>"
      ]
     },
     "execution_count": 40,
     "metadata": {},
     "output_type": "execute_result"
    },
    {
     "data": {
      "image/png": "[encoded data removed]",
      "text/plain": [
       "<Figure size 864x432 with 1 Axes>"
      ]
     },
     "metadata": {},
     "output_type": "display_data"
    }
   ],
   "source": [
    "dataset[['area']].plot()"
   ]
  },
  {
   "cell_type": "code",
   "execution_count": 44,
   "id": "important-label",
   "metadata": {},
   "outputs": [
    {
     "data": {
      "text/plain": [
       "<AxesSubplot:>"
      ]
     },
     "execution_count": 44,
     "metadata": {},
     "output_type": "execute_result"
    },
    {
     "data": {
      "image/png": "[encoded data removed]",
      "text/plain": [
       "<Figure size 864x432 with 1 Axes>"
      ]
     },
     "metadata": {},
     "output_type": "display_data"
    }
   ],
   "source": [
    "(dataset['y con + alu']/dataset['area']).plot()"
   ]
  }
 ],
 "metadata": {
  "kernelspec": {
   "display_name": "Python 3",
   "language": "python",
   "name": "python3"
  },
  "language_info": {
   "codemirror_mode": {
    "name": "ipython",
    "version": 3
   },
   "file_extension": ".py",
   "mimetype": "text/x-python",
   "name": "python",
   "nbconvert_exporter": "python",
   "pygments_lexer": "ipython3",
   "version": "3.8.5"
  }
 },
 "nbformat": 4,
 "nbformat_minor": 5
}
